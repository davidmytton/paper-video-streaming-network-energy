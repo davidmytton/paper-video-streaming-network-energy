{
 "cells": [
  {
   "cell_type": "markdown",
   "source": "# The network energy intensity of video streaming over Wi-Fi and 4G\n\n**Authors:** David Mytton, Iain Staffell, Malte Jansen.\n\n**Institution:** Centre for Environmental Policy, Imperial College London, London, SW7 1NE, UK.\n\n**Correspondence:** <david@davidmytton.co.uk>.\n\n## Summary\n\n> Between 2010-2018 internet traffic grew ten-fold and is expected to double again by 2022. With video streaming making up 60% of that traffic, 65% on mobile, it is important to understand its energy consumption. Here we develop an approach to assessing network energy consumption by collecting internet routing observations from volunteers, provide updated figures for the energy consumption of different sections of the internet, then calculate the network energy intensity of video streaming. We estimate the 2019 network energy footprint of the UK’s 39 billion hours of video streaming at 4.2 TWh, or 1.3% of total electricity generation. We show that the network energy intensity of video streaming over Wi-Fi is 0.091 kWh/hour, compared to 0.207 kWh/hour over 4G mobile internet.\n\n## This notebook\n\nThis notebook walks through the methodology and calculations as described in the accompanying manuscript.",
   "metadata": {
    "tags": [],
    "cell_id": "00000-3fb836cd-b77a-4f3b-8349-7163711ac9f2",
    "deepnote_cell_type": "markdown"
   }
  },
  {
   "cell_type": "markdown",
   "source": "#### Imports",
   "metadata": {
    "tags": [],
    "cell_id": "00001-e815ec23-4f84-4d8a-b5ca-fb7ffa41bf3d",
    "deepnote_cell_type": "markdown"
   }
  },
  {
   "cell_type": "code",
   "metadata": {
    "tags": [],
    "cell_id": "00002-4822a9c5-9c0c-431b-927a-b233524d49fd",
    "deepnote_to_be_reexecuted": false,
    "source_hash": "7252923d",
    "execution_start": 1621071676042,
    "execution_millis": 2863,
    "output_cleared": true,
    "deepnote_cell_type": "code"
   },
   "source": "%pip install -r requirements.txt\n\nimport numpy as np\nimport pandas as pd\nimport pint\nfrom pint import UnitRegistry\n\nureg = UnitRegistry()",
   "execution_count": 1,
   "outputs": []
  },
  {
   "cell_type": "markdown",
   "source": "## Internet video traffic\n\nWe assume YouTube is representative of all streaming because it is the most watched streaming service, and so has the most data available. Using YouTube as a case study, we can calculate the total amount of time, data volume, and therefore energy consumption of video streaming in general.\n\nWe therefore start with an assessment of YouTube.\n\n### YouTube watch time\n\nYouTube does not publish statistics so we start with watching figures from the advertising industry<sup>1</sup>, Ofcom<sup>2</sup>, and Netflix<sup>3</sup>.",
   "metadata": {
    "tags": [],
    "cell_id": "00000-e318a7fc-9d03-46bc-bcb8-6bc34633fd48",
    "deepnote_cell_type": "markdown"
   }
  },
  {
   "cell_type": "code",
   "metadata": {
    "tags": [],
    "cell_id": "00003-6b27801c-c0c9-4d7e-9390-76d571fe1e32",
    "deepnote_to_be_reexecuted": false,
    "source_hash": "11215234",
    "execution_start": 1621071678912,
    "execution_millis": 4,
    "deepnote_cell_type": "code"
   },
   "source": "# Dec 2019 UK YouTube minutes (mobile devices)\nyoutubeTimeDecDevices = 32099000000 * ureg.minutes # Source [1] (Pinpoint: pg 30)\n\n# % watched YouTube (mobile devices)\nyoutubeWatchPercentageMobileDevices = 0.73 # 73% Source [2] (Pinpoint: Figure 4.10, pg116)\n\n# % watched YouTube (mobile networks)\nyoutubeWatchPercentageMobileNetworks = 0.25 # 25% Source [3]",
   "execution_count": 2,
   "outputs": []
  },
  {
   "cell_type": "markdown",
   "source": "Using the total annual watch minutes, the total time watched on mobile devices and the total time watched on mobile networks, we can calculate the total time spent on Wi-Fi and non-mobile devices.",
   "metadata": {
    "tags": [],
    "cell_id": "00003-f6c26b12-b6ba-4635-a05a-dc2919b8790b",
    "deepnote_cell_type": "markdown"
   }
  },
  {
   "cell_type": "code",
   "metadata": {
    "tags": [],
    "cell_id": "00000-a000e3a1-9196-456b-87e2-092a6a376c59",
    "deepnote_to_be_reexecuted": false,
    "source_hash": "51d12bf5",
    "execution_start": 1621071678918,
    "execution_millis": 17,
    "is_code_hidden": false,
    "output_cleared": false,
    "deepnote_cell_type": "code"
   },
   "source": "# Assume Dec 2019 figure is representative of the full year\nyoutubeTimeAnnualDevices = youtubeTimeDecDevices * 12\n\n# Annual UK YouTube minutes (all networks, all devices)\nyoutubeTimeAnnualAllNetworksAllDevices = youtubeTimeAnnualDevices / youtubeWatchPercentageMobileDevices\nprint(f'Annual UK YouTube minutes (all networks, all devices): {youtubeTimeAnnualAllNetworksAllDevices:,.0f}')\n\nprint(f'Annual UK YouTube minutes (mobile devices): {youtubeTimeAnnualAllNetworksAllDevices:,.0f}')\n\n# Annual UK YouTube minutes (mobile networks)\nyoutubeTimeAnnualMobileNetworks = youtubeWatchPercentageMobileNetworks * youtubeTimeAnnualAllNetworksAllDevices\nprint(f'Annual UK YouTube minutes (mobile networks): {youtubeTimeAnnualMobileNetworks:,.0f}')\n\n# Annual UK YouTube minutes (Wi-fi networks, all devices)\nyoutubeTimeAnnualWifiAllDevices = youtubeTimeAnnualAllNetworksAllDevices - youtubeTimeAnnualMobileNetworks\nprint(f'Annual UK YouTube minutes (Wi-Fi networks, all devices): {youtubeTimeAnnualWifiAllDevices:,.0f}')",
   "execution_count": 3,
   "outputs": [
    {
     "name": "stdout",
     "text": "Annual UK YouTube minutes (all networks, all devices): 527,654,794,521 minute\nAnnual UK YouTube minutes (mobile devices): 527,654,794,521 minute\nAnnual UK YouTube minutes (mobile networks): 131,913,698,630 minute\nAnnual UK YouTube minutes (Wi-Fi networks, all devices): 395,741,095,890 minute\n",
     "output_type": "stream"
    }
   ]
  },
  {
   "cell_type": "markdown",
   "source": "### YouTube data volume\n\nThe amount of data transmitted during a single YouTube video streaming session varies based on factors such as device type, screen size, video resolution, framerate, bit rate, network speed and which formats the video was encoded into. \n\nFor each video quality setting, we take the mean average of the range of values reported in an observational assessment of 1 hour of streaming produced for an Android website<sup>4</sup>. In this assessment, data volume was recorded using three separate tools: Android's built-in data monitoring, Google's Datally app and the GlassWire data monitoring app.",
   "metadata": {
    "tags": [],
    "cell_id": "00005-5109376c-23f4-4502-9c09-bedbe49e0df6",
    "deepnote_cell_type": "markdown"
   }
  },
  {
   "cell_type": "code",
   "metadata": {
    "tags": [],
    "cell_id": "00006-303f842c-c29a-4e22-9252-95664cd37608",
    "deepnote_to_be_reexecuted": false,
    "source_hash": "d2407dc4",
    "execution_start": 1621071678932,
    "execution_millis": 16,
    "deepnote_cell_type": "code"
   },
   "source": "dataVolume = pd.DataFrame({\n    480: [0.48 * ureg.gigabyte, 0.66 * ureg.gigabyte], # 480p SD [min, max]\n    720: [1.2 * ureg.gigabyte, 2.7 * ureg.gigabyte], # 720p HD [min ,max]\n    1080: [2.5 * ureg.gigabyte, 4.1 * ureg.gigabyte], # 1080p FHD [min ,max]\n    1440: [2.7 * ureg.gigabyte, 8.1 * ureg.gigabyte], # 1440p QHD [min ,max]\n    2160: [5.5 * ureg.gigabyte, 23.0 * ureg.gigabyte], # 2160p UHD 4k [min ,max]\n})",
   "execution_count": 4,
   "outputs": [
    {
     "name": "stderr",
     "text": "/shared-libs/python3.9/py/lib/python3.9/site-packages/pandas/core/dtypes/cast.py:1638: UnitStrippedWarning: The unit of the quantity is stripped when downcasting to ndarray.\n  result[:] = values\n",
     "output_type": "stream"
    }
   ]
  },
  {
   "cell_type": "markdown",
   "source": "### Video traffic\n\nWe need to know how much traffic is from YouTube and video in general for both mobile and non-mobile.",
   "metadata": {
    "tags": [],
    "cell_id": "00009-b7435b0f-8934-4d52-a74b-fc0b8bf2f31b",
    "deepnote_cell_type": "markdown"
   }
  },
  {
   "cell_type": "code",
   "metadata": {
    "tags": [],
    "cell_id": "00010-34d64cb7-08a3-4536-8943-56e4517aa3d9",
    "deepnote_to_be_reexecuted": false,
    "source_hash": "ee31422a",
    "execution_start": 1621071678939,
    "execution_millis": 3,
    "deepnote_cell_type": "code"
   },
   "source": "internetTrafficYouTube = 0.118 # 11.8% Source [5] (Pinpoint: pg12)\ninternetTrafficVideo = 0.60 # 60% Source [5] (Pinpoint: pg6)\nmobileTrafficYouTube = 0.271 # 27.1% Source [6] (Pinpoint: pg9)\nmobileTrafficVideo = 0.655 # 65.5% Source [6] (Pinpoint: pg5)",
   "execution_count": 5,
   "outputs": []
  },
  {
   "cell_type": "markdown",
   "source": "## Video streaming watch time & data volume\n\nUsing the figures above, we calculate the total annual time spent and associated data volume for YouTube.\n\nWe assume mobile traffic is all 4G and non-mobile traffic is all Wi-Fi because 97% of UK premises have access to decent fixed (at least 10 Mbit/s) and 4G (at least 2 Mbit/s) services, 91% of geographic areas of the UK are able to receive 4G data service from at least one operator, and 4G carries 90% of UK mobile data traffic<sup>7</sup>. 3G connectivity is excluded because it carries only a small proportion of data traffic.\n\nWe assume the default video quality is 720p High Definition (HD) because during the 2020 Coronavirus pandemic, the default was reduced to 480p Standard Definition (SD)<sup>8</sup>. The reference year for this assessment is 2019.",
   "metadata": {
    "tags": [],
    "cell_id": "00011-0c533d04-ae82-4f5c-ad19-b7c679fdbac5",
    "deepnote_cell_type": "markdown"
   }
  },
  {
   "cell_type": "code",
   "metadata": {
    "tags": [],
    "cell_id": "00012-ad305ee0-e5a9-4f10-b28f-0a936a32ef63",
    "deepnote_to_be_reexecuted": false,
    "source_hash": "24a7c2d3",
    "execution_start": 1621071678979,
    "execution_millis": 0,
    "deepnote_cell_type": "code"
   },
   "source": "# 720p HD video quality\nvideoQuality = 720",
   "execution_count": 6,
   "outputs": []
  },
  {
   "cell_type": "markdown",
   "source": "### YouTube",
   "metadata": {
    "tags": [],
    "cell_id": "00013-fc45c8e4-7912-4e22-ac07-0f2fc4639805",
    "deepnote_cell_type": "markdown"
   }
  },
  {
   "cell_type": "code",
   "metadata": {
    "tags": [],
    "cell_id": "00014-1f43da12-8955-47e2-a085-dc8772e24195",
    "deepnote_to_be_reexecuted": false,
    "source_hash": "f8677e18",
    "execution_start": 1621071678980,
    "execution_millis": 12,
    "output_cleared": false,
    "deepnote_cell_type": "code"
   },
   "source": "# Tidy up the calculations into an easily readable data frame\nyoutube = pd.DataFrame({\n    'Time': {\n        '4G': youtubeTimeAnnualMobileNetworks,\n        'Wi-Fi': youtubeTimeAnnualWifiAllDevices,\n        'Total': youtubeTimeAnnualMobileNetworks + youtubeTimeAnnualWifiAllDevices,\n    },\n    'Data': {\n        '4G': youtubeTimeAnnualMobileNetworks * dataVolume[videoQuality].values.mean(),\n        'Wi-Fi': youtubeTimeAnnualWifiAllDevices * dataVolume[videoQuality].values.mean(),\n        'Total': (youtubeTimeAnnualMobileNetworks * dataVolume[videoQuality].values.mean()) + (youtubeTimeAnnualWifiAllDevices * dataVolume[videoQuality].values.mean()),\n    }\n})\n\n# Format nicely for display\nyoutubeDisplay = pd.DataFrame({\n    'Time': {\n        '4G': f'{youtube[\"Time\"][\"4G\"].to(\"hour\"):,.0f} ({youtube[\"Time\"][\"4G\"].to(\"hour\").to_compact().magnitude:,.1f} bn)',\n        'Wi-Fi': f'{youtube[\"Time\"][\"Wi-Fi\"].to(\"hour\"):,.0f} ({youtube[\"Time\"][\"Wi-Fi\"].to(\"hour\").to_compact().magnitude:,.1f} bn)',\n        'Total': f'{youtube[\"Time\"][\"Total\"].to(\"hour\"):,.0f} ({youtube[\"Time\"][\"Total\"].to(\"hour\").to_compact().magnitude:,.1f} bn)',\n\n    },\n    'Data': {\n        '4G': f'{youtube[\"Data\"][\"4G\"].to(\"gigabyte hour\"):,.0f~H} ({youtube[\"Data\"][\"4G\"].to(\"exabyte hour\"):,.1f~H})',\n        'Wi-Fi': f'{youtube[\"Data\"][\"Wi-Fi\"].to(\"gigabyte hour\"):,.0f~H} ({youtube[\"Data\"][\"Wi-Fi\"].to(\"exabyte hour\"):,.1f~H})',\n        'Total': f'{youtube[\"Data\"][\"Total\"].to(\"gigabyte hour\"):,.0f~H} ({youtube[\"Data\"][\"Total\"].to(\"exabyte hour\"):,.1f~H})',\n\n    }\n})\nyoutubeDisplay",
   "execution_count": 7,
   "outputs": [
    {
     "output_type": "execute_result",
     "execution_count": 7,
     "data": {
      "application/vnd.deepnote.dataframe.v2+json": {
       "row_count": 3,
       "column_count": 2,
       "columns": [
        {
         "name": "Time",
         "dtype": "object",
         "stats": {
          "unique_count": 3,
          "nan_count": 0,
          "categories": [
           {
            "name": "2,198,561,644 hour (2.2 bn)",
            "count": 1
           },
           {
            "name": "6,595,684,932 hour (6.6 bn)",
            "count": 1
           },
           {
            "name": "8,794,246,575 hour (8.8 bn)",
            "count": 1
           }
          ]
         }
        },
        {
         "name": "Data",
         "dtype": "object",
         "stats": {
          "unique_count": 3,
          "nan_count": 0,
          "categories": [
           {
            "name": "4,287,195,205 GB hr (4.3 EB hr)",
            "count": 1
           },
           {
            "name": "12,861,585,616 GB hr (12.9 EB hr)",
            "count": 1
           },
           {
            "name": "17,148,780,822 GB hr (17.1 EB hr)",
            "count": 1
           }
          ]
         }
        },
        {
         "name": "_deepnote_index_column",
         "dtype": "object"
        }
       ],
       "rows_top": [
        {
         "Time": "2,198,561,644 hour (2.2 bn)",
         "Data": "4,287,195,205 GB hr (4.3 EB hr)",
         "_deepnote_index_column": "4G"
        },
        {
         "Time": "6,595,684,932 hour (6.6 bn)",
         "Data": "12,861,585,616 GB hr (12.9 EB hr)",
         "_deepnote_index_column": "Wi-Fi"
        },
        {
         "Time": "8,794,246,575 hour (8.8 bn)",
         "Data": "17,148,780,822 GB hr (17.1 EB hr)",
         "_deepnote_index_column": "Total"
        }
       ],
       "rows_bottom": null
      },
      "text/plain": "                              Time                               Data\n4G     2,198,561,644 hour (2.2 bn)    4,287,195,205 GB hr (4.3 EB hr)\nWi-Fi  6,595,684,932 hour (6.6 bn)  12,861,585,616 GB hr (12.9 EB hr)\nTotal  8,794,246,575 hour (8.8 bn)  17,148,780,822 GB hr (17.1 EB hr)",
      "text/html": "<div>\n<style scoped>\n    .dataframe tbody tr th:only-of-type {\n        vertical-align: middle;\n    }\n\n    .dataframe tbody tr th {\n        vertical-align: top;\n    }\n\n    .dataframe thead th {\n        text-align: right;\n    }\n</style>\n<table border=\"1\" class=\"dataframe\">\n  <thead>\n    <tr style=\"text-align: right;\">\n      <th></th>\n      <th>Time</th>\n      <th>Data</th>\n    </tr>\n  </thead>\n  <tbody>\n    <tr>\n      <th>4G</th>\n      <td>2,198,561,644 hour (2.2 bn)</td>\n      <td>4,287,195,205 GB hr (4.3 EB hr)</td>\n    </tr>\n    <tr>\n      <th>Wi-Fi</th>\n      <td>6,595,684,932 hour (6.6 bn)</td>\n      <td>12,861,585,616 GB hr (12.9 EB hr)</td>\n    </tr>\n    <tr>\n      <th>Total</th>\n      <td>8,794,246,575 hour (8.8 bn)</td>\n      <td>17,148,780,822 GB hr (17.1 EB hr)</td>\n    </tr>\n  </tbody>\n</table>\n</div>"
     },
     "metadata": {}
    }
   ]
  },
  {
   "cell_type": "markdown",
   "source": "#### Validation by comparison\n\nAn Ofcom survey<sup>2</sup> reported the number of unique visitors to YouTube out of the UK population and how much time they spent on it per day in 2019. From this we can calculate the total viewing time and compare to our figure.",
   "metadata": {
    "tags": [],
    "cell_id": "00015-5eb90005-a91d-49f6-9c59-5dac514bca49",
    "deepnote_cell_type": "markdown"
   }
  },
  {
   "cell_type": "code",
   "metadata": {
    "tags": [],
    "cell_id": "00016-faa38b1d-7e31-4937-b5da-93ff9ad8cd8d",
    "deepnote_to_be_reexecuted": false,
    "source_hash": "30e64250",
    "execution_start": 1621071678986,
    "execution_millis": 8,
    "output_cleared": false,
    "deepnote_cell_type": "code"
   },
   "source": "# YouTube daily visitors\nofcomYoutubeDailyVisitors = 41970000 # Source [2] (Pinpoint: Figure 4.6, pg111)\n\n# YouTube average daily time spent\nofcomYoutubeAverageDailyTimeSpent = 35 * ureg.minutes # Source [2] (Pinpoint: Figure 4.8, pg 114)\n\n# Annual UK YouTube time spent\nofcomYoutubeAnnualTimeSpent = ((ofcomYoutubeAverageDailyTimeSpent * 365) * ofcomYoutubeDailyVisitors)\nprint(f'Ofcom survey: {ofcomYoutubeAnnualTimeSpent.to(\"hours\").magnitude:,.0f} ({ofcomYoutubeAnnualTimeSpent.to(\"hours\").to_compact().magnitude:,.1f}bn) hours')\nprint(f'Our calculation: {youtube[\"Time\"][\"Total\"].to(\"hours\").magnitude:,.0f} ({youtube[\"Time\"][\"Total\"].to(\"hours\").to_compact().magnitude:,.1f}bn) hours')\n\n# % difference\ndifference = ((youtube['Time']['Total'] - ofcomYoutubeAnnualTimeSpent) / youtube['Time']['Total']) * 100\nprint(f'Difference: {difference.magnitude:,.1f}%')",
   "execution_count": 8,
   "outputs": [
    {
     "name": "stdout",
     "text": "Ofcom survey: 8,936,112,500 (8.9bn) hours\nOur calculation: 8,794,246,575 (8.8bn) hours\nDifference: -1.6%\n",
     "output_type": "stream"
    }
   ]
  },
  {
   "cell_type": "markdown",
   "source": "### All UK video streaming\n\nGiven that YouTube is a certain percentage of all internet traffic, and we know what percentage of traffic is video streaming, if we assume that YouTube is representative of all video streaming we can extrapolate for all UK video streaming.",
   "metadata": {
    "tags": [],
    "cell_id": "00015-125ba784-5a24-46af-99b7-dd1a6ba5c49b",
    "deepnote_cell_type": "markdown"
   }
  },
  {
   "cell_type": "code",
   "metadata": {
    "tags": [],
    "cell_id": "00016-b9d3b1d0-0143-490f-8a1f-8b0cc74c16f1",
    "deepnote_to_be_reexecuted": false,
    "source_hash": "d10f367",
    "execution_start": 1621071679019,
    "execution_millis": 7,
    "deepnote_cell_type": "code"
   },
   "source": "# Extrapolate to all video streaming\nallUKVideo4GData = (youtube['Data']['4G'] / mobileTrafficYouTube) * mobileTrafficVideo\nallUKVideoWiFiData = (youtube['Data']['Wi-Fi'] / internetTrafficYouTube) * internetTrafficVideo\nallUKVideo4GTime = allUKVideo4GData / dataVolume[videoQuality].values.mean()\nallUKVideoWiFiTime = allUKVideoWiFiData / dataVolume[videoQuality].values.mean()\n\n# Create a dataframe for easy analysis\nallUKVideo = pd.DataFrame({\n    'Time': {\n        '4G': allUKVideo4GTime,\n        'Wi-Fi': allUKVideoWiFiTime,\n        'Total': allUKVideo4GTime + allUKVideoWiFiTime,\n    },\n    'Data': {\n        '4G': allUKVideo4GData,\n        'Wi-Fi': allUKVideoWiFiData,\n        'Total': allUKVideo4GData + allUKVideoWiFiData,\n    }\n})\n\n# Format nicely for display\nallUKVideoDisplay = pd.DataFrame({\n    'Time': {\n        '4G': f'{allUKVideo[\"Time\"][\"4G\"].to(\"hour\"):,.0f} ({allUKVideo[\"Time\"][\"4G\"].to(\"hour\").to_compact().magnitude:,.1f} bn)',\n        'Wi-Fi': f'{allUKVideo[\"Time\"][\"Wi-Fi\"].to(\"hour\"):,.0f} ({allUKVideo[\"Time\"][\"Wi-Fi\"].to(\"hour\").to_compact().magnitude:,.1f} bn)',\n        'Total': f'{allUKVideo[\"Time\"][\"Total\"].to(\"hour\"):,.0f} ({allUKVideo[\"Time\"][\"Total\"].to(\"hour\").to_compact().magnitude:,.1f} bn)',\n\n    },\n    'Data': {\n        '4G': f'{allUKVideo[\"Data\"][\"4G\"].to(\"gigabyte hour\"):,.0f~H} ({allUKVideo[\"Data\"][\"4G\"].to(\"exabyte hour\"):,.1f~H})',\n        'Wi-Fi': f'{allUKVideo[\"Data\"][\"Wi-Fi\"].to(\"gigabyte hour\"):,.0f~H} ({allUKVideo[\"Data\"][\"Wi-Fi\"].to(\"exabyte hour\"):,.1f~H})',\n        'Total': f'{allUKVideo[\"Data\"][\"Total\"].to(\"gigabyte hour\"):,.0f~H} ({allUKVideo[\"Data\"][\"Total\"].to(\"exabyte hour\"):,.1f~H})',\n\n    }\n})\n\nallUKVideoDisplay",
   "execution_count": 9,
   "outputs": [
    {
     "output_type": "execute_result",
     "execution_count": 9,
     "data": {
      "application/vnd.deepnote.dataframe.v2+json": {
       "row_count": 3,
       "column_count": 2,
       "columns": [
        {
         "name": "Time",
         "dtype": "object",
         "stats": {
          "unique_count": 3,
          "nan_count": 0,
          "categories": [
           {
            "name": "5,313,866,704 hour (5.3 bn)",
            "count": 1
           },
           {
            "name": "33,537,381,008 hour (33.5 bn)",
            "count": 1
           },
           {
            "name": "38,851,247,711 hour (38.9 bn)",
            "count": 1
           }
          ]
         }
        },
        {
         "name": "Data",
         "dtype": "object",
         "stats": {
          "unique_count": 3,
          "nan_count": 0,
          "categories": [
           {
            "name": "10,362,040,072 GB hr (10.4 EB hr)",
            "count": 1
           },
           {
            "name": "65,397,892,965 GB hr (65.4 EB hr)",
            "count": 1
           },
           {
            "name": "75,759,933,037 GB hr (75.8 EB hr)",
            "count": 1
           }
          ]
         }
        },
        {
         "name": "_deepnote_index_column",
         "dtype": "object"
        }
       ],
       "rows_top": [
        {
         "Time": "5,313,866,704 hour (5.3 bn)",
         "Data": "10,362,040,072 GB hr (10.4 EB hr)",
         "_deepnote_index_column": "4G"
        },
        {
         "Time": "33,537,381,008 hour (33.5 bn)",
         "Data": "65,397,892,965 GB hr (65.4 EB hr)",
         "_deepnote_index_column": "Wi-Fi"
        },
        {
         "Time": "38,851,247,711 hour (38.9 bn)",
         "Data": "75,759,933,037 GB hr (75.8 EB hr)",
         "_deepnote_index_column": "Total"
        }
       ],
       "rows_bottom": null
      },
      "text/plain": "                                Time                               Data\n4G       5,313,866,704 hour (5.3 bn)  10,362,040,072 GB hr (10.4 EB hr)\nWi-Fi  33,537,381,008 hour (33.5 bn)  65,397,892,965 GB hr (65.4 EB hr)\nTotal  38,851,247,711 hour (38.9 bn)  75,759,933,037 GB hr (75.8 EB hr)",
      "text/html": "<div>\n<style scoped>\n    .dataframe tbody tr th:only-of-type {\n        vertical-align: middle;\n    }\n\n    .dataframe tbody tr th {\n        vertical-align: top;\n    }\n\n    .dataframe thead th {\n        text-align: right;\n    }\n</style>\n<table border=\"1\" class=\"dataframe\">\n  <thead>\n    <tr style=\"text-align: right;\">\n      <th></th>\n      <th>Time</th>\n      <th>Data</th>\n    </tr>\n  </thead>\n  <tbody>\n    <tr>\n      <th>4G</th>\n      <td>5,313,866,704 hour (5.3 bn)</td>\n      <td>10,362,040,072 GB hr (10.4 EB hr)</td>\n    </tr>\n    <tr>\n      <th>Wi-Fi</th>\n      <td>33,537,381,008 hour (33.5 bn)</td>\n      <td>65,397,892,965 GB hr (65.4 EB hr)</td>\n    </tr>\n    <tr>\n      <th>Total</th>\n      <td>38,851,247,711 hour (38.9 bn)</td>\n      <td>75,759,933,037 GB hr (75.8 EB hr)</td>\n    </tr>\n  </tbody>\n</table>\n</div>"
     },
     "metadata": {}
    }
   ]
  },
  {
   "cell_type": "markdown",
   "source": "#### Validation by comparison\n\nAn Ofcom survey<sup>9</sup> reported the total number of video minutes watched per day per person and the proportion of that which was not broadcast content i.e. online video streaming vs broadcast TV. Based on the UK population<sup>10</sup>, we can calculate the total viewing time and compare to our figure.",
   "metadata": {
    "tags": [],
    "cell_id": "00019-517790cd-5cef-4ab1-a9bd-1118f9a0045f",
    "deepnote_cell_type": "markdown"
   }
  },
  {
   "cell_type": "code",
   "metadata": {
    "tags": [],
    "cell_id": "00020-a0539e27-e316-4a44-835e-b6c955a4e824",
    "deepnote_to_be_reexecuted": false,
    "source_hash": "21d3f498",
    "execution_start": 1621071679020,
    "execution_millis": 6,
    "deepnote_cell_type": "code"
   },
   "source": "ofcomTotalVideoTimeDaily = 294  * ureg.minutes # Source [9] (Pinpoint: Figure 1.4, pg 16)\nofcomPercentageNonBroadcast = 0.31 # Source [9] (Pinpoint: Figure 1.4, pg 16)\nukPopulation = 66400000 # Source [10]\n\nofcomTotalVideoStreamingTime = (ofcomTotalVideoTimeDaily * ofcomPercentageNonBroadcast * ukPopulation * 365)\n\nprint(f'Ofcom survey: {ofcomTotalVideoStreamingTime.to(\"hours\").magnitude:,.0f} ({ofcomTotalVideoStreamingTime.to(\"hours\").to_compact().magnitude:,.1f}bn) hours')\nprint(f'Our calculation: {allUKVideo[\"Time\"][\"Total\"].to(\"hours\").magnitude:,.0f} ({allUKVideo[\"Time\"][\"Total\"].to(\"hours\").to_compact().magnitude:,.1f}bn) hours')\n\n# % difference\ndifference = ((allUKVideo['Time']['Total'] - ofcomTotalVideoStreamingTime) / allUKVideo['Time']['Total']) * 100\nprint(f'Difference: {difference.magnitude:,.1f}%')",
   "execution_count": 10,
   "outputs": [
    {
     "name": "stdout",
     "text": "Ofcom survey: 36,814,484,000 (36.8bn) hours\nOur calculation: 38,851,247,711 (38.9bn) hours\nDifference: 5.2%\n",
     "output_type": "stream"
    }
   ]
  },
  {
   "cell_type": "markdown",
   "source": "## Traceroute sample analysis\n\n116 Scamper traceroute samples were returned by 29 participants. The individual samples are provided in `/traceroute-samples/samples/`. An aggregated CSV is provided in `/traceroute-samples/traceroute-samples.csv` with network ownership metadata returned by [IPInfo](https://ipinfo.io). Two samples returned anomalous results where zero hops were reported - these are excluded as `NaN`. See `/traceroute-samples/aggregate-samples.ipynb` for the aggregation code.",
   "metadata": {
    "tags": [],
    "cell_id": "00021-378458a4-654a-43f0-808e-2f0dab369a72",
    "deepnote_cell_type": "markdown"
   }
  },
  {
   "cell_type": "code",
   "metadata": {
    "tags": [],
    "cell_id": "00022-7dbf5dad-22f2-44d0-9e91-0d712c64f593",
    "deepnote_to_be_reexecuted": false,
    "source_hash": "c189b327",
    "execution_start": 1621074759396,
    "execution_millis": 78,
    "output_cleared": false,
    "deepnote_cell_type": "code"
   },
   "source": "traceroutes = pd.read_csv('../traceroute-samples/traceroute-samples.csv')\n\n# ASN Names\ngoogleASN = 'AS15169 Google LLC'\nfacebookASN = 'AS32934 Facebook, Inc.'\n\n# Destination ASN = 4G\ntraceroutes4G = traceroutes.query('Connection == \"4g\"')\ntraceroutesWiFi = traceroutes.query('Connection == \"wifi\"')\n\n# Destination ASN = ISP\ntraceroutesISPAll = traceroutes.query(\n    '`Destination ASN` != @googleASN and `Destination ASN` != @facebookASN')\ntraceroutesISP4G = traceroutesISPAll.query('Connection == \"4g\"')\ntraceroutesISPWiFi = traceroutesISPAll.query('Connection == \"wifi\"')\n\n# Destination ASN = Facebook or Google\ntraceroutesFBGOOGAll = traceroutes.query(\n    '`Destination ASN` == @googleASN or `Destination ASN` == @facebookASN')\ntraceroutesFBGOOG4G = traceroutesFBGOOGAll.query('Connection == \"4g\"')\ntraceroutesFBGOOGWiFi = traceroutesFBGOOGAll.query('Connection == \"wifi\"')",
   "execution_count": 33,
   "outputs": []
  },
  {
   "cell_type": "markdown",
   "source": "### Hop counts\n\nCalculate the mean hope count and standard deviation based on the owner of the destination network. The ISP owning the destination network indicates a caching device is deployed within the network.",
   "metadata": {
    "tags": [],
    "cell_id": "00023-daf21500-ff0f-4031-9918-6d6477555c4a",
    "deepnote_cell_type": "markdown"
   }
  },
  {
   "cell_type": "code",
   "metadata": {
    "tags": [],
    "cell_id": "00024-5becc4f0-b6b0-4d30-b4ba-b091630ddfc9",
    "deepnote_to_be_reexecuted": false,
    "source_hash": "2c8c4a",
    "execution_start": 1621075122988,
    "execution_millis": 14,
    "deepnote_cell_type": "code"
   },
   "source": "hopCounts = pd.DataFrame({\n   'Count': { # Count total number of samples\n        'All': traceroutes['Participant City'].count(),\n        'Connection: 4G': traceroutes4G['Participant City'].count(),\n        'Connection: Wi-Fi': traceroutesWiFi['Participant City'].count(),\n        'Destination - ISP: All': traceroutesISPAll['Participant City'].count(),\n        'Destination - ISP: 4G': traceroutesISP4G['Participant City'].count(),\n        'Destination - ISP: Wi-Fi': traceroutesISPWiFi['Participant City'].count(),\n        'Destination - FB or GOOG: All': traceroutesFBGOOGAll['Participant City'].count(),\n        'Destination - FB or GOOG: 4G': traceroutesFBGOOG4G['Participant City'].count(),\n        'Destination - FB or GOOG: Wi-Fi': traceroutesFBGOOGWiFi['Participant City'].count(),\n    },\n    'Mean': { # Mean hop count, excluding anomalous results\n        'All': traceroutes['Trace Hop Count'].mean(skipna=True),\n        'Connection: 4G': traceroutes4G['Trace Hop Count'].mean(skipna=True),\n        'Connection: Wi-Fi': traceroutesWiFi['Trace Hop Count'].mean(skipna=True),    \n        'Destination - ISP: All': traceroutesISPAll['Trace Hop Count'].mean(skipna=True),\n        'Destination - ISP: 4G': traceroutesISP4G['Trace Hop Count'].mean(skipna=True),\n        'Destination - ISP: Wi-Fi': traceroutesISPWiFi['Trace Hop Count'].mean(skipna=True),\n        'Destination - FB or GOOG: All': traceroutesFBGOOGAll['Trace Hop Count'].mean(skipna=True),\n        'Destination - FB or GOOG: 4G': traceroutesFBGOOG4G['Trace Hop Count'].mean(skipna=True),\n        'Destination - FB or GOOG: Wi-Fi': traceroutesFBGOOGWiFi['Trace Hop Count'].mean(skipna=True),\n    },\n    'StdDev': {  # Hop count standard deviation, excluding anomalous results\n        'All': traceroutes['Trace Hop Count'].std(skipna=True),\n        'Connection: 4G': traceroutes4G['Trace Hop Count'].std(skipna=True),\n        'Connection: Wi-Fi': traceroutesWiFi['Trace Hop Count'].std(skipna=True),\n        'Destination - ISP: All': traceroutesISPAll['Trace Hop Count'].std(skipna=True),\n        'Destination - ISP: 4G': traceroutesISP4G['Trace Hop Count'].std(skipna=True),\n        'Destination - ISP: Wi-Fi': traceroutesISPWiFi['Trace Hop Count'].std(skipna=True),\n        'Destination - FB or GOOG: All': traceroutesFBGOOGAll['Trace Hop Count'].std(skipna=True),\n        'Destination - FB or GOOG: 4G': traceroutesFBGOOG4G['Trace Hop Count'].std(skipna=True),\n        'Destination - FB or GOOG: Wi-Fi': traceroutesFBGOOGWiFi['Trace Hop Count'].std(skipna=True),\n    }\n})\n\nhopCounts",
   "execution_count": 43,
   "outputs": [
    {
     "output_type": "execute_result",
     "execution_count": 43,
     "data": {
      "application/vnd.deepnote.dataframe.v2+json": {
       "row_count": 9,
       "column_count": 3,
       "columns": [
        {
         "name": "Count",
         "dtype": "int64",
         "stats": {
          "unique_count": 8,
          "nan_count": 0,
          "min": "20",
          "max": "116",
          "histogram": [
           {
            "bin_start": 20,
            "bin_end": 29.6,
            "count": 2
           },
           {
            "bin_start": 29.6,
            "bin_end": 39.2,
            "count": 2
           },
           {
            "bin_start": 39.2,
            "bin_end": 48.8,
            "count": 0
           },
           {
            "bin_start": 48.8,
            "bin_end": 58.4,
            "count": 3
           },
           {
            "bin_start": 58.4,
            "bin_end": 68,
            "count": 1
           },
           {
            "bin_start": 68,
            "bin_end": 77.6,
            "count": 0
           },
           {
            "bin_start": 77.6,
            "bin_end": 87.2,
            "count": 0
           },
           {
            "bin_start": 87.2,
            "bin_end": 96.8,
            "count": 0
           },
           {
            "bin_start": 96.8,
            "bin_end": 106.39999999999999,
            "count": 0
           },
           {
            "bin_start": 106.39999999999999,
            "bin_end": 116,
            "count": 1
           }
          ]
         }
        },
        {
         "name": "Mean",
         "dtype": "float64",
         "stats": {
          "unique_count": 9,
          "nan_count": 0,
          "min": "5.15625",
          "max": "10.541666666666666",
          "histogram": [
           {
            "bin_start": 5.15625,
            "bin_end": 5.694791666666666,
            "count": 1
           },
           {
            "bin_start": 5.694791666666666,
            "bin_end": 6.233333333333333,
            "count": 1
           },
           {
            "bin_start": 6.233333333333333,
            "bin_end": 6.771875,
            "count": 0
           },
           {
            "bin_start": 6.771875,
            "bin_end": 7.310416666666667,
            "count": 1
           },
           {
            "bin_start": 7.310416666666667,
            "bin_end": 7.848958333333333,
            "count": 4
           },
           {
            "bin_start": 7.848958333333333,
            "bin_end": 8.3875,
            "count": 0
           },
           {
            "bin_start": 8.3875,
            "bin_end": 8.926041666666666,
            "count": 1
           },
           {
            "bin_start": 8.926041666666666,
            "bin_end": 9.464583333333334,
            "count": 0
           },
           {
            "bin_start": 9.464583333333334,
            "bin_end": 10.003124999999999,
            "count": 0
           },
           {
            "bin_start": 10.003124999999999,
            "bin_end": 10.541666666666666,
            "count": 1
           }
          ]
         }
        },
        {
         "name": "StdDev",
         "dtype": "float64",
         "stats": {
          "unique_count": 9,
          "nan_count": 0,
          "min": "1.7059549402210235",
          "max": "5.888303617164197",
          "histogram": [
           {
            "bin_start": 1.7059549402210235,
            "bin_end": 2.1241898079153407,
            "count": 1
           },
           {
            "bin_start": 2.1241898079153407,
            "bin_end": 2.542424675609658,
            "count": 2
           },
           {
            "bin_start": 2.542424675609658,
            "bin_end": 2.9606595433039753,
            "count": 1
           },
           {
            "bin_start": 2.9606595433039753,
            "bin_end": 3.3788944109982926,
            "count": 1
           },
           {
            "bin_start": 3.3788944109982926,
            "bin_end": 3.79712927869261,
            "count": 0
           },
           {
            "bin_start": 3.79712927869261,
            "bin_end": 4.215364146386927,
            "count": 0
           },
           {
            "bin_start": 4.215364146386927,
            "bin_end": 4.633599014081245,
            "count": 1
           },
           {
            "bin_start": 4.633599014081245,
            "bin_end": 5.051833881775561,
            "count": 1
           },
           {
            "bin_start": 5.051833881775561,
            "bin_end": 5.470068749469879,
            "count": 1
           },
           {
            "bin_start": 5.470068749469879,
            "bin_end": 5.888303617164197,
            "count": 1
           }
          ]
         }
        },
        {
         "name": "_deepnote_index_column",
         "dtype": "object"
        }
       ],
       "rows_top": [
        {
         "Count": 116,
         "Mean": 7.412280701754386,
         "StdDev": 4.244332824372879,
         "_deepnote_index_column": "All"
        },
        {
         "Count": 58,
         "Mean": 7.362068965517241,
         "StdDev": 5.000695656385409,
         "_deepnote_index_column": "Connection: 4G"
        },
        {
         "Count": 58,
         "Mean": 7.464285714285714,
         "StdDev": 3.330106663398395,
         "_deepnote_index_column": "Connection: Wi-Fi"
        },
        {
         "Count": 54,
         "Mean": 6.096153846153846,
         "StdDev": 2.443555873967404,
         "_deepnote_index_column": "Destination - ISP: All"
        },
        {
         "Count": 20,
         "Mean": 7.6,
         "StdDev": 2.7222281895148823,
         "_deepnote_index_column": "Destination - ISP: 4G"
        },
        {
         "Count": 34,
         "Mean": 5.15625,
         "StdDev": 1.7059549402210235,
         "_deepnote_index_column": "Destination - ISP: Wi-Fi"
        },
        {
         "Count": 62,
         "Mean": 8.516129032258064,
         "StdDev": 5.065932294836225,
         "_deepnote_index_column": "Destination - FB or GOOG: All"
        },
        {
         "Count": 38,
         "Mean": 7.2368421052631575,
         "StdDev": 5.888303617164197,
         "_deepnote_index_column": "Destination - FB or GOOG: 4G"
        },
        {
         "Count": 24,
         "Mean": 10.541666666666666,
         "StdDev": 2.302723655127566,
         "_deepnote_index_column": "Destination - FB or GOOG: Wi-Fi"
        }
       ],
       "rows_bottom": null
      },
      "text/plain": "                                 Count       Mean    StdDev\nAll                                116   7.412281  4.244333\nConnection: 4G                      58   7.362069  5.000696\nConnection: Wi-Fi                   58   7.464286  3.330107\nDestination - ISP: All              54   6.096154  2.443556\nDestination - ISP: 4G               20   7.600000  2.722228\nDestination - ISP: Wi-Fi            34   5.156250  1.705955\nDestination - FB or GOOG: All       62   8.516129  5.065932\nDestination - FB or GOOG: 4G        38   7.236842  5.888304\nDestination - FB or GOOG: Wi-Fi     24  10.541667  2.302724",
      "text/html": "<div>\n<style scoped>\n    .dataframe tbody tr th:only-of-type {\n        vertical-align: middle;\n    }\n\n    .dataframe tbody tr th {\n        vertical-align: top;\n    }\n\n    .dataframe thead th {\n        text-align: right;\n    }\n</style>\n<table border=\"1\" class=\"dataframe\">\n  <thead>\n    <tr style=\"text-align: right;\">\n      <th></th>\n      <th>Count</th>\n      <th>Mean</th>\n      <th>StdDev</th>\n    </tr>\n  </thead>\n  <tbody>\n    <tr>\n      <th>All</th>\n      <td>116</td>\n      <td>7.412281</td>\n      <td>4.244333</td>\n    </tr>\n    <tr>\n      <th>Connection: 4G</th>\n      <td>58</td>\n      <td>7.362069</td>\n      <td>5.000696</td>\n    </tr>\n    <tr>\n      <th>Connection: Wi-Fi</th>\n      <td>58</td>\n      <td>7.464286</td>\n      <td>3.330107</td>\n    </tr>\n    <tr>\n      <th>Destination - ISP: All</th>\n      <td>54</td>\n      <td>6.096154</td>\n      <td>2.443556</td>\n    </tr>\n    <tr>\n      <th>Destination - ISP: 4G</th>\n      <td>20</td>\n      <td>7.600000</td>\n      <td>2.722228</td>\n    </tr>\n    <tr>\n      <th>Destination - ISP: Wi-Fi</th>\n      <td>34</td>\n      <td>5.156250</td>\n      <td>1.705955</td>\n    </tr>\n    <tr>\n      <th>Destination - FB or GOOG: All</th>\n      <td>62</td>\n      <td>8.516129</td>\n      <td>5.065932</td>\n    </tr>\n    <tr>\n      <th>Destination - FB or GOOG: 4G</th>\n      <td>38</td>\n      <td>7.236842</td>\n      <td>5.888304</td>\n    </tr>\n    <tr>\n      <th>Destination - FB or GOOG: Wi-Fi</th>\n      <td>24</td>\n      <td>10.541667</td>\n      <td>2.302724</td>\n    </tr>\n  </tbody>\n</table>\n</div>"
     },
     "metadata": {}
    }
   ]
  },
  {
   "cell_type": "markdown",
   "source": "We want to apportion the traffic so it is representative of this breakdown by connection type. This means we need to calculate what percentage of traffic terminates at the ISP for 4G and Wi-Fi.",
   "metadata": {
    "tags": [],
    "cell_id": "00025-b216253b-8e94-49c7-a326-b60cb3b2875e",
    "deepnote_cell_type": "markdown"
   }
  },
  {
   "cell_type": "code",
   "source": "trafficPercentISP4G = hopCounts['Count']['Destination - ISP: 4G'] / hopCounts['Count']['Connection: 4G']\ntrafficPercentFBGOOG4G = hopCounts['Count']['Destination - FB or GOOG: 4G'] / hopCounts['Count']['Connection: 4G']\nprint(f'4G traffic: {trafficPercentISP4G:.0%} terminates at the ISP and {trafficPercentFBGOOG4G:.0%} terminates at Facebook or Google.')\n\ntrafficPercentISPWiFi = hopCounts['Count']['Destination - ISP: Wi-Fi'] / hopCounts['Count']['Connection: Wi-Fi']\ntrafficPercentFBGOOGWiFi = hopCounts['Count']['Destination - FB or GOOG: Wi-Fi'] / hopCounts['Count']['Connection: Wi-Fi']\nprint(f'Wi-Fi traffic: {trafficPercentISPWiFi:.0%} terminates at the ISP and {trafficPercentFBGOOGWiFi:.0%} terminates at Facebook or Google.')",
   "metadata": {
    "tags": [],
    "cell_id": "00026-c75347a1-35ce-4e31-b1f1-94625c053203",
    "deepnote_to_be_reexecuted": false,
    "source_hash": "7a7d2a2",
    "execution_start": 1621075632849,
    "execution_millis": 15,
    "deepnote_cell_type": "code"
   },
   "outputs": [
    {
     "name": "stdout",
     "text": "4G traffic: 34% terminates at the ISP and 66% terminates at Facebook or Google.\nWi-Fi traffic: 59% terminates at the ISP and 41% terminates at Facebook or Google.\n",
     "output_type": "stream"
    }
   ],
   "execution_count": 67
  },
  {
   "cell_type": "markdown",
   "source": "## References\n\n1. UKOM (2019) Q4 2019 UK Digital Market Overview report. Available from: https://ukom.uk.net/uploads/files/news/ukom/174/UKOM_Digital_Marketing_Overview_December_2019_final.pdf\n\n2. Ofcom (2020) Online Nation – 2020 report. Available from: https://www.ofcom.org.uk/__data/assets/pdf_file/0027/196407/online-nation-2020-report.pdf\n\n3. Solsman, J.E. (2018) Normally secretive Netflix inches back the curtain on how subscribers stream. 7 March 2018. CNET. Available from: https://www.cnet.com/news/netflix-shares-streaming-data-by-device-country-mobile-wi-fi-movies-tv/\n\n4. Hindy, J. (2019) How much data does YouTube actually use? 30 June 2019. Android Authority. Available from: https://www.androidauthority.com/how-much-data-does-youtube-use-964560/\n\n5. Sandvine (2020) The Mobile Internet Phenomena Report. Available from: https://www.sandvine.com/download-report-mobile-internet-phenomena-report-2020-sandvine\n\n6. Sandvine (2019) The Global Internet Phenomena Report. Available from: https://www.sandvine.com/global-internet-phenomena-report-2019\n\n7. Ofcom (2019) Connected Nations 2019. 20 December 2019. Ofcom. Available from: https://www.ofcom.org.uk/research-and-data/multi-sector-research/infrastructure-research/connected-nations-2019/main-report\n\n8. Chee, F.Y. (2020) YouTube, Amazon Prime forgo streaming quality to relieve European networks. Reuters. 20 March. Available from: https://uk.reuters.com/article/us-health-coronavirus-youtube-exclusive-idUKKBN2170OP\n\n9. Ofcom (2019) Media Nations: UK 2019. Available from: https://www.ofcom.org.uk/__data/assets/pdf_file/0019/160714/media-nations-2019-uk-report.pdf\n\n10. Office for National Statistics (2019) Overview of the UK population. 23 August 2019. Available from: https://www.ons.gov.uk/peoplepopulationandcommunity/populationandmigration/populationestimates/articles/overviewoftheukpopulation/august2019",
   "metadata": {
    "tags": [],
    "cell_id": "00003-c9fd8eb8-6b53-4beb-b6ad-d00b7de18602",
    "deepnote_cell_type": "markdown"
   }
  },
  {
   "cell_type": "markdown",
   "source": "<a style='text-decoration:none;line-height:16px;display:flex;color:#5B5B62;padding:10px;justify-content:end;' href='https://deepnote.com?utm_source=created-in-deepnote-cell&projectId=82ad941d-519a-4a94-b1a2-0a0958075b21' target=\"_blank\">\n<img alt='Created in deepnote.com' style='display:inline;max-height:16px;margin:0px;margin-right:7.5px;' src='data:image/svg+xml;base64,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' > </img>\nCreated in <span style='font-weight:600;margin-left:4px;'>Deepnote</span></a>",
   "metadata": {
    "tags": [],
    "created_in_deepnote_cell": true,
    "deepnote_cell_type": "markdown"
   }
  }
 ],
 "nbformat": 4,
 "nbformat_minor": 2,
 "metadata": {
  "orig_nbformat": 2,
  "deepnote": {
   "is_reactive": false
  },
  "deepnote_notebook_id": "66413cde-20b8-4b8c-9c9b-6e00d27747fd",
  "deepnote_execution_queue": [],
  "kernelspec": {
   "name": "python394jvsc74a57bd04cd7ab41f5fca4b9b44701077e38c5ffd31fe66a6cab21e0214b68d958d0e462",
   "display_name": "Python 3.9.4 64-bit"
  },
  "metadata": {
   "interpreter": {
    "hash": "4cd7ab41f5fca4b9b44701077e38c5ffd31fe66a6cab21e0214b68d958d0e462"
   }
  }
 }
}