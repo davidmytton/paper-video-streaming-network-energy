{
 "cells": [
  {
   "cell_type": "markdown",
   "source": "# The network energy intensity of video streaming over Wi-Fi and 4G\n\n**Authors:** David Mytton, Iain Staffell, Malte Jansen.\n\n**Institution:** Centre for Environmental Policy, Imperial College London, London, SW7 1NE, UK.\n\n**Correspondence:** <david@davidmytton.co.uk>.\n\n## Summary\n\n> Between 2010-2018 internet traffic grew ten-fold and is expected to double again by 2022. With video streaming making up 60% of that traffic, 65% on mobile, it is important to understand its energy consumption. Here we develop an approach to assessing network energy consumption by collecting internet routing observations from volunteers, provide updated figures for the energy consumption of different sections of the internet, then calculate the network energy intensity of video streaming. We estimate the 2019 network energy footprint of the UK’s 39 billion hours of video streaming at 4.2 TWh, or 1.3% of total electricity generation. We show that the network energy intensity of video streaming over Wi-Fi is 0.091 kWh/hour, compared to 0.207 kWh/hour over 4G mobile internet.\n\n## This notebook\n\nThis notebook walks through the methodology and calculations as described in the accompanying manuscript.",
   "metadata": {
    "tags": [],
    "cell_id": "00000-3fb836cd-b77a-4f3b-8349-7163711ac9f2",
    "deepnote_cell_type": "markdown"
   }
  },
  {
   "cell_type": "markdown",
   "source": "#### Imports",
   "metadata": {
    "tags": [],
    "cell_id": "00001-e815ec23-4f84-4d8a-b5ca-fb7ffa41bf3d",
    "deepnote_cell_type": "markdown"
   }
  },
  {
   "cell_type": "code",
   "metadata": {
    "tags": [],
    "cell_id": "00002-4822a9c5-9c0c-431b-927a-b233524d49fd",
    "deepnote_to_be_reexecuted": false,
    "source_hash": "374cb691",
    "execution_start": 1620720598023,
    "execution_millis": 3940,
    "output_cleared": true,
    "deepnote_cell_type": "code"
   },
   "source": "%pip install -r requirements.txt\n\nimport pandas as pd",
   "execution_count": 1,
   "outputs": []
  },
  {
   "cell_type": "markdown",
   "source": "## Internet video traffic\n\nWe assume YouTube is representative of all streaming because it is the most watched streaming service, and so has the most data available. Using YouTube as a case study, we can calculate the total amount of time, data volume, and therefore energy consumption of video streaming in general.\n\nWe therefore start with an assessment of YouTube.\n\n### YouTube watch time\n\nYouTube does not publish statistics so we start with watching figures from the advertising industry<sup>1</sup>, Ofcom<sup>2</sup>, and Netflix<sup>3</sup>.",
   "metadata": {
    "tags": [],
    "cell_id": "00000-e318a7fc-9d03-46bc-bcb8-6bc34633fd48",
    "deepnote_cell_type": "markdown"
   }
  },
  {
   "cell_type": "code",
   "metadata": {
    "tags": [],
    "cell_id": "00003-6b27801c-c0c9-4d7e-9390-76d571fe1e32",
    "deepnote_to_be_reexecuted": false,
    "source_hash": "d31f9250",
    "execution_start": 1620720601970,
    "execution_millis": 5,
    "deepnote_cell_type": "code"
   },
   "source": "# Annual UK YouTube minutes (mobile devices)\n# Monthly figure for Dec 2019 * 12 months for the whole of 2019\nyoutubeAnnualMinutesMobileDevices = 32099000000 * 12 # Source [1] (Pinpoint: pg 30)\n\n# % watched YouTube (mobile devices)\nyoutubeWatchPercentageMobileDevices = 0.73 # 73% Source [2] (Pinpoint: Figure 4.10, pg116)\n\n# % watched YouTube (mobile networks)\nyoutubeWatchPercentageMobileNetworks = 0.25 # 25% Source [3]",
   "execution_count": 2,
   "outputs": []
  },
  {
   "cell_type": "markdown",
   "source": "Using the total annual watch minutes, the total time watched on mobile devices and the total time watched on mobile networks, we can calculate the total time spent on Wi-Fi and non-mobile devices.",
   "metadata": {
    "tags": [],
    "cell_id": "00003-f6c26b12-b6ba-4635-a05a-dc2919b8790b",
    "deepnote_cell_type": "markdown"
   }
  },
  {
   "cell_type": "code",
   "metadata": {
    "tags": [],
    "cell_id": "00000-a000e3a1-9196-456b-87e2-092a6a376c59",
    "deepnote_to_be_reexecuted": false,
    "source_hash": "176d5269",
    "execution_start": 1620720601977,
    "execution_millis": 20,
    "is_code_hidden": false,
    "output_cleared": false,
    "deepnote_cell_type": "code"
   },
   "source": "# Annual UK YouTube minutes (all networks, all devices)\nyoutubeAnnualMinutesAllNetworksAllDevices = youtubeAnnualMinutesMobileDevices / youtubeWatchPercentageMobileDevices\nprint(f'Annual UK YouTube minutes (all networks, all devices): {youtubeAnnualMinutesAllNetworksAllDevices:,.0f} mins')\n\nprint(f'Annual UK YouTube minutes (mobile devices): {youtubeAnnualMinutesMobileDevices:,.0f} mins')\n\n# Annual UK YouTube minutes (mobile networks)\nyoutubeAnnualMinutesMobileNetworks = youtubeWatchPercentageMobileNetworks * youtubeAnnualMinutesAllNetworksAllDevices\nprint(f'Annual UK YouTube minutes (mobile networks): {youtubeAnnualMinutesMobileNetworks:,.0f} mins')\n\n# Annual UK YouTube minutes (Wi-fi networks, all devices)\nyoutubeAnnualMinutesWifiAllDevices = youtubeAnnualMinutesAllNetworksAllDevices - youtubeAnnualMinutesMobileNetworks\nprint(f'Annual UK YouTube minutes (Wi-Fi networks, all devices): {youtubeAnnualMinutesWifiAllDevices:,.0f} mins')",
   "execution_count": 3,
   "outputs": [
    {
     "name": "stdout",
     "text": "Annual UK YouTube minutes (all networks, all devices): 527,654,794,521 mins\nAnnual UK YouTube minutes (mobile devices): 385,188,000,000 mins\nAnnual UK YouTube minutes (mobile networks): 131,913,698,630 mins\nAnnual UK YouTube minutes (Wi-Fi networks, all devices): 395,741,095,890 mins\n",
     "output_type": "stream"
    }
   ]
  },
  {
   "cell_type": "markdown",
   "source": "### YouTube data volume\n\nThe amount of data transmitted during a single YouTube video streaming session varies based on factors such as device type, screen size, video resolution, framerate, bit rate, network speed and which formats the video was encoded into. \n\nFor each video quality setting, we take the mean average of the range of values reported in an observational assessment of 1 hour of streaming produced for an Android website<sup>4</sup>. In this assessment, data volume was recorded using three separate tools: Android's built-in data monitoring, Google's Datally app and the GlassWire data monitoring app.",
   "metadata": {
    "tags": [],
    "cell_id": "00005-5109376c-23f4-4502-9c09-bedbe49e0df6",
    "deepnote_cell_type": "markdown"
   }
  },
  {
   "cell_type": "code",
   "metadata": {
    "tags": [],
    "cell_id": "00006-303f842c-c29a-4e22-9252-95664cd37608",
    "deepnote_to_be_reexecuted": false,
    "source_hash": "bb45df8e",
    "execution_start": 1620720601993,
    "execution_millis": 28,
    "deepnote_cell_type": "code"
   },
   "source": "dataVolume = pd.DataFrame({\n    480: { # 480p SD\n        'low': 0.48,\n        'high': 0.66\n    },\n    720: { # 720p HD\n        'low': 1.2,\n        'high': 2.7,\n\n    },\n    1080: { # 1080p FHD\n        'low': 2.5,\n        'high': 4.1,\n\n    },\n    1440: { # 1440p QHD\n        'low': 2.7,\n        'high': 8.1,\n\n    },\n    2160: { # 2160 4k\n        'low': 5.5,\n        'high': 23.0,\n\n    },\n})\ndataVolume.mean()",
   "execution_count": 4,
   "outputs": [
    {
     "output_type": "execute_result",
     "execution_count": 4,
     "data": {
      "text/plain": "480      0.57\n720      1.95\n1080     3.30\n1440     5.40\n2160    14.25\ndtype: float64"
     },
     "metadata": {}
    }
   ]
  },
  {
   "cell_type": "markdown",
   "source": "### Video traffic\n\nWe need to know how much traffic is from YouTube and video in general for both mobile and non-mobile.",
   "metadata": {
    "tags": [],
    "cell_id": "00009-b7435b0f-8934-4d52-a74b-fc0b8bf2f31b",
    "deepnote_cell_type": "markdown"
   }
  },
  {
   "cell_type": "code",
   "metadata": {
    "tags": [],
    "cell_id": "00010-34d64cb7-08a3-4536-8943-56e4517aa3d9",
    "deepnote_to_be_reexecuted": false,
    "source_hash": "ee31422a",
    "execution_start": 1620720602018,
    "execution_millis": 5,
    "deepnote_cell_type": "code"
   },
   "source": "internetTrafficYouTube = 0.118 # 11.8% Source [5] (Pinpoint: pg12)\ninternetTrafficVideo = 0.60 # 60% Source [5] (Pinpoint: pg6)\nmobileTrafficYouTube = 0.271 # 27.1% Source [6] (Pinpoint: pg9)\nmobileTrafficVideo = 0.655 # 65.5% Source [6] (Pinpoint: pg5)",
   "execution_count": 5,
   "outputs": []
  },
  {
   "cell_type": "markdown",
   "source": "## Video streaming watch time & data volume\n\nUsing the figures above, we calculate the total annual time spent and associated data volume for YouTube.\n\nWe assume mobile traffic is all 4G and non-mobile traffic is all Wi-Fi because 97% of UK premises have access to decent fixed (at least 10 Mbit/s) and 4G (at least 2 Mbit/s) services, 91% of geographic areas of the UK are able to receive 4G data service from at least one operator, and 4G carries 90% of UK mobile data traffic<sup>7</sup>. 3G connectivity is excluded because it carries only a small proportion of data traffic.\n\nWe assume the default video quality is 720p High Definition (HD) because during the 2020 Coronavirus pandemic, the default was reduced to 480p Standard Definition (SD)<sup>8</sup>. The reference year for this assessment is 2019.",
   "metadata": {
    "tags": [],
    "cell_id": "00011-0c533d04-ae82-4f5c-ad19-b7c679fdbac5",
    "deepnote_cell_type": "markdown"
   }
  },
  {
   "cell_type": "code",
   "metadata": {
    "tags": [],
    "cell_id": "00012-ad305ee0-e5a9-4f10-b28f-0a936a32ef63",
    "deepnote_to_be_reexecuted": false,
    "source_hash": "24a7c2d3",
    "execution_start": 1620720602029,
    "execution_millis": 2,
    "deepnote_cell_type": "code"
   },
   "source": "# 720p HD video quality\nvideoQuality = 720",
   "execution_count": 6,
   "outputs": []
  },
  {
   "cell_type": "markdown",
   "source": "### YouTube",
   "metadata": {
    "tags": [],
    "cell_id": "00013-fc45c8e4-7912-4e22-ac07-0f2fc4639805",
    "deepnote_cell_type": "markdown"
   }
  },
  {
   "cell_type": "code",
   "metadata": {
    "tags": [],
    "cell_id": "00014-1f43da12-8955-47e2-a085-dc8772e24195",
    "deepnote_to_be_reexecuted": false,
    "source_hash": "a79a470a",
    "execution_start": 1620720602084,
    "execution_millis": 5,
    "deepnote_cell_type": "code"
   },
   "source": "# Calculate YouTube watch hours and data\nyoutube4GTime = youtubeAnnualMinutesMobileNetworks / 60 # Convert mins to hours\nyoutubeWiFiTime = youtubeAnnualMinutesWifiAllDevices / 60 # Convert mins to hours\nyoutubeTimeTotal = (youtubeAnnualMinutesMobileNetworks + youtubeAnnualMinutesWifiAllDevices) / 60 # Convert mins to hours\nyoutube4GData = youtube4GTime * dataVolume[videoQuality].mean()\nyoutubeWiFiData = youtubeWiFiTime * dataVolume[videoQuality].mean()\nyoutubeDataTotal = youtube4GData + youtubeWiFiData\n\nyoutube = pd.DataFrame({\n    'Time': {\n        '4G': youtube4GTime,\n        'Wi-Fi': youtubeWiFiTime,\n        'Total': youtubeTimeTotal,\n    },\n    'Data': {\n        '4G': youtube4GData,\n        'Wi-Fi': youtubeWiFiData,\n        'Total': youtubeDataTotal,\n    }\n})\n\n# Format nicely for display\n\n# Convert to billion hours\nyoutube4GTimeBn = youtube['Time']['4G'] / 1000 / 1000 / 1000\nyoutubeWiFiTimeBn = youtube['Time']['Wi-Fi'] / 1000 / 1000 / 1000\nyoutubeTimeTotalBn = youtube['Time']['Total'] / 1000 / 1000 / 1000\n\n# Convert from GB to EB\nyoutube4GDataEB = youtube['Data']['4G'] / 1000 / 1000 / 1000\nyoutubeWiFiDataEB = youtube['Data']['Wi-Fi'] / 1000 / 1000 / 1000\nyoutubeDataTotalEB = youtube['Data']['Total'] / 1000 / 1000 / 1000\n\nyoutubeDisplay = pd.DataFrame({\n    'Time': {\n        '4G': f'{youtube4GTime:,.0f} ({youtube4GTimeBn:,.1f}bn) hours',\n        'Wi-Fi': f'{youtubeWiFiTime:,.0f} ({youtubeWiFiTimeBn:,.1f}bn) hours',\n        'Total': f'{youtubeTimeTotal:,.0f} ({youtubeTimeTotalBn:,.1f}bn) hours',\n\n    },\n    'Data': {\n        '4G': f'{youtube4GData:,.0f} GB ({youtube4GDataEB:,.1f} EB)',\n        'Wi-Fi': f'{youtubeWiFiData:,.0f} GB ({youtubeWiFiDataEB:,.1f} EB)',\n        'Total': f'{youtubeDataTotal:,.0f} GB ({youtubeDataTotalEB:,.1f} EB)',\n\n    }\n})\nyoutubeDisplay",
   "execution_count": 7,
   "outputs": [
    {
     "output_type": "execute_result",
     "execution_count": 7,
     "data": {
      "application/vnd.deepnote.dataframe.v2+json": {
       "row_count": 3,
       "column_count": 2,
       "columns": [
        {
         "name": "Time",
         "dtype": "object",
         "stats": {
          "unique_count": 3,
          "nan_count": 0,
          "categories": [
           {
            "name": "2,198,561,644 (2.2bn) hours",
            "count": 1
           },
           {
            "name": "6,595,684,932 (6.6bn) hours",
            "count": 1
           },
           {
            "name": "8,794,246,575 (8.8bn) hours",
            "count": 1
           }
          ]
         }
        },
        {
         "name": "Data",
         "dtype": "object",
         "stats": {
          "unique_count": 3,
          "nan_count": 0,
          "categories": [
           {
            "name": "4,287,195,205 GB (4.3 EB)",
            "count": 1
           },
           {
            "name": "12,861,585,616 GB (12.9 EB)",
            "count": 1
           },
           {
            "name": "17,148,780,822 GB (17.1 EB)",
            "count": 1
           }
          ]
         }
        },
        {
         "name": "_deepnote_index_column",
         "dtype": "object"
        }
       ],
       "rows_top": [
        {
         "Time": "2,198,561,644 (2.2bn) hours",
         "Data": "4,287,195,205 GB (4.3 EB)",
         "_deepnote_index_column": "4G"
        },
        {
         "Time": "6,595,684,932 (6.6bn) hours",
         "Data": "12,861,585,616 GB (12.9 EB)",
         "_deepnote_index_column": "Wi-Fi"
        },
        {
         "Time": "8,794,246,575 (8.8bn) hours",
         "Data": "17,148,780,822 GB (17.1 EB)",
         "_deepnote_index_column": "Total"
        }
       ],
       "rows_bottom": null
      },
      "text/plain": "                              Time                         Data\n4G     2,198,561,644 (2.2bn) hours    4,287,195,205 GB (4.3 EB)\nWi-Fi  6,595,684,932 (6.6bn) hours  12,861,585,616 GB (12.9 EB)\nTotal  8,794,246,575 (8.8bn) hours  17,148,780,822 GB (17.1 EB)",
      "text/html": "<div>\n<style scoped>\n    .dataframe tbody tr th:only-of-type {\n        vertical-align: middle;\n    }\n\n    .dataframe tbody tr th {\n        vertical-align: top;\n    }\n\n    .dataframe thead th {\n        text-align: right;\n    }\n</style>\n<table border=\"1\" class=\"dataframe\">\n  <thead>\n    <tr style=\"text-align: right;\">\n      <th></th>\n      <th>Time</th>\n      <th>Data</th>\n    </tr>\n  </thead>\n  <tbody>\n    <tr>\n      <th>4G</th>\n      <td>2,198,561,644 (2.2bn) hours</td>\n      <td>4,287,195,205 GB (4.3 EB)</td>\n    </tr>\n    <tr>\n      <th>Wi-Fi</th>\n      <td>6,595,684,932 (6.6bn) hours</td>\n      <td>12,861,585,616 GB (12.9 EB)</td>\n    </tr>\n    <tr>\n      <th>Total</th>\n      <td>8,794,246,575 (8.8bn) hours</td>\n      <td>17,148,780,822 GB (17.1 EB)</td>\n    </tr>\n  </tbody>\n</table>\n</div>"
     },
     "metadata": {}
    }
   ]
  },
  {
   "cell_type": "markdown",
   "source": "#### Validation by comparison\n\nAn Ofcom survey<sup>2</sup> reported the number of unique visitors to YouTube out of the UK population and how much time they spent on it per day in 2019. From this we can calculate the total viewing time and compare to our figure.",
   "metadata": {
    "tags": [],
    "cell_id": "00015-5eb90005-a91d-49f6-9c59-5dac514bca49",
    "deepnote_cell_type": "markdown"
   }
  },
  {
   "cell_type": "code",
   "metadata": {
    "tags": [],
    "cell_id": "00016-faa38b1d-7e31-4937-b5da-93ff9ad8cd8d",
    "deepnote_to_be_reexecuted": false,
    "source_hash": "a104728f",
    "execution_start": 1620720602085,
    "execution_millis": 12,
    "deepnote_cell_type": "code"
   },
   "source": "# YouTube daily visitors\nofcomYoutubeDailyVisitors = 41970000 # Source [2] (Pinpoint: Figure 4.6, pg111)\n\n# YouTube average daily time spent (minutes)\nofcomYoutubeAverageMinutesDailyTimeSpent = 35 # Source [2] (Pinpoint: Figure 4.8, pg 114)\n\n# Annual UK YouTube time spent (hours)\nofcomYoutubeAnnualTimeSpent = ((ofcomYoutubeAverageMinutesDailyTimeSpent * 365) * ofcomYoutubeDailyVisitors) / 60\nofcomYoutubeAnnualTimeSpentBn = ofcomYoutubeAnnualTimeSpent / 1000 / 1000 / 1000\nprint(f'Ofcom survey: {ofcomYoutubeAnnualTimeSpent:,.0f} ({ofcomYoutubeAnnualTimeSpentBn:,.1f}bn) hours')\nprint(f'Our calculation: {youtubeTimeTotal:,.0f} ({youtubeTimeTotalBn:,.1f}bn) hours')\n\n# % difference\ndifference = ((youtubeTimeTotal - ofcomYoutubeAnnualTimeSpent) / youtubeTimeTotal) * 100\nprint(f'Difference: {difference:,.1f}%')",
   "execution_count": 8,
   "outputs": [
    {
     "name": "stdout",
     "text": "Ofcom survey: 8,936,112,500 (8.9bn) hours\nOur calculation: 8,794,246,575 (8.8bn) hours\nDifference: -1.6%\n",
     "output_type": "stream"
    }
   ]
  },
  {
   "cell_type": "markdown",
   "source": "### All UK video streaming\n\nGiven that YouTube is a certain percentage of all internet traffic, and we know what percentage of traffic is video streaming, if we assume that YouTube is representative of all video streaming we can extrapolate for all UK video streaming.",
   "metadata": {
    "tags": [],
    "cell_id": "00015-125ba784-5a24-46af-99b7-dd1a6ba5c49b",
    "deepnote_cell_type": "markdown"
   }
  },
  {
   "cell_type": "code",
   "metadata": {
    "tags": [],
    "cell_id": "00016-b9d3b1d0-0143-490f-8a1f-8b0cc74c16f1",
    "deepnote_to_be_reexecuted": false,
    "source_hash": "c35fe6f7",
    "execution_start": 1620720602108,
    "execution_millis": 41,
    "deepnote_cell_type": "code"
   },
   "source": "# Extrapolate to all video streaming\nallUKVideo4GData = (youtube4GData / mobileTrafficYouTube) * mobileTrafficVideo\nallUKVideoWiFiData = (youtubeWiFiData / internetTrafficYouTube) * internetTrafficVideo\nallUKVideo4GTime = allUKVideo4GData / dataVolume[videoQuality].mean()\nallUKVideoWiFiTime = allUKVideoWiFiData / dataVolume[videoQuality].mean()\n\n# Calculate totals\nallUKVideoTimeTotal = allUKVideo4GTime + allUKVideoWiFiTime\nallUKVideoDataTotal = allUKVideo4GData + allUKVideoWiFiData\n\nallUKVideo = pd.DataFrame({\n    'Time': {\n        '4G': allUKVideo4GTime,\n        'Wi-Fi': allUKVideoWiFiTime,\n        'Total': allUKVideoTimeTotal,\n    },\n    'Data': {\n        '4G': allUKVideo4GData,\n        'Wi-Fi': allUKVideoWiFiData,\n        'Total': allUKVideoDataTotal,\n    }\n})\n\n# Format nicely for display\n\n# Convert to billion hours\nallUKVideo4GTimeBn = allUKVideo4GTime / 1000 / 1000 / 1000\nallUKVideoWiFiTimeBn = allUKVideoWiFiTime / 1000 / 1000 / 1000\nallUKVideoTimeTotalBn = allUKVideoTimeTotal / 1000 / 1000 / 1000\n\n# Convert from GB to EB\nallUKVideo4GDataEB = allUKVideo4GData / 1000 / 1000 / 1000\nallUKVideoWiFiDataEB = allUKVideoWiFiData / 1000 / 1000 / 1000\nallUKVideoDataTotalEB = allUKVideoDataTotal / 1000 / 1000 / 1000\n\nallUKVideoDisplay = pd.DataFrame({\n    'Time': {\n        '4G': f'{allUKVideo4GTime:,.0f} ({allUKVideo4GTimeBn:,.1f}bn) hours',\n        'Wi-Fi': f'{allUKVideoWiFiTime:,.0f} ({allUKVideoWiFiTimeBn:,.1f}bn) hours',\n        'Total': f'{allUKVideoTimeTotal:,.0f} ({allUKVideoTimeTotalBn:,.1f}bn) hours',\n\n    },\n    'Data': {\n        '4G': f'{allUKVideo4GData:,.0f} GB ({allUKVideo4GDataEB:,.1f} EB)',\n        'Wi-Fi': f'{allUKVideoWiFiData:,.0f} GB ({allUKVideoWiFiDataEB:,.1f} EB)',\n        'Total': f'{allUKVideoDataTotal:,.0f} GB ({allUKVideoDataTotalEB:,.1f} EB)',\n\n    }\n})\n\nallUKVideoDisplay",
   "execution_count": 9,
   "outputs": [
    {
     "output_type": "execute_result",
     "execution_count": 9,
     "data": {
      "application/vnd.deepnote.dataframe.v2+json": {
       "row_count": 3,
       "column_count": 2,
       "columns": [
        {
         "name": "Time",
         "dtype": "object",
         "stats": {
          "unique_count": 3,
          "nan_count": 0,
          "categories": [
           {
            "name": "5,313,866,704 (5.3bn) hours",
            "count": 1
           },
           {
            "name": "33,537,381,008 (33.5bn) hours",
            "count": 1
           },
           {
            "name": "38,851,247,711 (38.9bn) hours",
            "count": 1
           }
          ]
         }
        },
        {
         "name": "Data",
         "dtype": "object",
         "stats": {
          "unique_count": 3,
          "nan_count": 0,
          "categories": [
           {
            "name": "10,362,040,072 GB (10.4 EB)",
            "count": 1
           },
           {
            "name": "65,397,892,965 GB (65.4 EB)",
            "count": 1
           },
           {
            "name": "75,759,933,037 GB (75.8 EB)",
            "count": 1
           }
          ]
         }
        },
        {
         "name": "_deepnote_index_column",
         "dtype": "object"
        }
       ],
       "rows_top": [
        {
         "Time": "5,313,866,704 (5.3bn) hours",
         "Data": "10,362,040,072 GB (10.4 EB)",
         "_deepnote_index_column": "4G"
        },
        {
         "Time": "33,537,381,008 (33.5bn) hours",
         "Data": "65,397,892,965 GB (65.4 EB)",
         "_deepnote_index_column": "Wi-Fi"
        },
        {
         "Time": "38,851,247,711 (38.9bn) hours",
         "Data": "75,759,933,037 GB (75.8 EB)",
         "_deepnote_index_column": "Total"
        }
       ],
       "rows_bottom": null
      },
      "text/plain": "                                Time                         Data\n4G       5,313,866,704 (5.3bn) hours  10,362,040,072 GB (10.4 EB)\nWi-Fi  33,537,381,008 (33.5bn) hours  65,397,892,965 GB (65.4 EB)\nTotal  38,851,247,711 (38.9bn) hours  75,759,933,037 GB (75.8 EB)",
      "text/html": "<div>\n<style scoped>\n    .dataframe tbody tr th:only-of-type {\n        vertical-align: middle;\n    }\n\n    .dataframe tbody tr th {\n        vertical-align: top;\n    }\n\n    .dataframe thead th {\n        text-align: right;\n    }\n</style>\n<table border=\"1\" class=\"dataframe\">\n  <thead>\n    <tr style=\"text-align: right;\">\n      <th></th>\n      <th>Time</th>\n      <th>Data</th>\n    </tr>\n  </thead>\n  <tbody>\n    <tr>\n      <th>4G</th>\n      <td>5,313,866,704 (5.3bn) hours</td>\n      <td>10,362,040,072 GB (10.4 EB)</td>\n    </tr>\n    <tr>\n      <th>Wi-Fi</th>\n      <td>33,537,381,008 (33.5bn) hours</td>\n      <td>65,397,892,965 GB (65.4 EB)</td>\n    </tr>\n    <tr>\n      <th>Total</th>\n      <td>38,851,247,711 (38.9bn) hours</td>\n      <td>75,759,933,037 GB (75.8 EB)</td>\n    </tr>\n  </tbody>\n</table>\n</div>"
     },
     "metadata": {}
    }
   ]
  },
  {
   "cell_type": "markdown",
   "source": "#### Validation by comparison\n\nAn Ofcom survey<sup>9</sup> reported the total number of video minutes watched per day per person and the proportion of that which was not broadcast content i.e. online video streaming vs broadcast TV. Based on the UK population<sup>10</sup>, we can calculate the total viewing time and compare to our figure.",
   "metadata": {
    "tags": [],
    "cell_id": "00019-517790cd-5cef-4ab1-a9bd-1118f9a0045f",
    "deepnote_cell_type": "markdown"
   }
  },
  {
   "cell_type": "code",
   "metadata": {
    "tags": [],
    "cell_id": "00020-a0539e27-e316-4a44-835e-b6c955a4e824",
    "deepnote_to_be_reexecuted": false,
    "source_hash": "87bebd10",
    "execution_start": 1620720602147,
    "execution_millis": 18,
    "deepnote_cell_type": "code"
   },
   "source": "ofcomTotalVideoDailyMinutes = 294 # Source [9] (Pinpoint: Figure 1.4, pg 16)\nofcomPercentageNonBroadcast = 0.31 # Source [9] (Pinpoint: Figure 1.4, pg 16)\nukPopulation = 66400000 # Source [10]\n\nofcomTotalVideoStreamingHours = (ofcomTotalVideoDailyMinutes * ofcomPercentageNonBroadcast * ukPopulation * 365) / 60\nofcomTotalVideoStreamingHoursBn = ofcomTotalVideoStreamingHours / 1000 / 1000 / 1000\n\nprint(f'Ofcom survey: {ofcomTotalVideoStreamingHours:,.0f} ({ofcomTotalVideoStreamingHoursBn:,.1f}bn) hours')\nprint(f'Our calculation: {allUKVideoTimeTotal:,.0f} ({allUKVideoTimeTotalBn:,.1f}bn) hours')\n\n# % difference\ndifference = ((allUKVideoTimeTotal - ofcomTotalVideoStreamingHours) / allUKVideoTimeTotal) * 100\nprint(f'Difference: {difference:,.1f}%')",
   "execution_count": 10,
   "outputs": [
    {
     "name": "stdout",
     "text": "Ofcom survey: 36,814,484,000 (36.8bn) hours\nOur calculation: 38,851,247,711 (38.9bn) hours\nDifference: 5.2%\n",
     "output_type": "stream"
    }
   ]
  },
  {
   "cell_type": "markdown",
   "source": "## References\n\n1. UKOM (2019) Q4 2019 UK Digital Market Overview report. Available from: https://ukom.uk.net/uploads/files/news/ukom/174/UKOM_Digital_Marketing_Overview_December_2019_final.pdf\n\n2. Ofcom (2020) Online Nation – 2020 report. Available from: https://www.ofcom.org.uk/__data/assets/pdf_file/0027/196407/online-nation-2020-report.pdf\n\n3. Solsman, J.E. (2018) Normally secretive Netflix inches back the curtain on how subscribers stream. 7 March 2018. CNET. Available from: https://www.cnet.com/news/netflix-shares-streaming-data-by-device-country-mobile-wi-fi-movies-tv/\n\n4. Hindy, J. (2019) How much data does YouTube actually use? 30 June 2019. Android Authority. Available from: https://www.androidauthority.com/how-much-data-does-youtube-use-964560/\n\n5. Sandvine (2020) The Mobile Internet Phenomena Report. Available from: https://www.sandvine.com/download-report-mobile-internet-phenomena-report-2020-sandvine\n\n6. Sandvine (2019) The Global Internet Phenomena Report. Available from: https://www.sandvine.com/global-internet-phenomena-report-2019\n\n7. Ofcom (2019) Connected Nations 2019. 20 December 2019. Ofcom. Available from: https://www.ofcom.org.uk/research-and-data/multi-sector-research/infrastructure-research/connected-nations-2019/main-report\n\n8. Chee, F.Y. (2020) YouTube, Amazon Prime forgo streaming quality to relieve European networks. Reuters. 20 March. Available from: https://uk.reuters.com/article/us-health-coronavirus-youtube-exclusive-idUKKBN2170OP\n\n9. Ofcom (2019) Media Nations: UK 2019. Available from: https://www.ofcom.org.uk/__data/assets/pdf_file/0019/160714/media-nations-2019-uk-report.pdf\n\n10. Office for National Statistics (2019) Overview of the UK population. 23 August 2019. Available from: https://www.ons.gov.uk/peoplepopulationandcommunity/populationandmigration/populationestimates/articles/overviewoftheukpopulation/august2019",
   "metadata": {
    "tags": [],
    "cell_id": "00003-c9fd8eb8-6b53-4beb-b6ad-d00b7de18602",
    "deepnote_cell_type": "markdown"
   }
  },
  {
   "cell_type": "markdown",
   "source": "<a style='text-decoration:none;line-height:16px;display:flex;color:#5B5B62;padding:10px;justify-content:end;' href='https://deepnote.com?utm_source=created-in-deepnote-cell&projectId=82ad941d-519a-4a94-b1a2-0a0958075b21' target=\"_blank\">\n<img alt='Created in deepnote.com' style='display:inline;max-height:16px;margin:0px;margin-right:7.5px;' src='data:image/svg+xml;base64,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' > </img>\nCreated in <span style='font-weight:600;margin-left:4px;'>Deepnote</span></a>",
   "metadata": {
    "tags": [],
    "created_in_deepnote_cell": true,
    "deepnote_cell_type": "markdown"
   }
  }
 ],
 "nbformat": 4,
 "nbformat_minor": 2,
 "metadata": {
  "orig_nbformat": 2,
  "deepnote": {
   "is_reactive": false
  },
  "deepnote_notebook_id": "66413cde-20b8-4b8c-9c9b-6e00d27747fd",
  "deepnote_execution_queue": []
 }
}