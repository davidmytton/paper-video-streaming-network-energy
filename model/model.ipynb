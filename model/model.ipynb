{
 "cells": [
  {
   "cell_type": "markdown",
   "source": "# The network energy intensity of video streaming over Wi-Fi and 4G\n\n**Authors:** David Mytton, Iain Staffell, Malte Jansen.\n\n**Institution:** Centre for Environmental Policy, Imperial College London, London, SW7 1NE, UK.\n\n**Correspondence:** <david@davidmytton.co.uk>.\n\n## Summary\n\n> Between 2010-2018 internet traffic grew ten-fold and is expected to double again by 2022. With video streaming making up 60% of that traffic, 65% on mobile, it is important to understand its energy consumption. Here we develop an approach to assessing network energy consumption by collecting internet routing observations from volunteers, provide updated figures for the energy consumption of different sections of the internet, then calculate the network energy intensity of video streaming. We estimate the 2019 network energy footprint of the UK’s 39 billion hours of video streaming at 4.2 TWh, or 1.3% of total electricity generation. We show that the network energy intensity of video streaming over Wi-Fi is 0.091 kWh/hour, compared to 0.207 kWh/hour over 4G mobile internet.\n\n## This notebook\n\nThis notebook walks through the methodology and calculations as described in the accompanying manuscript.",
   "metadata": {
    "tags": [],
    "cell_id": "00000-3fb836cd-b77a-4f3b-8349-7163711ac9f2",
    "deepnote_cell_type": "markdown"
   }
  },
  {
   "cell_type": "markdown",
   "source": "#### Imports",
   "metadata": {
    "tags": [],
    "cell_id": "00001-e815ec23-4f84-4d8a-b5ca-fb7ffa41bf3d",
    "deepnote_cell_type": "markdown"
   }
  },
  {
   "cell_type": "code",
   "metadata": {
    "tags": [],
    "cell_id": "00002-4822a9c5-9c0c-431b-927a-b233524d49fd",
    "deepnote_to_be_reexecuted": false,
    "source_hash": "defb1371",
    "execution_start": 1621155508190,
    "execution_millis": 2948,
    "output_cleared": false,
    "deepnote_cell_type": "code"
   },
   "source": "%pip install -r requirements.txt\n\nimport textwrap\n\nimport numpy as np\nimport pandas as pd\nimport pint\nfrom pint import UnitRegistry\n\nureg = UnitRegistry()",
   "execution_count": 1,
   "outputs": [
    {
     "name": "stdout",
     "text": "Requirement already satisfied: pandas==1.2.4 in /shared-libs/python3.9/py/lib/python3.9/site-packages (from -r requirements.txt (line 1)) (1.2.4)\nRequirement already satisfied: pint==0.17 in /usr/local/lib/python3.9/site-packages (from -r requirements.txt (line 2)) (0.17)\nRequirement already satisfied: numpy>=1.16.5 in /shared-libs/python3.9/py/lib/python3.9/site-packages (from pandas==1.2.4->-r requirements.txt (line 1)) (1.20.2)\nRequirement already satisfied: pytz>=2017.3 in /shared-libs/python3.9/py/lib/python3.9/site-packages (from pandas==1.2.4->-r requirements.txt (line 1)) (2021.1)\nRequirement already satisfied: python-dateutil>=2.7.3 in /shared-libs/python3.9/py-core/lib/python3.9/site-packages (from pandas==1.2.4->-r requirements.txt (line 1)) (2.8.1)\nRequirement already satisfied: packaging in /shared-libs/python3.9/py-core/lib/python3.9/site-packages (from pint==0.17->-r requirements.txt (line 2)) (20.9)\nRequirement already satisfied: six>=1.5 in /shared-libs/python3.9/py-core/lib/python3.9/site-packages (from python-dateutil>=2.7.3->pandas==1.2.4->-r requirements.txt (line 1)) (1.16.0)\nRequirement already satisfied: pyparsing>=2.0.2 in /shared-libs/python3.9/py-core/lib/python3.9/site-packages (from packaging->pint==0.17->-r requirements.txt (line 2)) (2.4.7)\n\u001b[33mWARNING: Running pip as root will break packages and permissions. You should install packages reliably by using venv: https://pip.pypa.io/warnings/venv\u001b[0m\nNote: you may need to restart the kernel to use updated packages.\n",
     "output_type": "stream"
    }
   ]
  },
  {
   "cell_type": "markdown",
   "source": "## Internet video traffic\n\nWe assume YouTube is representative of all streaming because it is the most watched streaming service, and so has the most data available. Using YouTube as a case study, we can calculate the total amount of time, data volume, and therefore energy consumption of video streaming in general.\n\nWe therefore start with an assessment of YouTube.\n\n### YouTube watch time\n\nYouTube does not publish statistics so we start with watching figures from the advertising industry<sup>1</sup>, Ofcom<sup>2</sup>, and Netflix<sup>3</sup>.",
   "metadata": {
    "tags": [],
    "cell_id": "00000-e318a7fc-9d03-46bc-bcb8-6bc34633fd48",
    "deepnote_cell_type": "markdown"
   }
  },
  {
   "cell_type": "code",
   "metadata": {
    "tags": [],
    "cell_id": "00003-6b27801c-c0c9-4d7e-9390-76d571fe1e32",
    "deepnote_to_be_reexecuted": false,
    "source_hash": "11215234",
    "execution_start": 1621155511143,
    "execution_millis": 3,
    "deepnote_cell_type": "code"
   },
   "source": "# Dec 2019 UK YouTube minutes (mobile devices)\nyoutubeTimeDecDevices = 32099000000 * ureg.minutes # Source [1] (Pinpoint: pg 30)\n\n# % watched YouTube (mobile devices)\nyoutubeWatchPercentageMobileDevices = 0.73 # 73% Source [2] (Pinpoint: Figure 4.10, pg116)\n\n# % watched YouTube (mobile networks)\nyoutubeWatchPercentageMobileNetworks = 0.25 # 25% Source [3]",
   "execution_count": 2,
   "outputs": []
  },
  {
   "cell_type": "markdown",
   "source": "Using the total annual watch minutes, the total time watched on mobile devices and the total time watched on mobile networks, we can calculate the total time spent on Wi-Fi and non-mobile devices.",
   "metadata": {
    "tags": [],
    "cell_id": "00003-f6c26b12-b6ba-4635-a05a-dc2919b8790b",
    "deepnote_cell_type": "markdown"
   }
  },
  {
   "cell_type": "code",
   "metadata": {
    "tags": [],
    "cell_id": "00000-a000e3a1-9196-456b-87e2-092a6a376c59",
    "deepnote_to_be_reexecuted": false,
    "source_hash": "51d12bf5",
    "execution_start": 1621155511150,
    "execution_millis": 14,
    "is_code_hidden": false,
    "output_cleared": false,
    "deepnote_cell_type": "code"
   },
   "source": "# Assume Dec 2019 figure is representative of the full year\nyoutubeTimeAnnualDevices = youtubeTimeDecDevices * 12\n\n# Annual UK YouTube minutes (all networks, all devices)\nyoutubeTimeAnnualAllNetworksAllDevices = youtubeTimeAnnualDevices / youtubeWatchPercentageMobileDevices\nprint(f'Annual UK YouTube minutes (all networks, all devices): {youtubeTimeAnnualAllNetworksAllDevices:,.0f}')\n\nprint(f'Annual UK YouTube minutes (mobile devices): {youtubeTimeAnnualAllNetworksAllDevices:,.0f}')\n\n# Annual UK YouTube minutes (mobile networks)\nyoutubeTimeAnnualMobileNetworks = youtubeWatchPercentageMobileNetworks * youtubeTimeAnnualAllNetworksAllDevices\nprint(f'Annual UK YouTube minutes (mobile networks): {youtubeTimeAnnualMobileNetworks:,.0f}')\n\n# Annual UK YouTube minutes (Wi-fi networks, all devices)\nyoutubeTimeAnnualWifiAllDevices = youtubeTimeAnnualAllNetworksAllDevices - youtubeTimeAnnualMobileNetworks\nprint(f'Annual UK YouTube minutes (Wi-Fi networks, all devices): {youtubeTimeAnnualWifiAllDevices:,.0f}')",
   "execution_count": 3,
   "outputs": [
    {
     "name": "stdout",
     "text": "Annual UK YouTube minutes (all networks, all devices): 527,654,794,521 minute\nAnnual UK YouTube minutes (mobile devices): 527,654,794,521 minute\nAnnual UK YouTube minutes (mobile networks): 131,913,698,630 minute\nAnnual UK YouTube minutes (Wi-Fi networks, all devices): 395,741,095,890 minute\n",
     "output_type": "stream"
    }
   ]
  },
  {
   "cell_type": "markdown",
   "source": "### YouTube data volume\n\nThe amount of data transmitted during a single YouTube video streaming session varies based on factors such as device type, screen size, video resolution, framerate, bit rate, network speed and which formats the video was encoded into. \n\nFor each video quality setting, we take the mean average of the range of values reported in an observational assessment of 1 hour of streaming produced for an Android website<sup>4</sup>. In this assessment, data volume was recorded using three separate tools: Android's built-in data monitoring, Google's Datally app and the GlassWire data monitoring app.",
   "metadata": {
    "tags": [],
    "cell_id": "00005-5109376c-23f4-4502-9c09-bedbe49e0df6",
    "deepnote_cell_type": "markdown"
   }
  },
  {
   "cell_type": "code",
   "metadata": {
    "tags": [],
    "cell_id": "00006-303f842c-c29a-4e22-9252-95664cd37608",
    "deepnote_to_be_reexecuted": false,
    "source_hash": "d2407dc4",
    "execution_start": 1621155511161,
    "execution_millis": 17,
    "deepnote_cell_type": "code"
   },
   "source": "dataVolume = pd.DataFrame({\n    480: [0.48 * ureg.gigabyte, 0.66 * ureg.gigabyte], # 480p SD [min, max]\n    720: [1.2 * ureg.gigabyte, 2.7 * ureg.gigabyte], # 720p HD [min ,max]\n    1080: [2.5 * ureg.gigabyte, 4.1 * ureg.gigabyte], # 1080p FHD [min ,max]\n    1440: [2.7 * ureg.gigabyte, 8.1 * ureg.gigabyte], # 1440p QHD [min ,max]\n    2160: [5.5 * ureg.gigabyte, 23.0 * ureg.gigabyte], # 2160p UHD 4k [min ,max]\n})",
   "execution_count": 4,
   "outputs": [
    {
     "name": "stderr",
     "text": "/shared-libs/python3.9/py/lib/python3.9/site-packages/pandas/core/dtypes/cast.py:1638: UnitStrippedWarning: The unit of the quantity is stripped when downcasting to ndarray.\n  result[:] = values\n",
     "output_type": "stream"
    }
   ]
  },
  {
   "cell_type": "markdown",
   "source": "### Video traffic\n\nWe need to know how much traffic is from YouTube and video in general for both mobile and non-mobile.",
   "metadata": {
    "tags": [],
    "cell_id": "00009-b7435b0f-8934-4d52-a74b-fc0b8bf2f31b",
    "deepnote_cell_type": "markdown"
   }
  },
  {
   "cell_type": "code",
   "metadata": {
    "tags": [],
    "cell_id": "00010-34d64cb7-08a3-4536-8943-56e4517aa3d9",
    "deepnote_to_be_reexecuted": false,
    "source_hash": "ee31422a",
    "execution_start": 1621155511212,
    "execution_millis": 1,
    "deepnote_cell_type": "code"
   },
   "source": "internetTrafficYouTube = 0.118 # 11.8% Source [5] (Pinpoint: pg12)\ninternetTrafficVideo = 0.60 # 60% Source [5] (Pinpoint: pg6)\nmobileTrafficYouTube = 0.271 # 27.1% Source [6] (Pinpoint: pg9)\nmobileTrafficVideo = 0.655 # 65.5% Source [6] (Pinpoint: pg5)",
   "execution_count": 5,
   "outputs": []
  },
  {
   "cell_type": "markdown",
   "source": "## Video streaming time and data\n\nUsing the figures above, we calculate the total annual time spent and associated data volume for YouTube.\n\nWe assume mobile traffic is all 4G and non-mobile traffic is all Wi-Fi because 97% of UK premises have access to decent fixed (at least 10 Mbit/s) and 4G (at least 2 Mbit/s) services, 91% of geographic areas of the UK are able to receive 4G data service from at least one operator, and 4G carries 90% of UK mobile data traffic<sup>7</sup>. 3G connectivity is excluded because it carries only a small proportion of data traffic.\n\nWe assume the default video quality is 720p High Definition (HD) because during the 2020 Coronavirus pandemic, the default was reduced to 480p Standard Definition (SD)<sup>8</sup>. The reference year for this assessment is 2019.",
   "metadata": {
    "tags": [],
    "cell_id": "00011-0c533d04-ae82-4f5c-ad19-b7c679fdbac5",
    "deepnote_cell_type": "markdown"
   }
  },
  {
   "cell_type": "code",
   "metadata": {
    "tags": [],
    "cell_id": "00012-ad305ee0-e5a9-4f10-b28f-0a936a32ef63",
    "deepnote_to_be_reexecuted": false,
    "source_hash": "24a7c2d3",
    "execution_start": 1621155511213,
    "execution_millis": 0,
    "deepnote_cell_type": "code"
   },
   "source": "# 720p HD video quality\nvideoQuality = 720",
   "execution_count": 6,
   "outputs": []
  },
  {
   "cell_type": "markdown",
   "source": "### YouTube",
   "metadata": {
    "tags": [],
    "cell_id": "00013-fc45c8e4-7912-4e22-ac07-0f2fc4639805",
    "deepnote_cell_type": "markdown"
   }
  },
  {
   "cell_type": "code",
   "metadata": {
    "tags": [],
    "cell_id": "00014-1f43da12-8955-47e2-a085-dc8772e24195",
    "deepnote_to_be_reexecuted": false,
    "source_hash": "ea7a5f2d",
    "execution_start": 1621155511213,
    "execution_millis": 21,
    "output_cleared": false,
    "deepnote_cell_type": "code"
   },
   "source": "# Tidy up the calculations into an easily readable data frame\nyoutube = pd.DataFrame({\n    'Time': {\n        '4G': youtubeTimeAnnualMobileNetworks,\n        'Wi-Fi': youtubeTimeAnnualWifiAllDevices,\n        'Total': youtubeTimeAnnualMobileNetworks + youtubeTimeAnnualWifiAllDevices,\n    },\n    'Data': {\n        '4G': youtubeTimeAnnualMobileNetworks.to('hours').magnitude * dataVolume[videoQuality].values.mean(),\n        'Wi-Fi': youtubeTimeAnnualWifiAllDevices.to('hours').magnitude * dataVolume[videoQuality].values.mean(),\n        'Total': (youtubeTimeAnnualMobileNetworks.to('hours').magnitude * dataVolume[videoQuality].values.mean()) + (youtubeTimeAnnualWifiAllDevices.to('hours').magnitude * dataVolume[videoQuality].values.mean()),\n    }\n})\n\n# Format nicely for display\nyoutubeDisplay = pd.DataFrame({\n    'Time': {\n        '4G': f'{youtube[\"Time\"][\"4G\"].to(\"hour\"):,.0f} ({youtube[\"Time\"][\"4G\"].to(\"hour\").to_compact().magnitude:,.1f} bn)',\n        'Wi-Fi': f'{youtube[\"Time\"][\"Wi-Fi\"].to(\"hour\"):,.0f} ({youtube[\"Time\"][\"Wi-Fi\"].to(\"hour\").to_compact().magnitude:,.1f} bn)',\n        'Total': f'{youtube[\"Time\"][\"Total\"].to(\"hour\"):,.0f} ({youtube[\"Time\"][\"Total\"].to(\"hour\").to_compact().magnitude:,.1f} bn)',\n\n    },\n    'Data': {\n        '4G': f'{youtube[\"Data\"][\"4G\"].to(\"gigabyte\"):,.0f~H} ({youtube[\"Data\"][\"4G\"].to(\"exabyte\"):,.1f~H})',\n        'Wi-Fi': f'{youtube[\"Data\"][\"Wi-Fi\"].to(\"gigabyte\"):,.0f~H} ({youtube[\"Data\"][\"Wi-Fi\"].to(\"exabyte\"):,.1f~H})',\n        'Total': f'{youtube[\"Data\"][\"Total\"].to(\"gigabyte\"):,.0f~H} ({youtube[\"Data\"][\"Total\"].to(\"exabyte\"):,.1f~H})',\n\n    }\n})\nyoutubeDisplay",
   "execution_count": 7,
   "outputs": [
    {
     "output_type": "execute_result",
     "execution_count": 7,
     "data": {
      "application/vnd.deepnote.dataframe.v2+json": {
       "row_count": 3,
       "column_count": 2,
       "columns": [
        {
         "name": "Time",
         "dtype": "object",
         "stats": {
          "unique_count": 3,
          "nan_count": 0,
          "categories": [
           {
            "name": "2,198,561,644 hour (2.2 bn)",
            "count": 1
           },
           {
            "name": "6,595,684,932 hour (6.6 bn)",
            "count": 1
           },
           {
            "name": "8,794,246,575 hour (8.8 bn)",
            "count": 1
           }
          ]
         }
        },
        {
         "name": "Data",
         "dtype": "object",
         "stats": {
          "unique_count": 3,
          "nan_count": 0,
          "categories": [
           {
            "name": "4,287,195,205 GB (4.3 EB)",
            "count": 1
           },
           {
            "name": "12,861,585,616 GB (12.9 EB)",
            "count": 1
           },
           {
            "name": "17,148,780,822 GB (17.1 EB)",
            "count": 1
           }
          ]
         }
        },
        {
         "name": "_deepnote_index_column",
         "dtype": "object"
        }
       ],
       "rows_top": [
        {
         "Time": "2,198,561,644 hour (2.2 bn)",
         "Data": "4,287,195,205 GB (4.3 EB)",
         "_deepnote_index_column": "4G"
        },
        {
         "Time": "6,595,684,932 hour (6.6 bn)",
         "Data": "12,861,585,616 GB (12.9 EB)",
         "_deepnote_index_column": "Wi-Fi"
        },
        {
         "Time": "8,794,246,575 hour (8.8 bn)",
         "Data": "17,148,780,822 GB (17.1 EB)",
         "_deepnote_index_column": "Total"
        }
       ],
       "rows_bottom": null
      },
      "text/plain": "                              Time                         Data\n4G     2,198,561,644 hour (2.2 bn)    4,287,195,205 GB (4.3 EB)\nWi-Fi  6,595,684,932 hour (6.6 bn)  12,861,585,616 GB (12.9 EB)\nTotal  8,794,246,575 hour (8.8 bn)  17,148,780,822 GB (17.1 EB)",
      "text/html": "<div>\n<style scoped>\n    .dataframe tbody tr th:only-of-type {\n        vertical-align: middle;\n    }\n\n    .dataframe tbody tr th {\n        vertical-align: top;\n    }\n\n    .dataframe thead th {\n        text-align: right;\n    }\n</style>\n<table border=\"1\" class=\"dataframe\">\n  <thead>\n    <tr style=\"text-align: right;\">\n      <th></th>\n      <th>Time</th>\n      <th>Data</th>\n    </tr>\n  </thead>\n  <tbody>\n    <tr>\n      <th>4G</th>\n      <td>2,198,561,644 hour (2.2 bn)</td>\n      <td>4,287,195,205 GB (4.3 EB)</td>\n    </tr>\n    <tr>\n      <th>Wi-Fi</th>\n      <td>6,595,684,932 hour (6.6 bn)</td>\n      <td>12,861,585,616 GB (12.9 EB)</td>\n    </tr>\n    <tr>\n      <th>Total</th>\n      <td>8,794,246,575 hour (8.8 bn)</td>\n      <td>17,148,780,822 GB (17.1 EB)</td>\n    </tr>\n  </tbody>\n</table>\n</div>"
     },
     "metadata": {}
    }
   ]
  },
  {
   "cell_type": "markdown",
   "source": "#### Validation by comparison\n\nAn Ofcom survey<sup>2</sup> reported the number of unique visitors to YouTube out of the UK population and how much time they spent on it per day in 2019. From this we can calculate the total viewing time and compare to our figure.",
   "metadata": {
    "tags": [],
    "cell_id": "00015-5eb90005-a91d-49f6-9c59-5dac514bca49",
    "deepnote_cell_type": "markdown"
   }
  },
  {
   "cell_type": "code",
   "metadata": {
    "tags": [],
    "cell_id": "00016-faa38b1d-7e31-4937-b5da-93ff9ad8cd8d",
    "deepnote_to_be_reexecuted": false,
    "source_hash": "30e64250",
    "execution_start": 1621155511222,
    "execution_millis": 16,
    "output_cleared": false,
    "deepnote_cell_type": "code"
   },
   "source": "# YouTube daily visitors\nofcomYoutubeDailyVisitors = 41970000 # Source [2] (Pinpoint: Figure 4.6, pg111)\n\n# YouTube average daily time spent\nofcomYoutubeAverageDailyTimeSpent = 35 * ureg.minutes # Source [2] (Pinpoint: Figure 4.8, pg 114)\n\n# Annual UK YouTube time spent\nofcomYoutubeAnnualTimeSpent = ((ofcomYoutubeAverageDailyTimeSpent * 365) * ofcomYoutubeDailyVisitors)\nprint(f'Ofcom survey: {ofcomYoutubeAnnualTimeSpent.to(\"hours\").magnitude:,.0f} ({ofcomYoutubeAnnualTimeSpent.to(\"hours\").to_compact().magnitude:,.1f}bn) hours')\nprint(f'Our calculation: {youtube[\"Time\"][\"Total\"].to(\"hours\").magnitude:,.0f} ({youtube[\"Time\"][\"Total\"].to(\"hours\").to_compact().magnitude:,.1f}bn) hours')\n\n# % difference\ndifference = ((youtube['Time']['Total'] - ofcomYoutubeAnnualTimeSpent) / youtube['Time']['Total']) * 100\nprint(f'Difference: {difference.magnitude:,.1f}%')",
   "execution_count": 8,
   "outputs": [
    {
     "name": "stdout",
     "text": "Ofcom survey: 8,936,112,500 (8.9bn) hours\nOur calculation: 8,794,246,575 (8.8bn) hours\nDifference: -1.6%\n",
     "output_type": "stream"
    }
   ]
  },
  {
   "cell_type": "markdown",
   "source": "### All UK video streaming\n\nGiven that YouTube is a certain percentage of all internet traffic, and we know what percentage of traffic is video streaming, if we assume that YouTube is representative of all video streaming we can extrapolate for all UK video streaming.",
   "metadata": {
    "tags": [],
    "cell_id": "00015-125ba784-5a24-46af-99b7-dd1a6ba5c49b",
    "deepnote_cell_type": "markdown"
   }
  },
  {
   "cell_type": "code",
   "metadata": {
    "tags": [],
    "cell_id": "00016-b9d3b1d0-0143-490f-8a1f-8b0cc74c16f1",
    "deepnote_to_be_reexecuted": false,
    "source_hash": "dea559be",
    "execution_start": 1621155511257,
    "execution_millis": 12,
    "deepnote_cell_type": "code"
   },
   "source": "# Extrapolate to all video streaming\nallUKVideo4GData = (youtube['Data']['4G'] / mobileTrafficYouTube) * mobileTrafficVideo\nallUKVideoWiFiData = (youtube['Data']['Wi-Fi'] / internetTrafficYouTube) * internetTrafficVideo\nallUKVideo4GTime = (allUKVideo4GData / dataVolume[videoQuality].values.mean()) * ureg.hours\nallUKVideoWiFiTime = (allUKVideoWiFiData / dataVolume[videoQuality].values.mean()) * ureg.hours\n\n# Create a dataframe for easy analysis\nallUKVideo = pd.DataFrame({\n    'Time': {\n        '4G': allUKVideo4GTime,\n        'Wi-Fi': allUKVideoWiFiTime,\n        'Total': allUKVideo4GTime + allUKVideoWiFiTime,\n    },\n    'Data': {\n        '4G': allUKVideo4GData,\n        'Wi-Fi': allUKVideoWiFiData,\n        'Total': allUKVideo4GData + allUKVideoWiFiData,\n    }\n})\n\n# Format nicely for display\nallUKVideoDisplay = pd.DataFrame({\n    'Time': {\n        '4G': f'{allUKVideo[\"Time\"][\"4G\"].to(\"hour\"):,.0f} ({allUKVideo[\"Time\"][\"4G\"].to(\"hour\").to_compact().magnitude:,.1f} bn)',\n        'Wi-Fi': f'{allUKVideo[\"Time\"][\"Wi-Fi\"].to(\"hour\"):,.0f} ({allUKVideo[\"Time\"][\"Wi-Fi\"].to(\"hour\").to_compact().magnitude:,.1f} bn)',\n        'Total': f'{allUKVideo[\"Time\"][\"Total\"].to(\"hour\"):,.0f} ({allUKVideo[\"Time\"][\"Total\"].to(\"hour\").to_compact().magnitude:,.1f} bn)',\n\n    },\n    'Data': {\n        '4G': f'{allUKVideo[\"Data\"][\"4G\"].to(\"gigabyte\"):,.0f~H} ({allUKVideo[\"Data\"][\"4G\"].to(\"exabyte\"):,.1f~H})',\n        'Wi-Fi': f'{allUKVideo[\"Data\"][\"Wi-Fi\"].to(\"gigabyte\"):,.0f~H} ({allUKVideo[\"Data\"][\"Wi-Fi\"].to(\"exabyte\"):,.1f~H})',\n        'Total': f'{allUKVideo[\"Data\"][\"Total\"].to(\"gigabyte\"):,.0f~H} ({allUKVideo[\"Data\"][\"Total\"].to(\"exabyte\"):,.1f~H})',\n    }\n})\nallUKVideoDisplay",
   "execution_count": 9,
   "outputs": [
    {
     "output_type": "execute_result",
     "execution_count": 9,
     "data": {
      "application/vnd.deepnote.dataframe.v2+json": {
       "row_count": 3,
       "column_count": 2,
       "columns": [
        {
         "name": "Time",
         "dtype": "object",
         "stats": {
          "unique_count": 3,
          "nan_count": 0,
          "categories": [
           {
            "name": "5,313,866,704 hour (5.3 bn)",
            "count": 1
           },
           {
            "name": "33,537,381,008 hour (33.5 bn)",
            "count": 1
           },
           {
            "name": "38,851,247,711 hour (38.9 bn)",
            "count": 1
           }
          ]
         }
        },
        {
         "name": "Data",
         "dtype": "object",
         "stats": {
          "unique_count": 3,
          "nan_count": 0,
          "categories": [
           {
            "name": "10,362,040,072 GB (10.4 EB)",
            "count": 1
           },
           {
            "name": "65,397,892,965 GB (65.4 EB)",
            "count": 1
           },
           {
            "name": "75,759,933,037 GB (75.8 EB)",
            "count": 1
           }
          ]
         }
        },
        {
         "name": "_deepnote_index_column",
         "dtype": "object"
        }
       ],
       "rows_top": [
        {
         "Time": "5,313,866,704 hour (5.3 bn)",
         "Data": "10,362,040,072 GB (10.4 EB)",
         "_deepnote_index_column": "4G"
        },
        {
         "Time": "33,537,381,008 hour (33.5 bn)",
         "Data": "65,397,892,965 GB (65.4 EB)",
         "_deepnote_index_column": "Wi-Fi"
        },
        {
         "Time": "38,851,247,711 hour (38.9 bn)",
         "Data": "75,759,933,037 GB (75.8 EB)",
         "_deepnote_index_column": "Total"
        }
       ],
       "rows_bottom": null
      },
      "text/plain": "                                Time                         Data\n4G       5,313,866,704 hour (5.3 bn)  10,362,040,072 GB (10.4 EB)\nWi-Fi  33,537,381,008 hour (33.5 bn)  65,397,892,965 GB (65.4 EB)\nTotal  38,851,247,711 hour (38.9 bn)  75,759,933,037 GB (75.8 EB)",
      "text/html": "<div>\n<style scoped>\n    .dataframe tbody tr th:only-of-type {\n        vertical-align: middle;\n    }\n\n    .dataframe tbody tr th {\n        vertical-align: top;\n    }\n\n    .dataframe thead th {\n        text-align: right;\n    }\n</style>\n<table border=\"1\" class=\"dataframe\">\n  <thead>\n    <tr style=\"text-align: right;\">\n      <th></th>\n      <th>Time</th>\n      <th>Data</th>\n    </tr>\n  </thead>\n  <tbody>\n    <tr>\n      <th>4G</th>\n      <td>5,313,866,704 hour (5.3 bn)</td>\n      <td>10,362,040,072 GB (10.4 EB)</td>\n    </tr>\n    <tr>\n      <th>Wi-Fi</th>\n      <td>33,537,381,008 hour (33.5 bn)</td>\n      <td>65,397,892,965 GB (65.4 EB)</td>\n    </tr>\n    <tr>\n      <th>Total</th>\n      <td>38,851,247,711 hour (38.9 bn)</td>\n      <td>75,759,933,037 GB (75.8 EB)</td>\n    </tr>\n  </tbody>\n</table>\n</div>"
     },
     "metadata": {}
    }
   ]
  },
  {
   "cell_type": "markdown",
   "source": "#### Validation by comparison\n\nAn Ofcom survey<sup>9</sup> reported the total number of video minutes watched per day per person and the proportion of that which was not broadcast content i.e. online video streaming vs broadcast TV. Based on the UK population<sup>10</sup>, we can calculate the total viewing time and compare to our figure.",
   "metadata": {
    "tags": [],
    "cell_id": "00019-517790cd-5cef-4ab1-a9bd-1118f9a0045f",
    "deepnote_cell_type": "markdown"
   }
  },
  {
   "cell_type": "code",
   "metadata": {
    "tags": [],
    "cell_id": "00020-a0539e27-e316-4a44-835e-b6c955a4e824",
    "deepnote_to_be_reexecuted": false,
    "source_hash": "6c395e96",
    "execution_start": 1621155511258,
    "execution_millis": 11,
    "deepnote_cell_type": "code"
   },
   "source": "ofcomTotalTimeOnlinePerPerson = 209 * ureg.minutes # Source [2] (Pinpoint: Paragraph, pg 9)\n\nofcomTotalVideoTimeDaily = 294  * ureg.minutes # Source [9] (Pinpoint: Figure 1.4, pg 16)\nofcomPercentageNonBroadcast = 0.31 # Source [9] (Pinpoint: Figure 1.4, pg 16)\nukPopulation = 66400000 # Source [10]\n\nofcomTotalVideoStreamingTime = (ofcomTotalVideoTimeDaily * ofcomPercentageNonBroadcast * ukPopulation * 365)\n\nprint(f'Ofcom survey: {ofcomTotalVideoStreamingTime.to(\"hours\").magnitude:,.0f} ({ofcomTotalVideoStreamingTime.to(\"hours\").to_compact().magnitude:,.1f}bn) hours')\nprint(f'Our calculation: {allUKVideo[\"Time\"][\"Total\"].to(\"hours\").magnitude:,.0f} ({allUKVideo[\"Time\"][\"Total\"].to(\"hours\").to_compact().magnitude:,.1f}bn) hours')\n\n# % difference\ndifference = ((allUKVideo['Time']['Total'] - ofcomTotalVideoStreamingTime) / allUKVideo['Time']['Total']) * 100\nprint(f'Difference: {difference.magnitude:,.1f}%')",
   "execution_count": 10,
   "outputs": [
    {
     "name": "stdout",
     "text": "Ofcom survey: 36,814,484,000 (36.8bn) hours\nOur calculation: 38,851,247,711 (38.9bn) hours\nDifference: 5.2%\n",
     "output_type": "stream"
    }
   ]
  },
  {
   "cell_type": "markdown",
   "source": "## Traceroute sample analysis\n\n116 Scamper traceroute samples were returned by 29 participants. The individual samples are provided in `/traceroute-samples/samples/`. An aggregated CSV is provided in `/traceroute-samples/traceroute-samples.csv` with network ownership metadata returned by [IPInfo](https://ipinfo.io). Two samples returned anomalous results where zero hops were reported - these are excluded as `NaN`. See `/traceroute-samples/aggregate-samples.ipynb` for the aggregation code.",
   "metadata": {
    "tags": [],
    "cell_id": "00021-378458a4-654a-43f0-808e-2f0dab369a72",
    "deepnote_cell_type": "markdown"
   }
  },
  {
   "cell_type": "code",
   "metadata": {
    "tags": [],
    "cell_id": "00022-7dbf5dad-22f2-44d0-9e91-0d712c64f593",
    "deepnote_to_be_reexecuted": false,
    "source_hash": "c189b327",
    "execution_start": 1621155511267,
    "execution_millis": 93,
    "output_cleared": false,
    "deepnote_cell_type": "code"
   },
   "source": "traceroutes = pd.read_csv('../traceroute-samples/traceroute-samples.csv')\n\n# ASN Names\ngoogleASN = 'AS15169 Google LLC'\nfacebookASN = 'AS32934 Facebook, Inc.'\n\n# Destination ASN = 4G\ntraceroutes4G = traceroutes.query('Connection == \"4g\"')\ntraceroutesWiFi = traceroutes.query('Connection == \"wifi\"')\n\n# Destination ASN = ISP\ntraceroutesISPAll = traceroutes.query(\n    '`Destination ASN` != @googleASN and `Destination ASN` != @facebookASN')\ntraceroutesISP4G = traceroutesISPAll.query('Connection == \"4g\"')\ntraceroutesISPWiFi = traceroutesISPAll.query('Connection == \"wifi\"')\n\n# Destination ASN = Facebook or Google\ntraceroutesFBGOOGAll = traceroutes.query(\n    '`Destination ASN` == @googleASN or `Destination ASN` == @facebookASN')\ntraceroutesFBGOOG4G = traceroutesFBGOOGAll.query('Connection == \"4g\"')\ntraceroutesFBGOOGWiFi = traceroutesFBGOOGAll.query('Connection == \"wifi\"')",
   "execution_count": 11,
   "outputs": []
  },
  {
   "cell_type": "markdown",
   "source": "### Hop counts\n\nCalculate the mean hope count and standard deviation based on the owner of the destination network. The ISP owning the destination network indicates a caching device is deployed within the network.",
   "metadata": {
    "tags": [],
    "cell_id": "00023-daf21500-ff0f-4031-9918-6d6477555c4a",
    "deepnote_cell_type": "markdown"
   }
  },
  {
   "cell_type": "code",
   "metadata": {
    "tags": [],
    "cell_id": "00024-5becc4f0-b6b0-4d30-b4ba-b091630ddfc9",
    "deepnote_to_be_reexecuted": false,
    "source_hash": "2c8c4a",
    "execution_start": 1621155511388,
    "execution_millis": 12,
    "deepnote_cell_type": "code"
   },
   "source": "hopCounts = pd.DataFrame({\n   'Count': { # Count total number of samples\n        'All': traceroutes['Participant City'].count(),\n        'Connection: 4G': traceroutes4G['Participant City'].count(),\n        'Connection: Wi-Fi': traceroutesWiFi['Participant City'].count(),\n        'Destination - ISP: All': traceroutesISPAll['Participant City'].count(),\n        'Destination - ISP: 4G': traceroutesISP4G['Participant City'].count(),\n        'Destination - ISP: Wi-Fi': traceroutesISPWiFi['Participant City'].count(),\n        'Destination - FB or GOOG: All': traceroutesFBGOOGAll['Participant City'].count(),\n        'Destination - FB or GOOG: 4G': traceroutesFBGOOG4G['Participant City'].count(),\n        'Destination - FB or GOOG: Wi-Fi': traceroutesFBGOOGWiFi['Participant City'].count(),\n    },\n    'Mean': { # Mean hop count, excluding anomalous results\n        'All': traceroutes['Trace Hop Count'].mean(skipna=True),\n        'Connection: 4G': traceroutes4G['Trace Hop Count'].mean(skipna=True),\n        'Connection: Wi-Fi': traceroutesWiFi['Trace Hop Count'].mean(skipna=True),    \n        'Destination - ISP: All': traceroutesISPAll['Trace Hop Count'].mean(skipna=True),\n        'Destination - ISP: 4G': traceroutesISP4G['Trace Hop Count'].mean(skipna=True),\n        'Destination - ISP: Wi-Fi': traceroutesISPWiFi['Trace Hop Count'].mean(skipna=True),\n        'Destination - FB or GOOG: All': traceroutesFBGOOGAll['Trace Hop Count'].mean(skipna=True),\n        'Destination - FB or GOOG: 4G': traceroutesFBGOOG4G['Trace Hop Count'].mean(skipna=True),\n        'Destination - FB or GOOG: Wi-Fi': traceroutesFBGOOGWiFi['Trace Hop Count'].mean(skipna=True),\n    },\n    'StdDev': {  # Hop count standard deviation, excluding anomalous results\n        'All': traceroutes['Trace Hop Count'].std(skipna=True),\n        'Connection: 4G': traceroutes4G['Trace Hop Count'].std(skipna=True),\n        'Connection: Wi-Fi': traceroutesWiFi['Trace Hop Count'].std(skipna=True),\n        'Destination - ISP: All': traceroutesISPAll['Trace Hop Count'].std(skipna=True),\n        'Destination - ISP: 4G': traceroutesISP4G['Trace Hop Count'].std(skipna=True),\n        'Destination - ISP: Wi-Fi': traceroutesISPWiFi['Trace Hop Count'].std(skipna=True),\n        'Destination - FB or GOOG: All': traceroutesFBGOOGAll['Trace Hop Count'].std(skipna=True),\n        'Destination - FB or GOOG: 4G': traceroutesFBGOOG4G['Trace Hop Count'].std(skipna=True),\n        'Destination - FB or GOOG: Wi-Fi': traceroutesFBGOOGWiFi['Trace Hop Count'].std(skipna=True),\n    }\n})\n\nhopCounts",
   "execution_count": 12,
   "outputs": [
    {
     "output_type": "execute_result",
     "execution_count": 12,
     "data": {
      "application/vnd.deepnote.dataframe.v2+json": {
       "row_count": 9,
       "column_count": 3,
       "columns": [
        {
         "name": "Count",
         "dtype": "int64",
         "stats": {
          "unique_count": 8,
          "nan_count": 0,
          "min": "20",
          "max": "116",
          "histogram": [
           {
            "bin_start": 20,
            "bin_end": 29.6,
            "count": 2
           },
           {
            "bin_start": 29.6,
            "bin_end": 39.2,
            "count": 2
           },
           {
            "bin_start": 39.2,
            "bin_end": 48.8,
            "count": 0
           },
           {
            "bin_start": 48.8,
            "bin_end": 58.4,
            "count": 3
           },
           {
            "bin_start": 58.4,
            "bin_end": 68,
            "count": 1
           },
           {
            "bin_start": 68,
            "bin_end": 77.6,
            "count": 0
           },
           {
            "bin_start": 77.6,
            "bin_end": 87.2,
            "count": 0
           },
           {
            "bin_start": 87.2,
            "bin_end": 96.8,
            "count": 0
           },
           {
            "bin_start": 96.8,
            "bin_end": 106.39999999999999,
            "count": 0
           },
           {
            "bin_start": 106.39999999999999,
            "bin_end": 116,
            "count": 1
           }
          ]
         }
        },
        {
         "name": "Mean",
         "dtype": "float64",
         "stats": {
          "unique_count": 9,
          "nan_count": 0,
          "min": "5.15625",
          "max": "10.541666666666666",
          "histogram": [
           {
            "bin_start": 5.15625,
            "bin_end": 5.694791666666666,
            "count": 1
           },
           {
            "bin_start": 5.694791666666666,
            "bin_end": 6.233333333333333,
            "count": 1
           },
           {
            "bin_start": 6.233333333333333,
            "bin_end": 6.771875,
            "count": 0
           },
           {
            "bin_start": 6.771875,
            "bin_end": 7.310416666666667,
            "count": 1
           },
           {
            "bin_start": 7.310416666666667,
            "bin_end": 7.848958333333333,
            "count": 4
           },
           {
            "bin_start": 7.848958333333333,
            "bin_end": 8.3875,
            "count": 0
           },
           {
            "bin_start": 8.3875,
            "bin_end": 8.926041666666666,
            "count": 1
           },
           {
            "bin_start": 8.926041666666666,
            "bin_end": 9.464583333333334,
            "count": 0
           },
           {
            "bin_start": 9.464583333333334,
            "bin_end": 10.003124999999999,
            "count": 0
           },
           {
            "bin_start": 10.003124999999999,
            "bin_end": 10.541666666666666,
            "count": 1
           }
          ]
         }
        },
        {
         "name": "StdDev",
         "dtype": "float64",
         "stats": {
          "unique_count": 9,
          "nan_count": 0,
          "min": "1.7059549402210235",
          "max": "5.888303617164197",
          "histogram": [
           {
            "bin_start": 1.7059549402210235,
            "bin_end": 2.1241898079153407,
            "count": 1
           },
           {
            "bin_start": 2.1241898079153407,
            "bin_end": 2.542424675609658,
            "count": 2
           },
           {
            "bin_start": 2.542424675609658,
            "bin_end": 2.9606595433039753,
            "count": 1
           },
           {
            "bin_start": 2.9606595433039753,
            "bin_end": 3.3788944109982926,
            "count": 1
           },
           {
            "bin_start": 3.3788944109982926,
            "bin_end": 3.79712927869261,
            "count": 0
           },
           {
            "bin_start": 3.79712927869261,
            "bin_end": 4.215364146386927,
            "count": 0
           },
           {
            "bin_start": 4.215364146386927,
            "bin_end": 4.633599014081245,
            "count": 1
           },
           {
            "bin_start": 4.633599014081245,
            "bin_end": 5.051833881775561,
            "count": 1
           },
           {
            "bin_start": 5.051833881775561,
            "bin_end": 5.470068749469879,
            "count": 1
           },
           {
            "bin_start": 5.470068749469879,
            "bin_end": 5.888303617164197,
            "count": 1
           }
          ]
         }
        },
        {
         "name": "_deepnote_index_column",
         "dtype": "object"
        }
       ],
       "rows_top": [
        {
         "Count": 116,
         "Mean": 7.412280701754386,
         "StdDev": 4.244332824372879,
         "_deepnote_index_column": "All"
        },
        {
         "Count": 58,
         "Mean": 7.362068965517241,
         "StdDev": 5.000695656385409,
         "_deepnote_index_column": "Connection: 4G"
        },
        {
         "Count": 58,
         "Mean": 7.464285714285714,
         "StdDev": 3.330106663398395,
         "_deepnote_index_column": "Connection: Wi-Fi"
        },
        {
         "Count": 54,
         "Mean": 6.096153846153846,
         "StdDev": 2.443555873967404,
         "_deepnote_index_column": "Destination - ISP: All"
        },
        {
         "Count": 20,
         "Mean": 7.6,
         "StdDev": 2.7222281895148823,
         "_deepnote_index_column": "Destination - ISP: 4G"
        },
        {
         "Count": 34,
         "Mean": 5.15625,
         "StdDev": 1.7059549402210235,
         "_deepnote_index_column": "Destination - ISP: Wi-Fi"
        },
        {
         "Count": 62,
         "Mean": 8.516129032258064,
         "StdDev": 5.065932294836225,
         "_deepnote_index_column": "Destination - FB or GOOG: All"
        },
        {
         "Count": 38,
         "Mean": 7.2368421052631575,
         "StdDev": 5.888303617164197,
         "_deepnote_index_column": "Destination - FB or GOOG: 4G"
        },
        {
         "Count": 24,
         "Mean": 10.541666666666666,
         "StdDev": 2.302723655127566,
         "_deepnote_index_column": "Destination - FB or GOOG: Wi-Fi"
        }
       ],
       "rows_bottom": null
      },
      "text/plain": "                                 Count       Mean    StdDev\nAll                                116   7.412281  4.244333\nConnection: 4G                      58   7.362069  5.000696\nConnection: Wi-Fi                   58   7.464286  3.330107\nDestination - ISP: All              54   6.096154  2.443556\nDestination - ISP: 4G               20   7.600000  2.722228\nDestination - ISP: Wi-Fi            34   5.156250  1.705955\nDestination - FB or GOOG: All       62   8.516129  5.065932\nDestination - FB or GOOG: 4G        38   7.236842  5.888304\nDestination - FB or GOOG: Wi-Fi     24  10.541667  2.302724",
      "text/html": "<div>\n<style scoped>\n    .dataframe tbody tr th:only-of-type {\n        vertical-align: middle;\n    }\n\n    .dataframe tbody tr th {\n        vertical-align: top;\n    }\n\n    .dataframe thead th {\n        text-align: right;\n    }\n</style>\n<table border=\"1\" class=\"dataframe\">\n  <thead>\n    <tr style=\"text-align: right;\">\n      <th></th>\n      <th>Count</th>\n      <th>Mean</th>\n      <th>StdDev</th>\n    </tr>\n  </thead>\n  <tbody>\n    <tr>\n      <th>All</th>\n      <td>116</td>\n      <td>7.412281</td>\n      <td>4.244333</td>\n    </tr>\n    <tr>\n      <th>Connection: 4G</th>\n      <td>58</td>\n      <td>7.362069</td>\n      <td>5.000696</td>\n    </tr>\n    <tr>\n      <th>Connection: Wi-Fi</th>\n      <td>58</td>\n      <td>7.464286</td>\n      <td>3.330107</td>\n    </tr>\n    <tr>\n      <th>Destination - ISP: All</th>\n      <td>54</td>\n      <td>6.096154</td>\n      <td>2.443556</td>\n    </tr>\n    <tr>\n      <th>Destination - ISP: 4G</th>\n      <td>20</td>\n      <td>7.600000</td>\n      <td>2.722228</td>\n    </tr>\n    <tr>\n      <th>Destination - ISP: Wi-Fi</th>\n      <td>34</td>\n      <td>5.156250</td>\n      <td>1.705955</td>\n    </tr>\n    <tr>\n      <th>Destination - FB or GOOG: All</th>\n      <td>62</td>\n      <td>8.516129</td>\n      <td>5.065932</td>\n    </tr>\n    <tr>\n      <th>Destination - FB or GOOG: 4G</th>\n      <td>38</td>\n      <td>7.236842</td>\n      <td>5.888304</td>\n    </tr>\n    <tr>\n      <th>Destination - FB or GOOG: Wi-Fi</th>\n      <td>24</td>\n      <td>10.541667</td>\n      <td>2.302724</td>\n    </tr>\n  </tbody>\n</table>\n</div>"
     },
     "metadata": {}
    }
   ]
  },
  {
   "cell_type": "markdown",
   "source": "Where the destination network belongs to the ISP, the mean and standard deviation for hop count was:",
   "metadata": {
    "tags": [],
    "cell_id": "00025-90719da7-297e-4626-9609-83956d6f2006",
    "deepnote_cell_type": "markdown"
   }
  },
  {
   "cell_type": "code",
   "metadata": {
    "tags": [],
    "cell_id": "00026-748ba2c6-c442-44c6-8113-8434644c582b",
    "deepnote_to_be_reexecuted": false,
    "source_hash": "518a2bb8",
    "execution_start": 1621155511415,
    "execution_millis": 60,
    "deepnote_cell_type": "code"
   },
   "source": "print(f'{hopCounts[\"Mean\"][\"Destination - ISP: All\"]:.1f} ± {hopCounts[\"StdDev\"][\"Destination - ISP: All\"]:.1f} (from n = {hopCounts[\"Count\"][\"Destination - ISP: All\"]:.0f} samples)')",
   "execution_count": 13,
   "outputs": [
    {
     "name": "stdout",
     "text": "6.1 ± 2.4 (from n = 54 samples)\n",
     "output_type": "stream"
    }
   ]
  },
  {
   "cell_type": "markdown",
   "source": "Where the destination network belongs to Facebook or Google, the mean and standard deviation for hop count was:",
   "metadata": {
    "tags": [],
    "cell_id": "00027-01d1867b-ee29-4c5e-85c9-a68543417f68",
    "deepnote_cell_type": "markdown"
   }
  },
  {
   "cell_type": "code",
   "metadata": {
    "tags": [],
    "cell_id": "00028-06b92bf2-c1e7-414c-b737-594996f79f33",
    "deepnote_to_be_reexecuted": false,
    "source_hash": "9758abfe",
    "execution_start": 1621155511415,
    "execution_millis": 1,
    "deepnote_cell_type": "code"
   },
   "source": "print(f'{hopCounts[\"Mean\"][\"Destination - FB or GOOG: All\"]:.1f} ± {hopCounts[\"StdDev\"][\"Destination - FB or GOOG: All\"]:.1f} (from n = {hopCounts[\"Count\"][\"Destination - FB or GOOG: All\"]:.0f} samples)')",
   "execution_count": 14,
   "outputs": [
    {
     "name": "stdout",
     "text": "8.5 ± 5.1 (from n = 62 samples)\n",
     "output_type": "stream"
    }
   ]
  },
  {
   "cell_type": "markdown",
   "source": "### Apportion by connection type\n\nWe want to apportion the traffic so it is representative of this breakdown by connection type. This means we need to calculate what percentage of traffic terminates at the ISP for 4G and Wi-Fi.",
   "metadata": {
    "tags": [],
    "cell_id": "00025-b216253b-8e94-49c7-a326-b60cb3b2875e",
    "deepnote_cell_type": "markdown"
   }
  },
  {
   "cell_type": "code",
   "metadata": {
    "tags": [],
    "cell_id": "00026-c75347a1-35ce-4e31-b1f1-94625c053203",
    "deepnote_to_be_reexecuted": false,
    "source_hash": "7a7d2a2",
    "execution_start": 1621155511416,
    "execution_millis": 59,
    "deepnote_cell_type": "code"
   },
   "source": "trafficPercentISP4G = hopCounts['Count']['Destination - ISP: 4G'] / hopCounts['Count']['Connection: 4G']\ntrafficPercentFBGOOG4G = hopCounts['Count']['Destination - FB or GOOG: 4G'] / hopCounts['Count']['Connection: 4G']\nprint(f'4G traffic: {trafficPercentISP4G:.0%} terminates at the ISP and {trafficPercentFBGOOG4G:.0%} terminates at Facebook or Google.')\n\ntrafficPercentISPWiFi = hopCounts['Count']['Destination - ISP: Wi-Fi'] / hopCounts['Count']['Connection: Wi-Fi']\ntrafficPercentFBGOOGWiFi = hopCounts['Count']['Destination - FB or GOOG: Wi-Fi'] / hopCounts['Count']['Connection: Wi-Fi']\nprint(f'Wi-Fi traffic: {trafficPercentISPWiFi:.0%} terminates at the ISP and {trafficPercentFBGOOGWiFi:.0%} terminates at Facebook or Google.')",
   "execution_count": 15,
   "outputs": [
    {
     "name": "stdout",
     "text": "4G traffic: 34% terminates at the ISP and 66% terminates at Facebook or Google.\nWi-Fi traffic: 59% terminates at the ISP and 41% terminates at Facebook or Google.\n",
     "output_type": "stream"
    }
   ]
  },
  {
   "cell_type": "markdown",
   "source": "## Internet energy\n\nThe internet consists of multiple sections which connect the end-user device to the data center. Data travel through the air and over wires, connected through network equipment such as routers and switches. Here we calculate the use-stage network transmission energy intensity of each section.\n\n1. Customer Premises Equipment and Access Network (CPE & AN), separated by Wi-Fi and 4G.\n2. Edge.\n3. Metro.\n4. Core\n\nThe end-user device is included for 4G connections because radio transmission is built into the device used for watching and therefore cannot be excluded. Over Wi-Fi, the many different types of end-user device mean the energy consumption is highly variable and would therefore confuse any estimates of use-stage network energy because the device is not a logical part of the network. The end-user device is therefore excluded for Wi-Fi connections.\n\n#### Units\n\nDefine new `pint` units:",
   "metadata": {
    "tags": [],
    "cell_id": "00031-cf3b6452-49a7-4904-9195-13735bf22cf0",
    "deepnote_cell_type": "markdown"
   }
  },
  {
   "cell_type": "code",
   "metadata": {
    "tags": [],
    "cell_id": "00032-458d958a-40fc-4fec-8be0-c21fe812c7f2",
    "deepnote_to_be_reexecuted": false,
    "source_hash": "44e85cc5",
    "execution_start": 1621155511430,
    "execution_millis": 4,
    "deepnote_cell_type": "code"
   },
   "source": "ureg.define('watthour_hour = watthour / hour = Wh/hour')\nureg.define('kilowatthour_hour = kilowatthour / hour = kWh/hour')\nureg.define('kilowatthour_gb = kilowatthour / gigabyte = kWh/GB')\nureg.define('joules_gigabit = joules / gigabit = J/Gb')\nureg.define('kilowatthours_gigabyte = kilowatt hours / gigabyte = kWh/GB')",
   "execution_count": 16,
   "outputs": []
  },
  {
   "cell_type": "markdown",
   "source": "### CPE & AN - Wi-Fi\n\nFor Wi-Fi, we follow the approach in Coroama et al.<sup>11</sup> and Schien et al.<sup>12</sup> with calculations from the \"Internet video traffic\" section above and updated PUE figures from Masanet et al.<sup>13</sup>.\n\n#### CPE",
   "metadata": {
    "tags": [],
    "cell_id": "00032-75990ad2-ce8f-4c7a-949b-39000bbe294e",
    "deepnote_cell_type": "markdown"
   }
  },
  {
   "cell_type": "code",
   "metadata": {
    "tags": [],
    "cell_id": "00032-de8fa780-e1a4-4e3e-b7f9-268c222ab621",
    "deepnote_to_be_reexecuted": false,
    "source_hash": "301f1b05",
    "execution_start": 1621155511434,
    "execution_millis": 0,
    "deepnote_cell_type": "code"
   },
   "source": "# Total time equipment is on \n# (Pinpoint: pg16 in [11], citing Table 7-1 in [14])\ncpeWifiTOn = 1440 * ureg.minutes\n\n# Total time in which the router is in use\n# Calculated based on the total amount of time spent online from Ofcom survey [2]\n# Apportioned based on the total amount of time spent video streaming on Wi-Fi\n# vs mobile.\ncpeWifiTUse = ofcomTotalTimeOnlinePerPerson - (ofcomTotalTimeOnlinePerPerson * mobileTrafficYouTube)\n\n# Total idle time when the router is on but not used\ncpeWifiTIdle = cpeWifiTOn - cpeWifiTUse\n\n# Power of the router\n# (Pinpoint: pg15 in [11])\ncpeWifiRouterPower = 8 * ureg.watts",
   "execution_count": 17,
   "outputs": []
  },
  {
   "cell_type": "markdown",
   "source": "#### AN",
   "metadata": {
    "tags": [],
    "cell_id": "00033-8c7b3204-aff1-469b-8015-f9466b68ee36",
    "deepnote_cell_type": "markdown"
   }
  },
  {
   "cell_type": "code",
   "metadata": {
    "tags": [],
    "cell_id": "00034-ee7ca9f2-6ac8-4f74-83b1-6aa18f2c3c8b",
    "deepnote_to_be_reexecuted": false,
    "source_hash": "72b2bcd",
    "execution_start": 1621155511437,
    "execution_millis": 10,
    "deepnote_cell_type": "code"
   },
   "source": "# Redundancy\n# (Pinpoint: pg12 in [11])\nanWifiR = 2\n\n# Power of the access network devices\n# (Pinpoint: pg15 in [11], citing pg5 (804) in [12].)\nanWifiPower = 2 * ureg.watts\n\n# Number of users connected to access devices\n# (Pinpoint: pg14 in [11])\nanWifiUsers = 1\n\n# PUE of the telecoms site\n# (Pinpoint: [13] Supplementary Material, Sheet \"Regional PUE\" - Traditional \n# Data center PUE Western Europe 2019.)\nanWifiPUE = 1.99",
   "execution_count": 18,
   "outputs": []
  },
  {
   "cell_type": "markdown",
   "source": "#### CPE & AN",
   "metadata": {
    "tags": [],
    "cell_id": "00035-73dc1322-e298-41f7-b316-84625cd8fd39",
    "deepnote_cell_type": "markdown"
   }
  },
  {
   "cell_type": "code",
   "metadata": {
    "tags": [],
    "cell_id": "00036-4dcf97fa-ce88-4f6b-b977-3783ec9d146a",
    "deepnote_to_be_reexecuted": false,
    "source_hash": "80d32a99",
    "execution_start": 1621155511447,
    "execution_millis": 29,
    "deepnote_cell_type": "code"
   },
   "source": "iCPEANWifi = (1 + cpeWifiTIdle / cpeWifiTUse) * cpeWifiRouterPower + ((anWifiPower / anWifiUsers) * anWifiR) * anWifiPUE\niCPEANWifi = (iCPEANWifi.magnitude) * ureg.watthour_hour\niCPEANWifi.to('kilowatthour_hour')",
   "execution_count": 19,
   "outputs": [
    {
     "output_type": "execute_result",
     "execution_count": 19,
     "data": {
      "text/plain": "0.08356990017130368 <Unit('kilowatthour_hour')>",
      "text/html": "0.08356990017130368 kilowatthour_hour",
      "text/latex": "$0.08356990017130368\\ \\mathrm{kilowatthour\\_hour}$"
     },
     "metadata": {}
    }
   ]
  },
  {
   "cell_type": "markdown",
   "source": "### CPE & AN - 4G\n\nFor 4G AN, Pihkola et al.<sup>15</sup> is the most up to date peer-reviewed figure – 0.1 kWh/GB. \n\nA figure for 4G CPE is more difficult to calculate because the equivalent of the Wi-Fi router is embedded in the device used for watching, so the end-user device must be included. There are many different types of phone or tablet with varying battery capacities. A simplified approach was taken by using data from Apple for the iPhone 11 Pro<sup>16,17</sup>. Apple reports that a battery charged to 100% will support 11 hours of streamed video<sup>18</sup>. We assume assuming battery consumption is linear and that 100% of the battery is depleted after 11 hours.\n\n#### CPE",
   "metadata": {
    "tags": [],
    "cell_id": "00037-3716f393-3a63-4d6d-8436-cd670f884b3f",
    "deepnote_cell_type": "markdown"
   }
  },
  {
   "cell_type": "code",
   "metadata": {
    "tags": [],
    "cell_id": "00038-49c6a9cd-7603-44c6-a070-67e09d3ad0a9",
    "deepnote_to_be_reexecuted": false,
    "source_hash": "d6c288f4",
    "execution_start": 1621155511451,
    "execution_millis": 2,
    "deepnote_cell_type": "code"
   },
   "source": "iPhoneCapacity = 11.67 * ureg.watthours\nhours = 11 * ureg.hours\n\ncpe4G = iPhoneCapacity / hours\ncpe4G",
   "execution_count": 20,
   "outputs": [
    {
     "output_type": "execute_result",
     "execution_count": 20,
     "data": {
      "text/plain": "1.0609090909090908 <Unit('watt_hour / hour')>",
      "text/html": "1.0609090909090908 watt_hour/hour",
      "text/latex": "$1.0609090909090908\\ \\frac{\\mathrm{watt\\_hour}}{\\mathrm{hour}}$"
     },
     "metadata": {}
    }
   ]
  },
  {
   "cell_type": "markdown",
   "source": "#### AN",
   "metadata": {
    "tags": [],
    "cell_id": "00039-b6e5d650-ce6a-41b0-85df-018527d8fd09",
    "deepnote_cell_type": "markdown"
   }
  },
  {
   "cell_type": "code",
   "metadata": {
    "tags": [],
    "cell_id": "00041-2bf1777d-c442-49fc-8815-25b9f59de7af",
    "deepnote_to_be_reexecuted": false,
    "source_hash": "ac22544a",
    "execution_start": 1621155511457,
    "execution_millis": 19,
    "deepnote_cell_type": "code"
   },
   "source": "an4G = 0.1 * ureg.kilowatthour_gb\nan4G",
   "execution_count": 21,
   "outputs": [
    {
     "output_type": "execute_result",
     "execution_count": 21,
     "data": {
      "text/plain": "0.1 <Unit('kilowatthour_gb')>",
      "text/html": "0.1 kilowatthour_gb",
      "text/latex": "$0.1\\ \\mathrm{kilowatthour\\_gb}$"
     },
     "metadata": {}
    }
   ]
  },
  {
   "cell_type": "markdown",
   "source": "#### CPE & AN\n\nWe can't combine them here because the units are different, so this is done later.",
   "metadata": {
    "tags": [],
    "cell_id": "00043-ac27ddd4-19b8-4e5c-b281-807098bb98a1",
    "deepnote_cell_type": "markdown"
   }
  },
  {
   "cell_type": "markdown",
   "source": "### Edge, Metro, Core\n\nFor the sections of the internet - Edge, Metro and Core - we follow the approach in Schien et al. [12] and [associated implementation details](https://nbviewer.jupyter.org/gist/dschien/24bbb049ba9be347fc22), with some modifications.\n\nThe assumption of fiber Access Network connectivity used by Schien et al.<sup>12</sup> in 2015 was criticized by Aslan et al.<sup>19</sup>. However, we assume this is now appropriate for the UK in 2019 where 95% of premises have access to superfast (>30Mbit/s) and 53% have access to ultrafast (300Mbit/s) internet connectivity<sup>7</sup>, both of which use fiber-based technologies such as Fiber to the Cabinet (FTTC).\n\n#### Number of routers\n\nSchien et al.<sup>12</sup> assumes 6 routers in total with 4 routers in the \"long haul\" network, which we assume to mean \"Core\" network. Instead, we use our traceroute results (above) and allocate across Metro and Core in the same proportion, assuming Edge always has 1 router. We follow the approach of Schien et al.<sup>12</sup> where the number of routers in a route of `n` hops is `n + 1`.",
   "metadata": {
    "tags": [],
    "cell_id": "00043-51e6de29-4ed5-41c9-981e-de0cf60e1192",
    "deepnote_cell_type": "markdown"
   }
  },
  {
   "cell_type": "code",
   "metadata": {
    "tags": [],
    "cell_id": "00046-c897f5fd-b174-421f-9f3e-aa2f3cf3518b",
    "deepnote_to_be_reexecuted": false,
    "source_hash": "4feb002d",
    "execution_start": 1621155511462,
    "execution_millis": 27,
    "deepnote_cell_type": "code"
   },
   "source": "# Original number of routers from [12]\n# (Pinpoint: pg7 in [12])\noriginalRouters = {}\noriginalRouters['edge'] = 1\noriginalRouters['metro'] = 1\noriginalRouters['core'] = 4\noriginalRouters['total'] = originalRouters['edge'] + originalRouters['metro'] + originalRouters['core']\n\n# Adjusted number based on traceroute results\nadjustedRouters = {}\nadjustedRouters['edge'] = 1 # Always 1\nadjustedRouters['metro'] = originalRouters['metro'] / originalRouters['total'] * (traceroutes['Trace Hop Count'].mean(skipna=True) + 1)\nadjustedRouters['core'] = originalRouters['core'] / originalRouters['total'] * (traceroutes['Trace Hop Count'].mean(skipna=True) + 1)\nadjustedRouters['total'] = adjustedRouters['edge'] + adjustedRouters['metro'] + adjustedRouters['core']",
   "execution_count": 22,
   "outputs": []
  },
  {
   "cell_type": "markdown",
   "source": "#### Edge",
   "metadata": {
    "tags": [],
    "cell_id": "00044-186415ac-b2bc-4708-88fb-b3a062ae4242",
    "deepnote_cell_type": "markdown"
   }
  },
  {
   "cell_type": "code",
   "metadata": {
    "tags": [],
    "cell_id": "00044-f8e96d4b-ad97-429f-ac59-2fb5d67021b8",
    "deepnote_to_be_reexecuted": false,
    "source_hash": "2d3b9634",
    "execution_start": 1621155511489,
    "execution_millis": 14,
    "deepnote_cell_type": "code"
   },
   "source": "# Redundancy\n# (Pinpoint: pg7 in [12])\nedgeR = 2\n\n# PUE of the telecoms site\n# (Pinpoint: [13] Supplementary Material, Sheet \"Regional PUE\" - Traditional \n# Data center PUE Western Europe 2019.)\nedgePUE = 1.99\n\n# Edge overcapacity factor (% utilisation)\n# (Pinpoint: pg7 in [12])\nedgeOvercapacity = 6.67\n\n# Edge switch energy intensity\n# (Pinpoint: pg6 in [12])\nedgeSwitchI = 8 * ureg.joules_gigabit\n\n# Edge router energy intensity\n# (Pinpoint: pg6 in [12])\nedgeRouterI = 64 * ureg.joules_gigabit\n\n# Energy intensity of edge\niEdge = edgeR * edgePUE * edgeOvercapacity * (edgeSwitchI + edgeRouterI)\niEdge",
   "execution_count": 23,
   "outputs": [
    {
     "output_type": "execute_result",
     "execution_count": 23,
     "data": {
      "text/plain": "1911.3552 <Unit('joules_gigabit')>",
      "text/html": "1911.3552 joules_gigabit",
      "text/latex": "$1911.3552\\ \\mathrm{joules\\_gigabit}$"
     },
     "metadata": {}
    }
   ]
  },
  {
   "cell_type": "markdown",
   "source": "#### Metro",
   "metadata": {
    "tags": [],
    "cell_id": "00046-21f53c1f-d8a8-42cd-855f-648009a288fa",
    "deepnote_cell_type": "markdown"
   }
  },
  {
   "cell_type": "code",
   "metadata": {
    "tags": [],
    "cell_id": "00047-4c01ce26-aa91-4b52-a4d9-4890f14edcd5",
    "deepnote_to_be_reexecuted": false,
    "source_hash": "e30248e4",
    "execution_start": 1621155511490,
    "execution_millis": 13,
    "deepnote_cell_type": "code"
   },
   "source": "# Redundancy\n# (Pinpoint: pg7 in [12])\nmetroR = 2\n\n# PUE of the telecoms site\n# (Pinpoint: [13] Supplementary Material, Sheet \"Regional PUE\" - Traditional \n# Data center PUE Western Europe 2019.)\nmetroPUE = 1.99\n\n# Metro overcapacity factor (% utilisation)\n# (Pinpoint: pg7 in [12])\nmetroOvercapacity = 6.67\n\n# Number of metro routers\nmetroRouters = adjustedRouters['metro']\n\n# Energy intensity per metro router\n# (Pinpoint: pg7 in [12])\nmetroRouterI = 39 * ureg.joules_gigabit\n\n# Energy intensity of metro transmission\n# (Pinpoint: pg7 in [12] - \"We assume a cumulative, nominal energy intensity of \n# the optical transmission system to vary between 230, 147 and 316 J/Gb \n# (average, 25th, 75th percentile) for metro\"\nmetroTransmissionI = 230 * ureg.joules_gigabit\n\n# Energy intensity of metro\niMetro = metroPUE * metroOvercapacity * (metroR * metroRouters * metroRouterI + metroTransmissionI)\niMetro",
   "execution_count": 24,
   "outputs": [
    {
     "output_type": "execute_result",
     "execution_count": 24,
     "data": {
      "text/plain": "4504.422430701754 <Unit('joules_gigabit')>",
      "text/html": "4504.422430701754 joules_gigabit",
      "text/latex": "$4504.422430701754\\ \\mathrm{joules\\_gigabit}$"
     },
     "metadata": {}
    }
   ]
  },
  {
   "cell_type": "markdown",
   "source": "#### Core",
   "metadata": {
    "tags": [],
    "cell_id": "00050-e0daa39d-a795-45c3-85f9-e8b22ee3af67",
    "deepnote_cell_type": "markdown"
   }
  },
  {
   "cell_type": "code",
   "metadata": {
    "tags": [],
    "cell_id": "00051-bd29538b-a491-44b1-9375-ecf2f89ad346",
    "deepnote_to_be_reexecuted": false,
    "source_hash": "74bb59a0",
    "execution_start": 1621155511491,
    "execution_millis": 12,
    "deepnote_cell_type": "code"
   },
   "source": "# Redundancy\n# (Pinpoint: pg7 in [12])\ncoreR = 2\n\n# PUE of the telecoms site\n# (Pinpoint: [13] Supplementary Material, Sheet \"Regional PUE\" - Traditional \n# Data center PUE Western Europe 2019.)\ncorePUE = 1.99\n\n# Metro overcapacity factor (% utilisation)\n# (Pinpoint: pg7 in [12])\ncoreOvercapacity = 3.03\n\n# Number of core routers\ncoreRouters = adjustedRouters['core']\n\n# Energy intensity per core router\n# (Pinpoint: pg7 in [12])\ncoreRouterI = 26.7 * ureg.joules_gigabit\n\n# Energy intensity of core transmission\n# (Pinpoint: pg7 in [12] - \"\"We assume a cumulative, nominal energy intensity \n# of the optical transmission system to vary between  1593, 893 and 2292 J/Gb \n# (average, 25th, 75th percentile) for core networks\"\"\ncoreTransmissionI = 1593 * ureg.joules_gigabit\n\n# Energy intensity of core\niCore = corePUE * coreOvercapacity * (coreR * coreRouters * coreRouterI + coreTransmissionI)\niCore",
   "execution_count": 25,
   "outputs": [
    {
     "output_type": "execute_result",
     "execution_count": 25,
     "data": {
      "text/plain": "11411.069730526313 <Unit('joules_gigabit')>",
      "text/html": "11411.069730526313 joules_gigabit",
      "text/latex": "$11411.069730526313\\ \\mathrm{joules\\_gigabit}$"
     },
     "metadata": {}
    }
   ]
  },
  {
   "cell_type": "markdown",
   "source": "### Internet\n\nThe equipment energy intensity figures are taken from Schien et al.<sup>12</sup>, however these are from 2014. The industry suffers from a lack of published data about equipment energy intensity, and it was not possible to find more recent numbers. We therefore apply an efficiency improvement adjustment to the energy intensity for each network component. Future work could survey ISPs to inventory deployed equipment, take energy measurements and produce more accurate data. In lieu of such data, we apply a reduction of 79.82% to the energy intensity based on the expected decrease demonstrated by Aslan et al.<sup>19</sup>",
   "metadata": {
    "tags": [],
    "cell_id": "00053-48069b89-ef8d-4ebb-9420-048564e1a646",
    "deepnote_cell_type": "markdown"
   }
  },
  {
   "cell_type": "code",
   "metadata": {
    "tags": [],
    "cell_id": "00054-497000be-663f-4498-8cb6-292e3ee5bb40",
    "deepnote_to_be_reexecuted": false,
    "source_hash": "a6553655",
    "execution_start": 1621155511500,
    "execution_millis": 13,
    "deepnote_cell_type": "code"
   },
   "source": "# Decrease expected from 2014-2019\nexpectedDecrease = -0.7982\n\n# Calculate decrease\niEdge2019 = iEdge * (1 + expectedDecrease)\niMetro2019 = iMetro * (1 + expectedDecrease)\niCore2019 = iCore * (1 + expectedDecrease)\n\niInternet = {\n    'edge': iEdge2019.to('kilowatthours_gigabyte'),\n    'metro': iMetro2019.to('kilowatthours_gigabyte'),\n    'core': iCore2019.to('kilowatthours_gigabyte'),\n}\niInternet",
   "execution_count": 26,
   "outputs": [
    {
     "output_type": "execute_result",
     "execution_count": 26,
     "data": {
      "text/plain": "{'edge': 0.0008571366208000003 <Unit('kilowatthours_gigabyte')>,\n 'metro': 0.002019983214479143 <Unit('kilowatthours_gigabyte')>,\n 'core': 0.005117230825822691 <Unit('kilowatthours_gigabyte')>}"
     },
     "metadata": {}
    }
   ]
  },
  {
   "cell_type": "markdown",
   "source": "## Video streaming energy\n\nUsing the above values, we can now calculate the total use-stage network energy consumption for all video streaming in the UK for 2019.\n\n### CPE & AN\n\nAll traffic flows through the CPE & AN, so we calculate the total energy consumption for this section.",
   "metadata": {
    "tags": [],
    "cell_id": "00055-d2c87eb9-fbd8-4fb8-8eff-78c692ca4b40",
    "deepnote_cell_type": "markdown"
   }
  },
  {
   "cell_type": "code",
   "metadata": {
    "tags": [],
    "cell_id": "00056-8540af14-8374-41a9-af24-577b7a6101d0",
    "deepnote_to_be_reexecuted": false,
    "source_hash": "8fefbde7",
    "execution_start": 1621155511541,
    "execution_millis": 6,
    "deepnote_cell_type": "code"
   },
   "source": "cpeAN4G = (an4G * allUKVideo['Data']['4G']) + (cpe4G * allUKVideo['Time']['4G'])\ncpeANWiFi = iCPEANWifi * allUKVideo['Time']['Wi-Fi']\nprint(f'CPE & AN - 4G: {cpeAN4G.to(\"gigawatt hours\").magnitude:.0f} GWh')\nprint(f'CPE & AN - Wi-Fi: {cpeANWiFi.to(\"gigawatt hours\").magnitude:.0f} GWh')\n\ncpeANTotal = cpeAN4G + cpeANWiFi\nprint(f'CPE & AN: {cpeANTotal.to(\"gigawatt hours\").magnitude:.0f} GWh')",
   "execution_count": 27,
   "outputs": [
    {
     "name": "stdout",
     "text": "CPE & AN - 4G: 1042 GWh\nCPE & AN - Wi-Fi: 2803 GWh\nCPE & AN: 3845 GWh\n",
     "output_type": "stream"
    }
   ]
  },
  {
   "cell_type": "markdown",
   "source": "### Caching nodes\n\nAs revealed by the traceroute samples, some traffic has a destination network owner listed as the ISP and some as the content provider (Facebook or Google). In the former, we assume this means traffic only traverses CPE& & AN and the Edge network sections. In the latter, traffic traverses the full network.\n\nWe therefore apportion traffic based on the percentages above.",
   "metadata": {
    "tags": [],
    "cell_id": "00056-80f479fc-8dc5-43a5-b393-89d775b34622",
    "deepnote_cell_type": "markdown"
   }
  },
  {
   "cell_type": "code",
   "source": "trafficDestination = pd.DataFrame({\n   '4G': {\n        'Traffic to ISP edge cache': trafficPercentISP4G * allUKVideo['Data']['4G'],\n        'Traffic to content provider': trafficPercentFBGOOG4G  * allUKVideo['Data']['4G'],\n   },\n   'Wi-Fi': {\n        'Traffic to ISP edge cache': trafficPercentISPWiFi * allUKVideo['Data']['Wi-Fi'],\n        'Traffic to content provider': trafficPercentFBGOOGWiFi  * allUKVideo['Data']['Wi-Fi'],\n   }\n})\ntrafficDestination",
   "metadata": {
    "tags": [],
    "cell_id": "00057-52c9d678-5477-4998-8d2a-9a07a01f6eb1",
    "deepnote_to_be_reexecuted": false,
    "source_hash": "bc7cb6a1",
    "execution_start": 1621155511541,
    "execution_millis": 6,
    "deepnote_cell_type": "code"
   },
   "outputs": [
    {
     "output_type": "execute_result",
     "execution_count": 28,
     "data": {
      "application/vnd.deepnote.dataframe.v2+json": {
       "row_count": 2,
       "column_count": 2,
       "columns": [
        {
         "name": "4G",
         "dtype": "object",
         "stats": {
          "unique_count": 2,
          "nan_count": 0,
          "categories": [
           {
            "name": "3573117266.3049264 gigabyte",
            "count": 1
           },
           {
            "name": "6788922805.97936 gigabyte",
            "count": 1
           }
          ]
         }
        },
        {
         "name": "Wi-Fi",
         "dtype": "object",
         "stats": {
          "unique_count": 2,
          "nan_count": 0,
          "categories": [
           {
            "name": "38336695875.99979 gigabyte",
            "count": 1
           },
           {
            "name": "27061197088.941025 gigabyte",
            "count": 1
           }
          ]
         }
        },
        {
         "name": "_deepnote_index_column",
         "dtype": "object"
        }
       ],
       "rows_top": [
        {
         "4G": "3573117266.3049264 gigabyte",
         "Wi-Fi": "38336695875.99979 gigabyte",
         "_deepnote_index_column": "Traffic to ISP edge cache"
        },
        {
         "4G": "6788922805.97936 gigabyte",
         "Wi-Fi": "27061197088.941025 gigabyte",
         "_deepnote_index_column": "Traffic to content provider"
        }
       ],
       "rows_bottom": null
      },
      "text/plain": "                                                      4G  \\\nTraffic to ISP edge cache    3573117266.3049264 gigabyte   \nTraffic to content provider    6788922805.97936 gigabyte   \n\n                                                   Wi-Fi  \nTraffic to ISP edge cache     38336695875.99979 gigabyte  \nTraffic to content provider  27061197088.941025 gigabyte  ",
      "text/html": "<div>\n<style scoped>\n    .dataframe tbody tr th:only-of-type {\n        vertical-align: middle;\n    }\n\n    .dataframe tbody tr th {\n        vertical-align: top;\n    }\n\n    .dataframe thead th {\n        text-align: right;\n    }\n</style>\n<table border=\"1\" class=\"dataframe\">\n  <thead>\n    <tr style=\"text-align: right;\">\n      <th></th>\n      <th>4G</th>\n      <th>Wi-Fi</th>\n    </tr>\n  </thead>\n  <tbody>\n    <tr>\n      <th>Traffic to ISP edge cache</th>\n      <td>3573117266.3049264 gigabyte</td>\n      <td>38336695875.99979 gigabyte</td>\n    </tr>\n    <tr>\n      <th>Traffic to content provider</th>\n      <td>6788922805.97936 gigabyte</td>\n      <td>27061197088.941025 gigabyte</td>\n    </tr>\n  </tbody>\n</table>\n</div>"
     },
     "metadata": {}
    }
   ],
   "execution_count": 28
  },
  {
   "cell_type": "markdown",
   "source": "### Edge, Metro, Core\n\nWe can now calculate the total energy consumption of the three sections of the internet.",
   "metadata": {
    "tags": [],
    "cell_id": "00058-dce1ae1f-1359-4ccc-9a73-e56a1335ef27",
    "deepnote_cell_type": "markdown"
   }
  },
  {
   "cell_type": "code",
   "source": "internetEnergy = pd.DataFrame({\n    '4G': {\n        'CPE & AN': cpeAN4G,\n        'Edge': allUKVideo['Data']['4G'] * iInternet['edge'], # All traffic goes to the edge\n        'Metro': trafficDestination['4G']['Traffic to content provider'] * iInternet['metro'],\n        'Core': trafficDestination['4G']['Traffic to content provider'] * iInternet['core'],\n        },\n    'Wi-Fi': {\n        'CPE & AN': cpeANWiFi,\n        'Edge': allUKVideo['Data']['Wi-Fi'] * iInternet['edge'], # All traffic goes to the edge\n        'Metro': trafficDestination['Wi-Fi']['Traffic to content provider'] * iInternet['metro'],\n        'Core': trafficDestination['Wi-Fi']['Traffic to content provider'] * iInternet['core'],\n    }\n})\n\n# Format nicely for display\ninternetEnergyDisplay = pd.DataFrame({\n    '4G': {\n        'CPE & AN': f'{internetEnergy[\"4G\"][\"CPE & AN\"].to(\"gigawatt hours\"):,.0f~H}',\n        'Edge': f'{internetEnergy[\"4G\"][\"Edge\"].to(\"gigawatt hours\"):,.0f~H}',\n        'Metro': f'{internetEnergy[\"4G\"][\"Metro\"].to(\"gigawatt hours\"):,.0f~H}',\n        'Core': f'{internetEnergy[\"4G\"][\"Core\"].to(\"gigawatt hours\"):,.0f~H}',\n        'Total': f'{internetEnergy[\"4G\"].sum().to(\"gigawatt hours\"):,.0f~H}',\n    },\n    'Wi-Fi': {\n        'CPE & AN': f'{internetEnergy[\"Wi-Fi\"][\"CPE & AN\"].to(\"gigawatt hours\"):,.0f~H}',\n        'Edge': f'{internetEnergy[\"Wi-Fi\"][\"Edge\"].to(\"gigawatt hours\"):,.0f~H}',\n        'Metro': f'{internetEnergy[\"Wi-Fi\"][\"Metro\"].to(\"gigawatt hours\"):,.0f~H}',\n        'Core': f'{internetEnergy[\"Wi-Fi\"][\"Core\"].to(\"gigawatt hours\"):,.0f~H}',\n        'Total': f'{internetEnergy[\"Wi-Fi\"].sum().to(\"gigawatt hours\"):,.0f~H}',\n    }\n})\ninternetEnergyDisplay",
   "metadata": {
    "tags": [],
    "cell_id": "00059-17c45a33-f96b-432f-8394-31d5d8695041",
    "deepnote_to_be_reexecuted": false,
    "source_hash": "489081af",
    "execution_start": 1621155511543,
    "execution_millis": 28,
    "deepnote_cell_type": "code"
   },
   "outputs": [
    {
     "output_type": "execute_result",
     "execution_count": 29,
     "data": {
      "application/vnd.deepnote.dataframe.v2+json": {
       "row_count": 5,
       "column_count": 2,
       "columns": [
        {
         "name": "4G",
         "dtype": "object",
         "stats": {
          "unique_count": 5,
          "nan_count": 0,
          "categories": [
           {
            "name": "1,042 GW hr",
            "count": 1
           },
           {
            "name": "9 GW hr",
            "count": 1
           },
           {
            "name": "3 others",
            "count": 3
           }
          ]
         }
        },
        {
         "name": "Wi-Fi",
         "dtype": "object",
         "stats": {
          "unique_count": 5,
          "nan_count": 0,
          "categories": [
           {
            "name": "2,803 GW hr",
            "count": 1
           },
           {
            "name": "56 GW hr",
            "count": 1
           },
           {
            "name": "3 others",
            "count": 3
           }
          ]
         }
        },
        {
         "name": "_deepnote_index_column",
         "dtype": "object"
        }
       ],
       "rows_top": [
        {
         "4G": "1,042 GW hr",
         "Wi-Fi": "2,803 GW hr",
         "_deepnote_index_column": "CPE & AN"
        },
        {
         "4G": "9 GW hr",
         "Wi-Fi": "56 GW hr",
         "_deepnote_index_column": "Edge"
        },
        {
         "4G": "14 GW hr",
         "Wi-Fi": "55 GW hr",
         "_deepnote_index_column": "Metro"
        },
        {
         "4G": "35 GW hr",
         "Wi-Fi": "138 GW hr",
         "_deepnote_index_column": "Core"
        },
        {
         "4G": "1,099 GW hr",
         "Wi-Fi": "3,052 GW hr",
         "_deepnote_index_column": "Total"
        }
       ],
       "rows_bottom": null
      },
      "text/plain": "                   4G        Wi-Fi\nCPE & AN  1,042 GW hr  2,803 GW hr\nEdge          9 GW hr     56 GW hr\nMetro        14 GW hr     55 GW hr\nCore         35 GW hr    138 GW hr\nTotal     1,099 GW hr  3,052 GW hr",
      "text/html": "<div>\n<style scoped>\n    .dataframe tbody tr th:only-of-type {\n        vertical-align: middle;\n    }\n\n    .dataframe tbody tr th {\n        vertical-align: top;\n    }\n\n    .dataframe thead th {\n        text-align: right;\n    }\n</style>\n<table border=\"1\" class=\"dataframe\">\n  <thead>\n    <tr style=\"text-align: right;\">\n      <th></th>\n      <th>4G</th>\n      <th>Wi-Fi</th>\n    </tr>\n  </thead>\n  <tbody>\n    <tr>\n      <th>CPE &amp; AN</th>\n      <td>1,042 GW hr</td>\n      <td>2,803 GW hr</td>\n    </tr>\n    <tr>\n      <th>Edge</th>\n      <td>9 GW hr</td>\n      <td>56 GW hr</td>\n    </tr>\n    <tr>\n      <th>Metro</th>\n      <td>14 GW hr</td>\n      <td>55 GW hr</td>\n    </tr>\n    <tr>\n      <th>Core</th>\n      <td>35 GW hr</td>\n      <td>138 GW hr</td>\n    </tr>\n    <tr>\n      <th>Total</th>\n      <td>1,099 GW hr</td>\n      <td>3,052 GW hr</td>\n    </tr>\n  </tbody>\n</table>\n</div>"
     },
     "metadata": {}
    }
   ],
   "execution_count": 29
  },
  {
   "cell_type": "markdown",
   "source": "## Results\n\nWe can now put this all together into a concluding results statement.\n\n### Energy consumption",
   "metadata": {
    "tags": [],
    "cell_id": "00060-d8d9baa1-95cc-4ce8-b712-a44aab81e600",
    "deepnote_cell_type": "markdown"
   }
  },
  {
   "cell_type": "code",
   "source": "videoStreamingEnergy = pd.DataFrame({\n    '4G': {\n        'Total': internetEnergy['4G'].sum(),\n        'Intensity': internetEnergy['4G'].sum() / allUKVideo['Time']['4G'],\n    },\n    'Wi-Fi': {\n        'Total': internetEnergy['Wi-Fi'].sum(),\n        'Intensity': internetEnergy['Wi-Fi'].sum() / allUKVideo['Time']['Wi-Fi'],\n    },\n    'Total': {\n        'Total': internetEnergy['4G'].sum() + internetEnergy['Wi-Fi'].sum(),\n        'Intensity': (internetEnergy['4G'].sum() + internetEnergy['Wi-Fi'].sum()) / allUKVideo['Time']['Total']\n    }\n})\n\n# As a percentage of UK generation\nukGeneration2019 = 324.8 * ureg.terawatthours # Source [20]\npercentageGeneration = (videoStreamingEnergy['Total']['Total'].to('gigawatthours') / ukGeneration2019) / 1000\n\noutput = (\n    f'We estimate {allUKVideo[\"Time\"][\"Total\"].to(\"hours\").to_compact().magnitude:,.1f}bn '\n    f'hours of video were streamed in the UK in 2019 generating '\n    f'{allUKVideo[\"Data\"][\"Total\"].to(\"exabyte\"):,.1f~H} of data and consuming '\n    f'a total of {videoStreamingEnergy[\"Total\"][\"Total\"].to(\"terawatthours\"):,.1f~H} of electricity, or '\n    f'{percentageGeneration.magnitude:.1%} of total electricity generation. '\n    f'By connection type, energy consumption was split {videoStreamingEnergy[\"4G\"][\"Total\"].to(\"terawatthours\"):,.1f~H} '\n    f'over 4G and {videoStreamingEnergy[\"Wi-Fi\"][\"Total\"].to(\"terawatthours\"):,.1f~H} over Wi-Fi. '\n    f'Video streaming over 4G is twice as energy intensive per streaming hour '\n    f'({videoStreamingEnergy[\"4G\"][\"Intensity\"].to(\"kilowatthours/hour\"):,.3f~H}) compared to Wi-Fi '\n    f'({videoStreamingEnergy[\"Wi-Fi\"][\"Intensity\"].to(\"kilowatthours/hour\"):,.3f~H}).'\n)\ntextwrap.wrap(output)\n",
   "metadata": {
    "tags": [],
    "cell_id": "00061-a73f4dee-a86e-4fb3-8a3a-44f93bbd561c",
    "deepnote_to_be_reexecuted": false,
    "source_hash": "223e29bf",
    "execution_start": 1621155511579,
    "execution_millis": 10,
    "deepnote_cell_type": "code"
   },
   "outputs": [
    {
     "output_type": "execute_result",
     "execution_count": 30,
     "data": {
      "text/plain": "['We estimate 38.9bn hours of video were streamed in the UK in 2019',\n 'generating 75.8 EB of data and consuming a total of 4.2 TWh of',\n 'electricity, or 1.3% of total electricity generation. By connection',\n 'type, energy consumption was split 1.1 TWh over 4G and 3.1 TWh over',\n 'Wi-Fi. Video streaming over 4G is twice as energy intensive per',\n 'streaming hour (0.207 kWh/hr) compared to Wi-Fi (0.091 kWh/hr).']"
     },
     "metadata": {}
    }
   ],
   "execution_count": 30
  },
  {
   "cell_type": "markdown",
   "source": "### Carbon footprint",
   "metadata": {
    "tags": [],
    "cell_id": "00062-b522ec1b-4095-487b-943c-270300c2adf1",
    "deepnote_cell_type": "markdown"
   }
  },
  {
   "cell_type": "code",
   "source": "conversionFactor = 0.254 # Source [21]\ncarbonPerHourStreaming = videoStreamingEnergy['Total']['Intensity'].magnitude * conversionFactor\nprint(f'Carbon intensity of use-stage networking for video streaming: {carbonPerHourStreaming:,.3f} kgCO2/hour')",
   "metadata": {
    "tags": [],
    "cell_id": "00063-d0f79669-784c-48f3-88b3-9cdfd0a196ef",
    "deepnote_to_be_reexecuted": false,
    "source_hash": "c6ae2352",
    "execution_start": 1621155523954,
    "execution_millis": 9,
    "deepnote_cell_type": "code"
   },
   "outputs": [
    {
     "name": "stdout",
     "text": "Carbon intensity of use-stage networking for video streaming: 0.027 kgCO2/hour\n",
     "output_type": "stream"
    }
   ],
   "execution_count": 32
  },
  {
   "cell_type": "markdown",
   "source": "## References\n\n1. UKOM (2019) Q4 2019 UK Digital Market Overview report. Available from: https://ukom.uk.net/uploads/files/news/ukom/174/UKOM_Digital_Marketing_Overview_December_2019_final.pdf\n\n2. Ofcom (2020) Online Nation – 2020 report. Available from: https://www.ofcom.org.uk/__data/assets/pdf_file/0027/196407/online-nation-2020-report.pdf\n\n3. Solsman, J.E. (2018) Normally secretive Netflix inches back the curtain on how subscribers stream. 7 March 2018. CNET. Available from: https://www.cnet.com/news/netflix-shares-streaming-data-by-device-country-mobile-wi-fi-movies-tv/\n\n4. Hindy, J. (2019) How much data does YouTube actually use? 30 June 2019. Android Authority. Available from: https://www.androidauthority.com/how-much-data-does-youtube-use-964560/\n\n5. Sandvine (2020) The Mobile Internet Phenomena Report. Available from: https://www.sandvine.com/download-report-mobile-internet-phenomena-report-2020-sandvine\n\n6. Sandvine (2019) The Global Internet Phenomena Report. Available from: https://www.sandvine.com/global-internet-phenomena-report-2019\n\n7. Ofcom (2019) Connected Nations 2019. 20 December 2019. Ofcom. Available from: https://www.ofcom.org.uk/research-and-data/multi-sector-research/infrastructure-research/connected-nations-2019/main-report\n\n8. Chee, F.Y. (2020) YouTube, Amazon Prime forgo streaming quality to relieve European networks. Reuters. 20 March. Available from: https://uk.reuters.com/article/us-health-coronavirus-youtube-exclusive-idUKKBN2170OP\n\n9. Ofcom (2019) Media Nations: UK 2019. Available from: https://www.ofcom.org.uk/__data/assets/pdf_file/0019/160714/media-nations-2019-uk-report.pdf\n\n10. Office for National Statistics (2019) Overview of the UK population. 23 August 2019. Available from: https://www.ons.gov.uk/peoplepopulationandcommunity/populationandmigration/populationestimates/articles/overviewoftheukpopulation/august2019\n\n11. Coroama, V.C., Schien, D., Preist, C. & Hilty, L.M. (2015) The Energy Intensity of the Internet: Home and Access Networks. In: Lorenz M. Hilty & Bernard Aebischer (eds.). ICT Innovations for Sustainability. Advances in Intelligent Systems and Computing. 2015 Cham, Springer International Publishing. pp. 137–155. Available from: doi:10.1007/978-3-319-09228-7_8.\n\n12. Schien, D., Coroama, V.C., Hilty, L.M. & Preist, C. (2015) The Energy Intensity of the Internet: Edge and Core Networks. In: Lorenz M. Hilty & Bernard Aebischer (eds.). ICT Innovations for Sustainability. Advances in Intelligent Systems and Computing. 2015 Cham, Springer International Publishing. pp. 157–170. Available from: doi:10.1007/978-3-319-09228-7_9.\n\n13. Masanet, E., Shehabi, A., Lei, N., Smith, S., et al. (2020) Recalibrating global data center energy-use estimates. Science. 367 (6481), 984–986. Available from: doi:10.1126/science.aba3758.\n\n14. Nissen, N.F. (2007) EuP Preparatory Study Lot 6 “Standby and Off-mode Losses. Available from: https://www.eup-network.de/fileadmin/user_upload/Produktgruppen/Lots/Final_Documents/Los_06_final_report.pdf\n\n15. Pihkola, H., Hongisto, M., Apilo, O. & Lasanen, M. (2018) Evaluating the Energy Consumption of Mobile Data Transfer—From Technology Development to Consumer Behaviour and Life Cycle Thinking. Sustainability. 10 (7), 2494. Available from: doi:10.3390/su10072494.\n\n16. Apple (2019) iPhone 11 Pro - Technical Specifications. 2019. Apple. Available from: https://www.apple.com/iphone-11-pro/specs/\n\n17. Espósito, F. (2019) iPhone 11 battery size confirmed in new regulatory filings. 9to5Mac. Available from: https://9to5mac.com/2019/09/17/iphone-11-and-iphone-11-pro-battery-size/\n\n18. Apple (n.d.) iPhone - Battery Test Information - Apple. Available from: https://www.apple.com/iphone/battery.html\n\n19. Aslan, J., Mayers, K., Koomey, J.G. & France, C. (2018) Electricity Intensity of Internet Data Transmission: Untangling the Estimates: Electricity Intensity of Data Transmission. Journal of Industrial Ecology. 22 (4), 785–798. Available from: doi:10.1111/jiec.12630.\n\n20. Department for Business, Energy & Industrial Strategy (2020) UK energy in brief 2020. 30 July 2020. GOV.UK. Available from: https://www.gov.uk/government/statistics/uk-energy-in-brief-2020\n\n21. Department for Business, Energy & Industrial Strategy (2020) Greenhouse gas reporting: conversion factors 2019. 28 July 2020. GOV.UK. Available from: https://www.gov.uk/government/publications/greenhouse-gas-reporting-conversion-factors-2019",
   "metadata": {
    "tags": [],
    "cell_id": "00003-c9fd8eb8-6b53-4beb-b6ad-d00b7de18602",
    "deepnote_cell_type": "markdown"
   }
  },
  {
   "cell_type": "markdown",
   "source": "<a style='text-decoration:none;line-height:16px;display:flex;color:#5B5B62;padding:10px;justify-content:end;' href='https://deepnote.com?utm_source=created-in-deepnote-cell&projectId=82ad941d-519a-4a94-b1a2-0a0958075b21' target=\"_blank\">\n<img alt='Created in deepnote.com' style='display:inline;max-height:16px;margin:0px;margin-right:7.5px;' src='data:image/svg+xml;base64,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' > </img>\nCreated in <span style='font-weight:600;margin-left:4px;'>Deepnote</span></a>",
   "metadata": {
    "tags": [],
    "created_in_deepnote_cell": true,
    "deepnote_cell_type": "markdown"
   }
  }
 ],
 "nbformat": 4,
 "nbformat_minor": 2,
 "metadata": {
  "orig_nbformat": 2,
  "deepnote": {
   "is_reactive": false
  },
  "deepnote_notebook_id": "66413cde-20b8-4b8c-9c9b-6e00d27747fd",
  "deepnote_execution_queue": [],
  "kernelspec": {
   "name": "python394jvsc74a57bd04cd7ab41f5fca4b9b44701077e38c5ffd31fe66a6cab21e0214b68d958d0e462",
   "display_name": "Python 3.9.4 64-bit"
  },
  "metadata": {
   "interpreter": {
    "hash": "4cd7ab41f5fca4b9b44701077e38c5ffd31fe66a6cab21e0214b68d958d0e462"
   }
  }
 }
}