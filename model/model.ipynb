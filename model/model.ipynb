{
 "cells": [
  {
   "cell_type": "markdown",
   "source": "# The network energy intensity of video streaming over Wi-Fi and 4G\n\n**Authors:** David Mytton, Iain Staffell, Malte Jansen.\n\n**Institution:** Centre for Environmental Policy, Imperial College London, London, SW7 1NE, UK.\n\n**Correspondence:** <david@davidmytton.co.uk>.\n\n## Summary\n\n> Between 2010-2018 internet traffic grew ten-fold and is expected to double again by 2022. With video streaming making up 60% of that traffic, 65% on mobile, it is important to understand its energy consumption. Here we develop an approach to assessing network energy consumption by collecting internet routing observations from volunteers, provide updated figures for the energy consumption of different sections of the internet, then calculate the network energy intensity of video streaming. We estimate the 2019 network energy footprint of the UK’s 39 billion hours of video streaming at 4.2 TWh, or 1.3% of total electricity generation. We show that the network energy intensity of video streaming over Wi-Fi is 0.091 kWh/hour, compared to 0.207 kWh/hour over 4G mobile internet.\n\n## This notebook\n\nThis notebook walks through the methodology and calculations as described in the accompanying manuscript.",
   "metadata": {
    "tags": [],
    "cell_id": "00000-3fb836cd-b77a-4f3b-8349-7163711ac9f2",
    "deepnote_cell_type": "markdown"
   }
  },
  {
   "cell_type": "markdown",
   "source": "#### Imports",
   "metadata": {
    "tags": [],
    "cell_id": "00001-e815ec23-4f84-4d8a-b5ca-fb7ffa41bf3d",
    "deepnote_cell_type": "markdown"
   }
  },
  {
   "cell_type": "code",
   "metadata": {
    "tags": [],
    "cell_id": "00002-4822a9c5-9c0c-431b-927a-b233524d49fd",
    "deepnote_to_be_reexecuted": false,
    "source_hash": "7252923d",
    "execution_start": 1621068591727,
    "execution_millis": 2737,
    "output_cleared": false,
    "deepnote_cell_type": "code"
   },
   "source": "%pip install -r requirements.txt\n\nimport numpy as np\nimport pandas as pd\nimport pint\nfrom pint import UnitRegistry\n\nureg = UnitRegistry()",
   "execution_count": 36,
   "outputs": [
    {
     "name": "stdout",
     "text": "Requirement already satisfied: pandas==1.2.4 in /shared-libs/python3.9/py/lib/python3.9/site-packages (from -r requirements.txt (line 1)) (1.2.4)\nRequirement already satisfied: pint==0.17 in /usr/local/lib/python3.9/site-packages (from -r requirements.txt (line 2)) (0.17)\nRequirement already satisfied: numpy>=1.16.5 in /shared-libs/python3.9/py/lib/python3.9/site-packages (from pandas==1.2.4->-r requirements.txt (line 1)) (1.20.2)\nRequirement already satisfied: pytz>=2017.3 in /shared-libs/python3.9/py/lib/python3.9/site-packages (from pandas==1.2.4->-r requirements.txt (line 1)) (2021.1)\nRequirement already satisfied: python-dateutil>=2.7.3 in /shared-libs/python3.9/py-core/lib/python3.9/site-packages (from pandas==1.2.4->-r requirements.txt (line 1)) (2.8.1)\nRequirement already satisfied: packaging in /shared-libs/python3.9/py-core/lib/python3.9/site-packages (from pint==0.17->-r requirements.txt (line 2)) (20.9)\nRequirement already satisfied: six>=1.5 in /shared-libs/python3.9/py-core/lib/python3.9/site-packages (from python-dateutil>=2.7.3->pandas==1.2.4->-r requirements.txt (line 1)) (1.16.0)\nRequirement already satisfied: pyparsing>=2.0.2 in /shared-libs/python3.9/py-core/lib/python3.9/site-packages (from packaging->pint==0.17->-r requirements.txt (line 2)) (2.4.7)\n\u001b[33mWARNING: Running pip as root will break packages and permissions. You should install packages reliably by using venv: https://pip.pypa.io/warnings/venv\u001b[0m\nNote: you may need to restart the kernel to use updated packages.\n",
     "output_type": "stream"
    }
   ]
  },
  {
   "cell_type": "markdown",
   "source": "## Internet video traffic\n\nWe assume YouTube is representative of all streaming because it is the most watched streaming service, and so has the most data available. Using YouTube as a case study, we can calculate the total amount of time, data volume, and therefore energy consumption of video streaming in general.\n\nWe therefore start with an assessment of YouTube.\n\n### YouTube watch time\n\nYouTube does not publish statistics so we start with watching figures from the advertising industry<sup>1</sup>, Ofcom<sup>2</sup>, and Netflix<sup>3</sup>.",
   "metadata": {
    "tags": [],
    "cell_id": "00000-e318a7fc-9d03-46bc-bcb8-6bc34633fd48",
    "deepnote_cell_type": "markdown"
   }
  },
  {
   "cell_type": "code",
   "metadata": {
    "tags": [],
    "cell_id": "00003-6b27801c-c0c9-4d7e-9390-76d571fe1e32",
    "deepnote_to_be_reexecuted": false,
    "source_hash": "11215234",
    "execution_start": 1621064616939,
    "execution_millis": 2,
    "deepnote_cell_type": "code"
   },
   "source": "# Dec 2019 UK YouTube minutes (mobile devices)\nyoutubeTimeDecDevices = 32099000000 * ureg.minutes # Source [1] (Pinpoint: pg 30)\n\n# % watched YouTube (mobile devices)\nyoutubeWatchPercentageMobileDevices = 0.73 # 73% Source [2] (Pinpoint: Figure 4.10, pg116)\n\n# % watched YouTube (mobile networks)\nyoutubeWatchPercentageMobileNetworks = 0.25 # 25% Source [3]",
   "execution_count": 2,
   "outputs": []
  },
  {
   "cell_type": "markdown",
   "source": "Using the total annual watch minutes, the total time watched on mobile devices and the total time watched on mobile networks, we can calculate the total time spent on Wi-Fi and non-mobile devices.",
   "metadata": {
    "tags": [],
    "cell_id": "00003-f6c26b12-b6ba-4635-a05a-dc2919b8790b",
    "deepnote_cell_type": "markdown"
   }
  },
  {
   "cell_type": "code",
   "metadata": {
    "tags": [],
    "cell_id": "00000-a000e3a1-9196-456b-87e2-092a6a376c59",
    "deepnote_to_be_reexecuted": false,
    "source_hash": "51d12bf5",
    "execution_start": 1621064616946,
    "execution_millis": 6,
    "is_code_hidden": false,
    "output_cleared": false,
    "deepnote_cell_type": "code"
   },
   "source": "# Assume Dec 2019 figure is representative of the full year\nyoutubeTimeAnnualDevices = youtubeTimeDecDevices * 12\n\n# Annual UK YouTube minutes (all networks, all devices)\nyoutubeTimeAnnualAllNetworksAllDevices = youtubeTimeAnnualDevices / youtubeWatchPercentageMobileDevices\nprint(f'Annual UK YouTube minutes (all networks, all devices): {youtubeTimeAnnualAllNetworksAllDevices:,.0f}')\n\nprint(f'Annual UK YouTube minutes (mobile devices): {youtubeTimeAnnualAllNetworksAllDevices:,.0f}')\n\n# Annual UK YouTube minutes (mobile networks)\nyoutubeTimeAnnualMobileNetworks = youtubeWatchPercentageMobileNetworks * youtubeTimeAnnualAllNetworksAllDevices\nprint(f'Annual UK YouTube minutes (mobile networks): {youtubeTimeAnnualMobileNetworks:,.0f}')\n\n# Annual UK YouTube minutes (Wi-fi networks, all devices)\nyoutubeTimeAnnualWifiAllDevices = youtubeTimeAnnualAllNetworksAllDevices - youtubeTimeAnnualMobileNetworks\nprint(f'Annual UK YouTube minutes (Wi-Fi networks, all devices): {youtubeTimeAnnualWifiAllDevices:,.0f}')",
   "execution_count": 3,
   "outputs": [
    {
     "name": "stdout",
     "text": "Annual UK YouTube minutes (all networks, all devices): 527,654,794,521 minute\nAnnual UK YouTube minutes (mobile devices): 527,654,794,521 minute\nAnnual UK YouTube minutes (mobile networks): 131,913,698,630 minute\nAnnual UK YouTube minutes (Wi-Fi networks, all devices): 395,741,095,890 minute\n",
     "output_type": "stream"
    }
   ]
  },
  {
   "cell_type": "markdown",
   "source": "### YouTube data volume\n\nThe amount of data transmitted during a single YouTube video streaming session varies based on factors such as device type, screen size, video resolution, framerate, bit rate, network speed and which formats the video was encoded into. \n\nFor each video quality setting, we take the mean average of the range of values reported in an observational assessment of 1 hour of streaming produced for an Android website<sup>4</sup>. In this assessment, data volume was recorded using three separate tools: Android's built-in data monitoring, Google's Datally app and the GlassWire data monitoring app.",
   "metadata": {
    "tags": [],
    "cell_id": "00005-5109376c-23f4-4502-9c09-bedbe49e0df6",
    "deepnote_cell_type": "markdown"
   }
  },
  {
   "cell_type": "code",
   "metadata": {
    "tags": [],
    "cell_id": "00006-303f842c-c29a-4e22-9252-95664cd37608",
    "deepnote_to_be_reexecuted": false,
    "source_hash": "d2407dc4",
    "execution_start": 1621064616985,
    "execution_millis": 15,
    "deepnote_cell_type": "code"
   },
   "source": "dataVolume = pd.DataFrame({\n    480: [0.48 * ureg.gigabyte, 0.66 * ureg.gigabyte], # 480p SD [min, max]\n    720: [1.2 * ureg.gigabyte, 2.7 * ureg.gigabyte], # 720p HD [min ,max]\n    1080: [2.5 * ureg.gigabyte, 4.1 * ureg.gigabyte], # 1080p FHD [min ,max]\n    1440: [2.7 * ureg.gigabyte, 8.1 * ureg.gigabyte], # 1440p QHD [min ,max]\n    2160: [5.5 * ureg.gigabyte, 23.0 * ureg.gigabyte], # 2160p UHD 4k [min ,max]\n})",
   "execution_count": 4,
   "outputs": [
    {
     "name": "stderr",
     "text": "/shared-libs/python3.9/py/lib/python3.9/site-packages/pandas/core/dtypes/cast.py:1638: UnitStrippedWarning: The unit of the quantity is stripped when downcasting to ndarray.\n  result[:] = values\n",
     "output_type": "stream"
    }
   ]
  },
  {
   "cell_type": "markdown",
   "source": "### Video traffic\n\nWe need to know how much traffic is from YouTube and video in general for both mobile and non-mobile.",
   "metadata": {
    "tags": [],
    "cell_id": "00009-b7435b0f-8934-4d52-a74b-fc0b8bf2f31b",
    "deepnote_cell_type": "markdown"
   }
  },
  {
   "cell_type": "code",
   "metadata": {
    "tags": [],
    "cell_id": "00010-34d64cb7-08a3-4536-8943-56e4517aa3d9",
    "deepnote_to_be_reexecuted": false,
    "source_hash": "ee31422a",
    "execution_start": 1621064616987,
    "execution_millis": 0,
    "deepnote_cell_type": "code"
   },
   "source": "internetTrafficYouTube = 0.118 # 11.8% Source [5] (Pinpoint: pg12)\ninternetTrafficVideo = 0.60 # 60% Source [5] (Pinpoint: pg6)\nmobileTrafficYouTube = 0.271 # 27.1% Source [6] (Pinpoint: pg9)\nmobileTrafficVideo = 0.655 # 65.5% Source [6] (Pinpoint: pg5)",
   "execution_count": 5,
   "outputs": []
  },
  {
   "cell_type": "markdown",
   "source": "## Video streaming watch time & data volume\n\nUsing the figures above, we calculate the total annual time spent and associated data volume for YouTube.\n\nWe assume mobile traffic is all 4G and non-mobile traffic is all Wi-Fi because 97% of UK premises have access to decent fixed (at least 10 Mbit/s) and 4G (at least 2 Mbit/s) services, 91% of geographic areas of the UK are able to receive 4G data service from at least one operator, and 4G carries 90% of UK mobile data traffic<sup>7</sup>. 3G connectivity is excluded because it carries only a small proportion of data traffic.\n\nWe assume the default video quality is 720p High Definition (HD) because during the 2020 Coronavirus pandemic, the default was reduced to 480p Standard Definition (SD)<sup>8</sup>. The reference year for this assessment is 2019.",
   "metadata": {
    "tags": [],
    "cell_id": "00011-0c533d04-ae82-4f5c-ad19-b7c679fdbac5",
    "deepnote_cell_type": "markdown"
   }
  },
  {
   "cell_type": "code",
   "metadata": {
    "tags": [],
    "cell_id": "00012-ad305ee0-e5a9-4f10-b28f-0a936a32ef63",
    "deepnote_to_be_reexecuted": false,
    "source_hash": "24a7c2d3",
    "execution_start": 1621064616988,
    "execution_millis": 0,
    "deepnote_cell_type": "code"
   },
   "source": "# 720p HD video quality\nvideoQuality = 720",
   "execution_count": 6,
   "outputs": []
  },
  {
   "cell_type": "markdown",
   "source": "### YouTube",
   "metadata": {
    "tags": [],
    "cell_id": "00013-fc45c8e4-7912-4e22-ac07-0f2fc4639805",
    "deepnote_cell_type": "markdown"
   }
  },
  {
   "cell_type": "code",
   "metadata": {
    "tags": [],
    "cell_id": "00014-1f43da12-8955-47e2-a085-dc8772e24195",
    "deepnote_to_be_reexecuted": false,
    "source_hash": "f8677e18",
    "execution_start": 1621064616991,
    "execution_millis": 49,
    "output_cleared": false,
    "deepnote_cell_type": "code"
   },
   "source": "# Tidy up the calculations into an easily readable data frame\nyoutube = pd.DataFrame({\n    'Time': {\n        '4G': youtubeTimeAnnualMobileNetworks,\n        'Wi-Fi': youtubeTimeAnnualWifiAllDevices,\n        'Total': youtubeTimeAnnualMobileNetworks + youtubeTimeAnnualWifiAllDevices,\n    },\n    'Data': {\n        '4G': youtubeTimeAnnualMobileNetworks * dataVolume[videoQuality].values.mean(),\n        'Wi-Fi': youtubeTimeAnnualWifiAllDevices * dataVolume[videoQuality].values.mean(),\n        'Total': (youtubeTimeAnnualMobileNetworks * dataVolume[videoQuality].values.mean()) + (youtubeTimeAnnualWifiAllDevices * dataVolume[videoQuality].values.mean()),\n    }\n})\n\n# Format nicely for display\nyoutubeDisplay = pd.DataFrame({\n    'Time': {\n        '4G': f'{youtube[\"Time\"][\"4G\"].to(\"hour\"):,.0f} ({youtube[\"Time\"][\"4G\"].to(\"hour\").to_compact().magnitude:,.1f} bn)',\n        'Wi-Fi': f'{youtube[\"Time\"][\"Wi-Fi\"].to(\"hour\"):,.0f} ({youtube[\"Time\"][\"Wi-Fi\"].to(\"hour\").to_compact().magnitude:,.1f} bn)',\n        'Total': f'{youtube[\"Time\"][\"Total\"].to(\"hour\"):,.0f} ({youtube[\"Time\"][\"Total\"].to(\"hour\").to_compact().magnitude:,.1f} bn)',\n\n    },\n    'Data': {\n        '4G': f'{youtube[\"Data\"][\"4G\"].to(\"gigabyte hour\"):,.0f~H} ({youtube[\"Data\"][\"4G\"].to(\"exabyte hour\"):,.1f~H})',\n        'Wi-Fi': f'{youtube[\"Data\"][\"Wi-Fi\"].to(\"gigabyte hour\"):,.0f~H} ({youtube[\"Data\"][\"Wi-Fi\"].to(\"exabyte hour\"):,.1f~H})',\n        'Total': f'{youtube[\"Data\"][\"Total\"].to(\"gigabyte hour\"):,.0f~H} ({youtube[\"Data\"][\"Total\"].to(\"exabyte hour\"):,.1f~H})',\n\n    }\n})\nyoutubeDisplay",
   "execution_count": 7,
   "outputs": [
    {
     "output_type": "execute_result",
     "execution_count": 7,
     "data": {
      "application/vnd.deepnote.dataframe.v2+json": {
       "row_count": 3,
       "column_count": 2,
       "columns": [
        {
         "name": "Time",
         "dtype": "object",
         "stats": {
          "unique_count": 3,
          "nan_count": 0,
          "categories": [
           {
            "name": "2,198,561,644 hour (2.2 bn)",
            "count": 1
           },
           {
            "name": "6,595,684,932 hour (6.6 bn)",
            "count": 1
           },
           {
            "name": "8,794,246,575 hour (8.8 bn)",
            "count": 1
           }
          ]
         }
        },
        {
         "name": "Data",
         "dtype": "object",
         "stats": {
          "unique_count": 3,
          "nan_count": 0,
          "categories": [
           {
            "name": "4,287,195,205 GB hr (4.3 EB hr)",
            "count": 1
           },
           {
            "name": "12,861,585,616 GB hr (12.9 EB hr)",
            "count": 1
           },
           {
            "name": "17,148,780,822 GB hr (17.1 EB hr)",
            "count": 1
           }
          ]
         }
        },
        {
         "name": "_deepnote_index_column",
         "dtype": "object"
        }
       ],
       "rows_top": [
        {
         "Time": "2,198,561,644 hour (2.2 bn)",
         "Data": "4,287,195,205 GB hr (4.3 EB hr)",
         "_deepnote_index_column": "4G"
        },
        {
         "Time": "6,595,684,932 hour (6.6 bn)",
         "Data": "12,861,585,616 GB hr (12.9 EB hr)",
         "_deepnote_index_column": "Wi-Fi"
        },
        {
         "Time": "8,794,246,575 hour (8.8 bn)",
         "Data": "17,148,780,822 GB hr (17.1 EB hr)",
         "_deepnote_index_column": "Total"
        }
       ],
       "rows_bottom": null
      },
      "text/plain": "                              Time                               Data\n4G     2,198,561,644 hour (2.2 bn)    4,287,195,205 GB hr (4.3 EB hr)\nWi-Fi  6,595,684,932 hour (6.6 bn)  12,861,585,616 GB hr (12.9 EB hr)\nTotal  8,794,246,575 hour (8.8 bn)  17,148,780,822 GB hr (17.1 EB hr)",
      "text/html": "<div>\n<style scoped>\n    .dataframe tbody tr th:only-of-type {\n        vertical-align: middle;\n    }\n\n    .dataframe tbody tr th {\n        vertical-align: top;\n    }\n\n    .dataframe thead th {\n        text-align: right;\n    }\n</style>\n<table border=\"1\" class=\"dataframe\">\n  <thead>\n    <tr style=\"text-align: right;\">\n      <th></th>\n      <th>Time</th>\n      <th>Data</th>\n    </tr>\n  </thead>\n  <tbody>\n    <tr>\n      <th>4G</th>\n      <td>2,198,561,644 hour (2.2 bn)</td>\n      <td>4,287,195,205 GB hr (4.3 EB hr)</td>\n    </tr>\n    <tr>\n      <th>Wi-Fi</th>\n      <td>6,595,684,932 hour (6.6 bn)</td>\n      <td>12,861,585,616 GB hr (12.9 EB hr)</td>\n    </tr>\n    <tr>\n      <th>Total</th>\n      <td>8,794,246,575 hour (8.8 bn)</td>\n      <td>17,148,780,822 GB hr (17.1 EB hr)</td>\n    </tr>\n  </tbody>\n</table>\n</div>"
     },
     "metadata": {}
    }
   ]
  },
  {
   "cell_type": "markdown",
   "source": "#### Validation by comparison\n\nAn Ofcom survey<sup>2</sup> reported the number of unique visitors to YouTube out of the UK population and how much time they spent on it per day in 2019. From this we can calculate the total viewing time and compare to our figure.",
   "metadata": {
    "tags": [],
    "cell_id": "00015-5eb90005-a91d-49f6-9c59-5dac514bca49",
    "deepnote_cell_type": "markdown"
   }
  },
  {
   "cell_type": "code",
   "metadata": {
    "tags": [],
    "cell_id": "00016-faa38b1d-7e31-4937-b5da-93ff9ad8cd8d",
    "deepnote_to_be_reexecuted": false,
    "source_hash": "30e64250",
    "execution_start": 1621064617022,
    "execution_millis": 27,
    "output_cleared": false,
    "deepnote_cell_type": "code"
   },
   "source": "# YouTube daily visitors\nofcomYoutubeDailyVisitors = 41970000 # Source [2] (Pinpoint: Figure 4.6, pg111)\n\n# YouTube average daily time spent\nofcomYoutubeAverageDailyTimeSpent = 35 * ureg.minutes # Source [2] (Pinpoint: Figure 4.8, pg 114)\n\n# Annual UK YouTube time spent\nofcomYoutubeAnnualTimeSpent = ((ofcomYoutubeAverageDailyTimeSpent * 365) * ofcomYoutubeDailyVisitors)\nprint(f'Ofcom survey: {ofcomYoutubeAnnualTimeSpent.to(\"hours\").magnitude:,.0f} ({ofcomYoutubeAnnualTimeSpent.to(\"hours\").to_compact().magnitude:,.1f}bn) hours')\nprint(f'Our calculation: {youtube[\"Time\"][\"Total\"].to(\"hours\").magnitude:,.0f} ({youtube[\"Time\"][\"Total\"].to(\"hours\").to_compact().magnitude:,.1f}bn) hours')\n\n# % difference\ndifference = ((youtube['Time']['Total'] - ofcomYoutubeAnnualTimeSpent) / youtube['Time']['Total']) * 100\nprint(f'Difference: {difference.magnitude:,.1f}%')",
   "execution_count": 8,
   "outputs": [
    {
     "name": "stdout",
     "text": "Ofcom survey: 8,936,112,500 (8.9bn) hours\nOur calculation: 8,794,246,575 (8.8bn) hours\nDifference: -1.6%\n",
     "output_type": "stream"
    }
   ]
  },
  {
   "cell_type": "markdown",
   "source": "### All UK video streaming\n\nGiven that YouTube is a certain percentage of all internet traffic, and we know what percentage of traffic is video streaming, if we assume that YouTube is representative of all video streaming we can extrapolate for all UK video streaming.",
   "metadata": {
    "tags": [],
    "cell_id": "00015-125ba784-5a24-46af-99b7-dd1a6ba5c49b",
    "deepnote_cell_type": "markdown"
   }
  },
  {
   "cell_type": "code",
   "metadata": {
    "tags": [],
    "cell_id": "00016-b9d3b1d0-0143-490f-8a1f-8b0cc74c16f1",
    "deepnote_to_be_reexecuted": false,
    "source_hash": "d10f367",
    "execution_start": 1621064617087,
    "execution_millis": 28,
    "deepnote_cell_type": "code"
   },
   "source": "# Extrapolate to all video streaming\nallUKVideo4GData = (youtube['Data']['4G'] / mobileTrafficYouTube) * mobileTrafficVideo\nallUKVideoWiFiData = (youtube['Data']['Wi-Fi'] / internetTrafficYouTube) * internetTrafficVideo\nallUKVideo4GTime = allUKVideo4GData / dataVolume[videoQuality].values.mean()\nallUKVideoWiFiTime = allUKVideoWiFiData / dataVolume[videoQuality].values.mean()\n\n# Create a dataframe for easy analysis\nallUKVideo = pd.DataFrame({\n    'Time': {\n        '4G': allUKVideo4GTime,\n        'Wi-Fi': allUKVideoWiFiTime,\n        'Total': allUKVideo4GTime + allUKVideoWiFiTime,\n    },\n    'Data': {\n        '4G': allUKVideo4GData,\n        'Wi-Fi': allUKVideoWiFiData,\n        'Total': allUKVideo4GData + allUKVideoWiFiData,\n    }\n})\n\n# Format nicely for display\nallUKVideoDisplay = pd.DataFrame({\n    'Time': {\n        '4G': f'{allUKVideo[\"Time\"][\"4G\"].to(\"hour\"):,.0f} ({allUKVideo[\"Time\"][\"4G\"].to(\"hour\").to_compact().magnitude:,.1f} bn)',\n        'Wi-Fi': f'{allUKVideo[\"Time\"][\"Wi-Fi\"].to(\"hour\"):,.0f} ({allUKVideo[\"Time\"][\"Wi-Fi\"].to(\"hour\").to_compact().magnitude:,.1f} bn)',\n        'Total': f'{allUKVideo[\"Time\"][\"Total\"].to(\"hour\"):,.0f} ({allUKVideo[\"Time\"][\"Total\"].to(\"hour\").to_compact().magnitude:,.1f} bn)',\n\n    },\n    'Data': {\n        '4G': f'{allUKVideo[\"Data\"][\"4G\"].to(\"gigabyte hour\"):,.0f~H} ({allUKVideo[\"Data\"][\"4G\"].to(\"exabyte hour\"):,.1f~H})',\n        'Wi-Fi': f'{allUKVideo[\"Data\"][\"Wi-Fi\"].to(\"gigabyte hour\"):,.0f~H} ({allUKVideo[\"Data\"][\"Wi-Fi\"].to(\"exabyte hour\"):,.1f~H})',\n        'Total': f'{allUKVideo[\"Data\"][\"Total\"].to(\"gigabyte hour\"):,.0f~H} ({allUKVideo[\"Data\"][\"Total\"].to(\"exabyte hour\"):,.1f~H})',\n\n    }\n})\n\nallUKVideoDisplay",
   "execution_count": 9,
   "outputs": [
    {
     "output_type": "execute_result",
     "execution_count": 9,
     "data": {
      "application/vnd.deepnote.dataframe.v2+json": {
       "row_count": 3,
       "column_count": 2,
       "columns": [
        {
         "name": "Time",
         "dtype": "object",
         "stats": {
          "unique_count": 3,
          "nan_count": 0,
          "categories": [
           {
            "name": "5,313,866,704 hour (5.3 bn)",
            "count": 1
           },
           {
            "name": "33,537,381,008 hour (33.5 bn)",
            "count": 1
           },
           {
            "name": "38,851,247,711 hour (38.9 bn)",
            "count": 1
           }
          ]
         }
        },
        {
         "name": "Data",
         "dtype": "object",
         "stats": {
          "unique_count": 3,
          "nan_count": 0,
          "categories": [
           {
            "name": "10,362,040,072 GB hr (10.4 EB hr)",
            "count": 1
           },
           {
            "name": "65,397,892,965 GB hr (65.4 EB hr)",
            "count": 1
           },
           {
            "name": "75,759,933,037 GB hr (75.8 EB hr)",
            "count": 1
           }
          ]
         }
        },
        {
         "name": "_deepnote_index_column",
         "dtype": "object"
        }
       ],
       "rows_top": [
        {
         "Time": "5,313,866,704 hour (5.3 bn)",
         "Data": "10,362,040,072 GB hr (10.4 EB hr)",
         "_deepnote_index_column": "4G"
        },
        {
         "Time": "33,537,381,008 hour (33.5 bn)",
         "Data": "65,397,892,965 GB hr (65.4 EB hr)",
         "_deepnote_index_column": "Wi-Fi"
        },
        {
         "Time": "38,851,247,711 hour (38.9 bn)",
         "Data": "75,759,933,037 GB hr (75.8 EB hr)",
         "_deepnote_index_column": "Total"
        }
       ],
       "rows_bottom": null
      },
      "text/plain": "                                Time                               Data\n4G       5,313,866,704 hour (5.3 bn)  10,362,040,072 GB hr (10.4 EB hr)\nWi-Fi  33,537,381,008 hour (33.5 bn)  65,397,892,965 GB hr (65.4 EB hr)\nTotal  38,851,247,711 hour (38.9 bn)  75,759,933,037 GB hr (75.8 EB hr)",
      "text/html": "<div>\n<style scoped>\n    .dataframe tbody tr th:only-of-type {\n        vertical-align: middle;\n    }\n\n    .dataframe tbody tr th {\n        vertical-align: top;\n    }\n\n    .dataframe thead th {\n        text-align: right;\n    }\n</style>\n<table border=\"1\" class=\"dataframe\">\n  <thead>\n    <tr style=\"text-align: right;\">\n      <th></th>\n      <th>Time</th>\n      <th>Data</th>\n    </tr>\n  </thead>\n  <tbody>\n    <tr>\n      <th>4G</th>\n      <td>5,313,866,704 hour (5.3 bn)</td>\n      <td>10,362,040,072 GB hr (10.4 EB hr)</td>\n    </tr>\n    <tr>\n      <th>Wi-Fi</th>\n      <td>33,537,381,008 hour (33.5 bn)</td>\n      <td>65,397,892,965 GB hr (65.4 EB hr)</td>\n    </tr>\n    <tr>\n      <th>Total</th>\n      <td>38,851,247,711 hour (38.9 bn)</td>\n      <td>75,759,933,037 GB hr (75.8 EB hr)</td>\n    </tr>\n  </tbody>\n</table>\n</div>"
     },
     "metadata": {}
    }
   ]
  },
  {
   "cell_type": "markdown",
   "source": "#### Validation by comparison\n\nAn Ofcom survey<sup>9</sup> reported the total number of video minutes watched per day per person and the proportion of that which was not broadcast content i.e. online video streaming vs broadcast TV. Based on the UK population<sup>10</sup>, we can calculate the total viewing time and compare to our figure.",
   "metadata": {
    "tags": [],
    "cell_id": "00019-517790cd-5cef-4ab1-a9bd-1118f9a0045f",
    "deepnote_cell_type": "markdown"
   }
  },
  {
   "cell_type": "code",
   "metadata": {
    "tags": [],
    "cell_id": "00020-a0539e27-e316-4a44-835e-b6c955a4e824",
    "deepnote_to_be_reexecuted": false,
    "source_hash": "21d3f498",
    "execution_start": 1621064617088,
    "execution_millis": 27,
    "deepnote_cell_type": "code"
   },
   "source": "ofcomTotalVideoTimeDaily = 294  * ureg.minutes # Source [9] (Pinpoint: Figure 1.4, pg 16)\nofcomPercentageNonBroadcast = 0.31 # Source [9] (Pinpoint: Figure 1.4, pg 16)\nukPopulation = 66400000 # Source [10]\n\nofcomTotalVideoStreamingTime = (ofcomTotalVideoTimeDaily * ofcomPercentageNonBroadcast * ukPopulation * 365)\n\nprint(f'Ofcom survey: {ofcomTotalVideoStreamingTime.to(\"hours\").magnitude:,.0f} ({ofcomTotalVideoStreamingTime.to(\"hours\").to_compact().magnitude:,.1f}bn) hours')\nprint(f'Our calculation: {allUKVideo[\"Time\"][\"Total\"].to(\"hours\").magnitude:,.0f} ({allUKVideo[\"Time\"][\"Total\"].to(\"hours\").to_compact().magnitude:,.1f}bn) hours')\n\n# % difference\ndifference = ((allUKVideo['Time']['Total'] - ofcomTotalVideoStreamingTime) / allUKVideo['Time']['Total']) * 100\nprint(f'Difference: {difference.magnitude:,.1f}%')",
   "execution_count": 10,
   "outputs": [
    {
     "name": "stdout",
     "text": "Ofcom survey: 36,814,484,000 (36.8bn) hours\nOur calculation: 38,851,247,711 (38.9bn) hours\nDifference: 5.2%\n",
     "output_type": "stream"
    }
   ]
  },
  {
   "cell_type": "markdown",
   "source": "## Traceroute sample analysis\n\n116 Scamper traceroute samples were returned by 29 participants. The individual samples are provided in `/traceroute-samples/samples/`. An aggregated CSV is provided in `/traceroute-samples/traceroute-samples.csv` with network ownership metadata returned by [IPInfo](https://ipinfo.io). See `/traceroute-samples/aggregate-samples.ipynb` for the aggregation code.",
   "metadata": {
    "tags": [],
    "cell_id": "00021-378458a4-654a-43f0-808e-2f0dab369a72",
    "deepnote_cell_type": "markdown"
   }
  },
  {
   "cell_type": "code",
   "source": "traceroutes = pd.read_csv('../traceroute-samples/traceroute-samples.csv')",
   "metadata": {
    "tags": [],
    "cell_id": "00022-7dbf5dad-22f2-44d0-9e91-0d712c64f593",
    "deepnote_to_be_reexecuted": false,
    "source_hash": "ebd078e4",
    "execution_start": 1621068761645,
    "execution_millis": 211,
    "output_cleared": false,
    "deepnote_cell_type": "code"
   },
   "outputs": [
    {
     "output_type": "execute_result",
     "execution_count": 42,
     "data": {
      "application/vnd.deepnote.dataframe.v2+json": {
       "row_count": 4,
       "column_count": 125,
       "columns": [
        {
         "name": "Participant City",
         "dtype": "object",
         "stats": {
          "unique_count": 1,
          "nan_count": 0,
          "categories": [
           {
            "name": "gland",
            "count": 4
           }
          ]
         }
        },
        {
         "name": "Participant Country",
         "dtype": "object",
         "stats": {
          "unique_count": 1,
          "nan_count": 0,
          "categories": [
           {
            "name": "switzerland",
            "count": 4
           }
          ]
         }
        },
        {
         "name": "Connection",
         "dtype": "object",
         "stats": {
          "unique_count": 2,
          "nan_count": 0,
          "categories": [
           {
            "name": "4g",
            "count": 2
           },
           {
            "name": "wifi",
            "count": 2
           }
          ]
         }
        },
        {
         "name": "IPv",
         "dtype": "int64",
         "stats": {
          "unique_count": 2,
          "nan_count": 0,
          "min": "4",
          "max": "6",
          "histogram": [
           {
            "bin_start": 4,
            "bin_end": 4.2,
            "count": 2
           },
           {
            "bin_start": 4.2,
            "bin_end": 4.4,
            "count": 0
           },
           {
            "bin_start": 4.4,
            "bin_end": 4.6,
            "count": 0
           },
           {
            "bin_start": 4.6,
            "bin_end": 4.8,
            "count": 0
           },
           {
            "bin_start": 4.8,
            "bin_end": 5,
            "count": 0
           },
           {
            "bin_start": 5,
            "bin_end": 5.2,
            "count": 0
           },
           {
            "bin_start": 5.2,
            "bin_end": 5.4,
            "count": 0
           },
           {
            "bin_start": 5.4,
            "bin_end": 5.6,
            "count": 0
           },
           {
            "bin_start": 5.6,
            "bin_end": 5.8,
            "count": 0
           },
           {
            "bin_start": 5.8,
            "bin_end": 6,
            "count": 2
           }
          ]
         }
        },
        {
         "name": "Destination",
         "dtype": "object",
         "stats": {
          "unique_count": 2,
          "nan_count": 0,
          "categories": [
           {
            "name": "www.instagram.com",
            "count": 2
           },
           {
            "name": "www.youtube.com",
            "count": 2
           }
          ]
         }
        },
        {
         "name": "Destination IP",
         "dtype": "object",
         "stats": {
          "unique_count": 4,
          "nan_count": 0,
          "categories": [
           {
            "name": "90.255.253.97",
            "count": 1
           },
           {
            "name": "2001:918:ff44:100:face:b00c:3333:a3f",
            "count": 1
           },
           {
            "name": "2 others",
            "count": 2
           }
          ]
         }
        },
        {
         "name": "Destination Hostname",
         "dtype": "object",
         "stats": {
          "unique_count": 1,
          "nan_count": 0,
          "categories": [
           {
            "name": "Unknown",
            "count": 4
           }
          ]
         }
        },
        {
         "name": "Destination ASN",
         "dtype": "object",
         "stats": {
          "unique_count": 2,
          "nan_count": 0,
          "categories": [
           {
            "name": "AS5378 Vodafone Limited",
            "count": 2
           },
           {
            "name": "AS3303 Swisscom (Schweiz) AG",
            "count": 2
           }
          ]
         }
        },
        {
         "name": "Destination City",
         "dtype": "object",
         "stats": {
          "unique_count": 3,
          "nan_count": 0,
          "categories": [
           {
            "name": "Bolligen",
            "count": 2
           },
           {
            "name": "Slough",
            "count": 1
           },
           {
            "name": "London",
            "count": 1
           }
          ]
         }
        },
        {
         "name": "Destination Country",
         "dtype": "object",
         "stats": {
          "unique_count": 2,
          "nan_count": 0,
          "categories": [
           {
            "name": "United Kingdom",
            "count": 2
           },
           {
            "name": "Switzerland",
            "count": 2
           }
          ]
         }
        },
        {
         "name": "Trace Hop Count",
         "dtype": "float64",
         "stats": {
          "unique_count": 2,
          "nan_count": 2,
          "min": "8.0",
          "max": "9.0",
          "histogram": [
           {
            "bin_start": 8,
            "bin_end": 8.1,
            "count": 1
           },
           {
            "bin_start": 8.1,
            "bin_end": 8.2,
            "count": 0
           },
           {
            "bin_start": 8.2,
            "bin_end": 8.3,
            "count": 0
           },
           {
            "bin_start": 8.3,
            "bin_end": 8.4,
            "count": 0
           },
           {
            "bin_start": 8.4,
            "bin_end": 8.5,
            "count": 0
           },
           {
            "bin_start": 8.5,
            "bin_end": 8.6,
            "count": 0
           },
           {
            "bin_start": 8.6,
            "bin_end": 8.7,
            "count": 0
           },
           {
            "bin_start": 8.7,
            "bin_end": 8.8,
            "count": 0
           },
           {
            "bin_start": 8.8,
            "bin_end": 8.9,
            "count": 0
           },
           {
            "bin_start": 8.9,
            "bin_end": 9,
            "count": 1
           }
          ]
         }
        },
        {
         "name": "Hop 1 IP",
         "dtype": "object",
         "stats": {
          "unique_count": 1,
          "nan_count": 2,
          "categories": [
           {
            "name": "172.20.10.1",
            "count": 2
           },
           {
            "name": "Missing",
            "count": 2
           }
          ]
         }
        },
        {
         "name": "Hop 1 Hostname",
         "dtype": "object",
         "stats": {
          "unique_count": 1,
          "nan_count": 2,
          "categories": [
           {
            "name": "Unknown",
            "count": 2
           },
           {
            "name": "Missing",
            "count": 2
           }
          ]
         }
        },
        {
         "name": "Hop 1 RTT",
         "dtype": "float64",
         "stats": {
          "unique_count": 2,
          "nan_count": 2,
          "min": "2.861",
          "max": "52.573",
          "histogram": [
           {
            "bin_start": 2.861,
            "bin_end": 7.8322,
            "count": 1
           },
           {
            "bin_start": 7.8322,
            "bin_end": 12.803400000000002,
            "count": 0
           },
           {
            "bin_start": 12.803400000000002,
            "bin_end": 17.774600000000003,
            "count": 0
           },
           {
            "bin_start": 17.774600000000003,
            "bin_end": 22.745800000000003,
            "count": 0
           },
           {
            "bin_start": 22.745800000000003,
            "bin_end": 27.717000000000002,
            "count": 0
           },
           {
            "bin_start": 27.717000000000002,
            "bin_end": 32.6882,
            "count": 0
           },
           {
            "bin_start": 32.6882,
            "bin_end": 37.6594,
            "count": 0
           },
           {
            "bin_start": 37.6594,
            "bin_end": 42.6306,
            "count": 0
           },
           {
            "bin_start": 42.6306,
            "bin_end": 47.601800000000004,
            "count": 0
           },
           {
            "bin_start": 47.601800000000004,
            "bin_end": 52.573,
            "count": 1
           }
          ]
         }
        },
        {
         "name": "Hop 1 ASN",
         "dtype": "object",
         "stats": {
          "unique_count": 0,
          "nan_count": 4,
          "categories": [
           {
            "name": "Missing",
            "count": 4
           }
          ]
         }
        },
        {
         "name": "Hop 1 City",
         "dtype": "object",
         "stats": {
          "unique_count": 0,
          "nan_count": 4,
          "categories": [
           {
            "name": "Missing",
            "count": 4
           }
          ]
         }
        },
        {
         "name": "Hop 1 Country",
         "dtype": "object",
         "stats": {
          "unique_count": 0,
          "nan_count": 4,
          "categories": [
           {
            "name": "Missing",
            "count": 4
           }
          ]
         }
        },
        {
         "name": "Hop 2 IP",
         "dtype": "object",
         "stats": {
          "unique_count": 0,
          "nan_count": 4,
          "categories": [
           {
            "name": "Missing",
            "count": 4
           }
          ]
         }
        },
        {
         "name": "Hop 2 Hostname",
         "dtype": "object",
         "stats": {
          "unique_count": 0,
          "nan_count": 4,
          "categories": [
           {
            "name": "Missing",
            "count": 4
           }
          ]
         }
        },
        {
         "name": "Hop 2 RTT",
         "dtype": "float64",
         "stats": {
          "unique_count": 0,
          "nan_count": 4,
          "min": null,
          "max": null,
          "histogram": [
           {
            "bin_start": 0,
            "bin_end": 0.1,
            "count": 0
           },
           {
            "bin_start": 0.1,
            "bin_end": 0.2,
            "count": 0
           },
           {
            "bin_start": 0.2,
            "bin_end": 0.30000000000000004,
            "count": 0
           },
           {
            "bin_start": 0.30000000000000004,
            "bin_end": 0.4,
            "count": 0
           },
           {
            "bin_start": 0.4,
            "bin_end": 0.5,
            "count": 0
           },
           {
            "bin_start": 0.5,
            "bin_end": 0.6000000000000001,
            "count": 0
           },
           {
            "bin_start": 0.6000000000000001,
            "bin_end": 0.7000000000000001,
            "count": 0
           },
           {
            "bin_start": 0.7000000000000001,
            "bin_end": 0.8,
            "count": 0
           },
           {
            "bin_start": 0.8,
            "bin_end": 0.9,
            "count": 0
           },
           {
            "bin_start": 0.9,
            "bin_end": 1,
            "count": 0
           }
          ]
         }
        },
        {
         "name": "Hop 2 ASN",
         "dtype": "object",
         "stats": {
          "unique_count": 0,
          "nan_count": 4,
          "categories": [
           {
            "name": "Missing",
            "count": 4
           }
          ]
         }
        },
        {
         "name": "Hop 2 City",
         "dtype": "object",
         "stats": {
          "unique_count": 0,
          "nan_count": 4,
          "categories": [
           {
            "name": "Missing",
            "count": 4
           }
          ]
         }
        },
        {
         "name": "Hop 2 Country",
         "dtype": "object",
         "stats": {
          "unique_count": 0,
          "nan_count": 4,
          "categories": [
           {
            "name": "Missing",
            "count": 4
           }
          ]
         }
        },
        {
         "name": "Hop 3 IP",
         "dtype": "object",
         "stats": {
          "unique_count": 1,
          "nan_count": 2,
          "categories": [
           {
            "name": "192.168.172.44",
            "count": 2
           },
           {
            "name": "Missing",
            "count": 2
           }
          ]
         }
        },
        {
         "name": "Hop 3 Hostname",
         "dtype": "object",
         "stats": {
          "unique_count": 1,
          "nan_count": 2,
          "categories": [
           {
            "name": "Unknown",
            "count": 2
           },
           {
            "name": "Missing",
            "count": 2
           }
          ]
         }
        },
        {
         "name": "Hop 3 RTT",
         "dtype": "float64",
         "stats": {
          "unique_count": 2,
          "nan_count": 2,
          "min": "103.786",
          "max": "177.838",
          "histogram": [
           {
            "bin_start": 103.786,
            "bin_end": 111.1912,
            "count": 1
           },
           {
            "bin_start": 111.1912,
            "bin_end": 118.5964,
            "count": 0
           },
           {
            "bin_start": 118.5964,
            "bin_end": 126.0016,
            "count": 0
           },
           {
            "bin_start": 126.0016,
            "bin_end": 133.4068,
            "count": 0
           },
           {
            "bin_start": 133.4068,
            "bin_end": 140.812,
            "count": 0
           },
           {
            "bin_start": 140.812,
            "bin_end": 148.2172,
            "count": 0
           },
           {
            "bin_start": 148.2172,
            "bin_end": 155.6224,
            "count": 0
           },
           {
            "bin_start": 155.6224,
            "bin_end": 163.0276,
            "count": 0
           },
           {
            "bin_start": 163.0276,
            "bin_end": 170.4328,
            "count": 0
           },
           {
            "bin_start": 170.4328,
            "bin_end": 177.838,
            "count": 1
           }
          ]
         }
        },
        {
         "name": "Hop 3 ASN",
         "dtype": "object",
         "stats": {
          "unique_count": 0,
          "nan_count": 4,
          "categories": [
           {
            "name": "Missing",
            "count": 4
           }
          ]
         }
        },
        {
         "name": "Hop 3 City",
         "dtype": "object",
         "stats": {
          "unique_count": 0,
          "nan_count": 4,
          "categories": [
           {
            "name": "Missing",
            "count": 4
           }
          ]
         }
        },
        {
         "name": "Hop 3 Country",
         "dtype": "object",
         "stats": {
          "unique_count": 0,
          "nan_count": 4,
          "categories": [
           {
            "name": "Missing",
            "count": 4
           }
          ]
         }
        },
        {
         "name": "Hop 4 IP",
         "dtype": "object",
         "stats": {
          "unique_count": 1,
          "nan_count": 2,
          "categories": [
           {
            "name": "192.168.172.60",
            "count": 2
           },
           {
            "name": "Missing",
            "count": 2
           }
          ]
         }
        },
        {
         "name": "Hop 4 Hostname",
         "dtype": "object",
         "stats": {
          "unique_count": 1,
          "nan_count": 2,
          "categories": [
           {
            "name": "Unknown",
            "count": 2
           },
           {
            "name": "Missing",
            "count": 2
           }
          ]
         }
        },
        {
         "name": "Hop 4 RTT",
         "dtype": "float64",
         "stats": {
          "unique_count": 2,
          "nan_count": 2,
          "min": "80.191",
          "max": "94.314",
          "histogram": [
           {
            "bin_start": 80.191,
            "bin_end": 81.6033,
            "count": 1
           },
           {
            "bin_start": 81.6033,
            "bin_end": 83.0156,
            "count": 0
           },
           {
            "bin_start": 83.0156,
            "bin_end": 84.4279,
            "count": 0
           },
           {
            "bin_start": 84.4279,
            "bin_end": 85.8402,
            "count": 0
           },
           {
            "bin_start": 85.8402,
            "bin_end": 87.2525,
            "count": 0
           },
           {
            "bin_start": 87.2525,
            "bin_end": 88.6648,
            "count": 0
           },
           {
            "bin_start": 88.6648,
            "bin_end": 90.0771,
            "count": 0
           },
           {
            "bin_start": 90.0771,
            "bin_end": 91.48939999999999,
            "count": 0
           },
           {
            "bin_start": 91.48939999999999,
            "bin_end": 92.90169999999999,
            "count": 0
           },
           {
            "bin_start": 92.90169999999999,
            "bin_end": 94.314,
            "count": 1
           }
          ]
         }
        },
        {
         "name": "Hop 4 ASN",
         "dtype": "object",
         "stats": {
          "unique_count": 0,
          "nan_count": 4,
          "categories": [
           {
            "name": "Missing",
            "count": 4
           }
          ]
         }
        },
        {
         "name": "Hop 4 City",
         "dtype": "object",
         "stats": {
          "unique_count": 0,
          "nan_count": 4,
          "categories": [
           {
            "name": "Missing",
            "count": 4
           }
          ]
         }
        },
        {
         "name": "Hop 4 Country",
         "dtype": "object",
         "stats": {
          "unique_count": 0,
          "nan_count": 4,
          "categories": [
           {
            "name": "Missing",
            "count": 4
           }
          ]
         }
        },
        {
         "name": "Hop 5 IP",
         "dtype": "object",
         "stats": {
          "unique_count": 1,
          "nan_count": 2,
          "categories": [
           {
            "name": "192.168.172.94",
            "count": 2
           },
           {
            "name": "Missing",
            "count": 2
           }
          ]
         }
        },
        {
         "name": "Hop 5 Hostname",
         "dtype": "object",
         "stats": {
          "unique_count": 1,
          "nan_count": 2,
          "categories": [
           {
            "name": "Unknown",
            "count": 2
           },
           {
            "name": "Missing",
            "count": 2
           }
          ]
         }
        },
        {
         "name": "Hop 5 RTT",
         "dtype": "float64",
         "stats": {
          "unique_count": 2,
          "nan_count": 2,
          "min": "80.202",
          "max": "93.81",
          "histogram": [
           {
            "bin_start": 80.202,
            "bin_end": 81.5628,
            "count": 1
           },
           {
            "bin_start": 81.5628,
            "bin_end": 82.9236,
            "count": 0
           },
           {
            "bin_start": 82.9236,
            "bin_end": 84.2844,
            "count": 0
           },
           {
            "bin_start": 84.2844,
            "bin_end": 85.6452,
            "count": 0
           },
           {
            "bin_start": 85.6452,
            "bin_end": 87.006,
            "count": 0
           },
           {
            "bin_start": 87.006,
            "bin_end": 88.3668,
            "count": 0
           },
           {
            "bin_start": 88.3668,
            "bin_end": 89.7276,
            "count": 0
           },
           {
            "bin_start": 89.7276,
            "bin_end": 91.08840000000001,
            "count": 0
           },
           {
            "bin_start": 91.08840000000001,
            "bin_end": 92.4492,
            "count": 0
           },
           {
            "bin_start": 92.4492,
            "bin_end": 93.81,
            "count": 1
           }
          ]
         }
        },
        {
         "name": "Hop 5 ASN",
         "dtype": "object",
         "stats": {
          "unique_count": 0,
          "nan_count": 4,
          "categories": [
           {
            "name": "Missing",
            "count": 4
           }
          ]
         }
        },
        {
         "name": "Hop 5 City",
         "dtype": "object",
         "stats": {
          "unique_count": 0,
          "nan_count": 4,
          "categories": [
           {
            "name": "Missing",
            "count": 4
           }
          ]
         }
        },
        {
         "name": "Hop 5 Country",
         "dtype": "object",
         "stats": {
          "unique_count": 0,
          "nan_count": 4,
          "categories": [
           {
            "name": "Missing",
            "count": 4
           }
          ]
         }
        },
        {
         "name": "Hop 6 IP",
         "dtype": "object",
         "stats": {
          "unique_count": 0,
          "nan_count": 4,
          "categories": [
           {
            "name": "Missing",
            "count": 4
           }
          ]
         }
        },
        {
         "name": "Hop 6 Hostname",
         "dtype": "object",
         "stats": {
          "unique_count": 0,
          "nan_count": 4,
          "categories": [
           {
            "name": "Missing",
            "count": 4
           }
          ]
         }
        },
        {
         "name": "Hop 6 RTT",
         "dtype": "float64",
         "stats": {
          "unique_count": 0,
          "nan_count": 4,
          "min": null,
          "max": null,
          "histogram": [
           {
            "bin_start": 0,
            "bin_end": 0.1,
            "count": 0
           },
           {
            "bin_start": 0.1,
            "bin_end": 0.2,
            "count": 0
           },
           {
            "bin_start": 0.2,
            "bin_end": 0.30000000000000004,
            "count": 0
           },
           {
            "bin_start": 0.30000000000000004,
            "bin_end": 0.4,
            "count": 0
           },
           {
            "bin_start": 0.4,
            "bin_end": 0.5,
            "count": 0
           },
           {
            "bin_start": 0.5,
            "bin_end": 0.6000000000000001,
            "count": 0
           },
           {
            "bin_start": 0.6000000000000001,
            "bin_end": 0.7000000000000001,
            "count": 0
           },
           {
            "bin_start": 0.7000000000000001,
            "bin_end": 0.8,
            "count": 0
           },
           {
            "bin_start": 0.8,
            "bin_end": 0.9,
            "count": 0
           },
           {
            "bin_start": 0.9,
            "bin_end": 1,
            "count": 0
           }
          ]
         }
        },
        {
         "name": "Hop 6 ASN",
         "dtype": "object",
         "stats": {
          "unique_count": 0,
          "nan_count": 4,
          "categories": [
           {
            "name": "Missing",
            "count": 4
           }
          ]
         }
        },
        {
         "name": "Hop 6 City",
         "dtype": "object",
         "stats": {
          "unique_count": 0,
          "nan_count": 4,
          "categories": [
           {
            "name": "Missing",
            "count": 4
           }
          ]
         }
        },
        {
         "name": "Hop 6 Country",
         "dtype": "object",
         "stats": {
          "unique_count": 0,
          "nan_count": 4,
          "categories": [
           {
            "name": "Missing",
            "count": 4
           }
          ]
         }
        },
        {
         "name": "Hop 7 IP",
         "dtype": "object",
         "stats": {
          "unique_count": 1,
          "nan_count": 2,
          "categories": [
           {
            "name": "172.20.85.105",
            "count": 2
           },
           {
            "name": "Missing",
            "count": 2
           }
          ]
         }
        },
        {
         "name": "Hop 7 Hostname",
         "dtype": "object",
         "stats": {
          "unique_count": 1,
          "nan_count": 2,
          "categories": [
           {
            "name": "Unknown",
            "count": 2
           },
           {
            "name": "Missing",
            "count": 2
           }
          ]
         }
        },
        {
         "name": "Hop 7 RTT",
         "dtype": "float64",
         "stats": {
          "unique_count": 2,
          "nan_count": 2,
          "min": "83.07",
          "max": "113.887",
          "histogram": [
           {
            "bin_start": 83.07,
            "bin_end": 86.15169999999999,
            "count": 1
           },
           {
            "bin_start": 86.15169999999999,
            "bin_end": 89.23339999999999,
            "count": 0
           },
           {
            "bin_start": 89.23339999999999,
            "bin_end": 92.3151,
            "count": 0
           },
           {
            "bin_start": 92.3151,
            "bin_end": 95.3968,
            "count": 0
           },
           {
            "bin_start": 95.3968,
            "bin_end": 98.4785,
            "count": 0
           },
           {
            "bin_start": 98.4785,
            "bin_end": 101.5602,
            "count": 0
           },
           {
            "bin_start": 101.5602,
            "bin_end": 104.64189999999999,
            "count": 0
           },
           {
            "bin_start": 104.64189999999999,
            "bin_end": 107.7236,
            "count": 0
           },
           {
            "bin_start": 107.7236,
            "bin_end": 110.8053,
            "count": 0
           },
           {
            "bin_start": 110.8053,
            "bin_end": 113.887,
            "count": 1
           }
          ]
         }
        },
        {
         "name": "Hop 7 ASN",
         "dtype": "object",
         "stats": {
          "unique_count": 0,
          "nan_count": 4,
          "categories": [
           {
            "name": "Missing",
            "count": 4
           }
          ]
         }
        },
        {
         "name": "Hop 7 City",
         "dtype": "object",
         "stats": {
          "unique_count": 0,
          "nan_count": 4,
          "categories": [
           {
            "name": "Missing",
            "count": 4
           }
          ]
         }
        },
        {
         "name": "Hop 7 Country",
         "dtype": "object",
         "stats": {
          "unique_count": 0,
          "nan_count": 4,
          "categories": [
           {
            "name": "Missing",
            "count": 4
           }
          ]
         }
        },
        {
         "name": "Hop 8 IP",
         "dtype": "object",
         "stats": {
          "unique_count": 1,
          "nan_count": 2,
          "categories": [
           {
            "name": "63.130.104.202",
            "count": 2
           },
           {
            "name": "Missing",
            "count": 2
           }
          ]
         }
        },
        {
         "name": "Hop 8 Hostname",
         "dtype": "object",
         "stats": {
          "unique_count": 1,
          "nan_count": 2,
          "categories": [
           {
            "name": "Unknown",
            "count": 2
           },
           {
            "name": "Missing",
            "count": 2
           }
          ]
         }
        },
        {
         "name": "Hop 8 RTT",
         "dtype": "float64",
         "stats": {
          "unique_count": 2,
          "nan_count": 2,
          "min": "104.944",
          "max": "110.445",
          "histogram": [
           {
            "bin_start": 104.944,
            "bin_end": 105.4941,
            "count": 1
           },
           {
            "bin_start": 105.4941,
            "bin_end": 106.0442,
            "count": 0
           },
           {
            "bin_start": 106.0442,
            "bin_end": 106.5943,
            "count": 0
           },
           {
            "bin_start": 106.5943,
            "bin_end": 107.1444,
            "count": 0
           },
           {
            "bin_start": 107.1444,
            "bin_end": 107.6945,
            "count": 0
           },
           {
            "bin_start": 107.6945,
            "bin_end": 108.24459999999999,
            "count": 0
           },
           {
            "bin_start": 108.24459999999999,
            "bin_end": 108.79469999999999,
            "count": 0
           },
           {
            "bin_start": 108.79469999999999,
            "bin_end": 109.34479999999999,
            "count": 0
           },
           {
            "bin_start": 109.34479999999999,
            "bin_end": 109.89489999999999,
            "count": 0
           },
           {
            "bin_start": 109.89489999999999,
            "bin_end": 110.445,
            "count": 1
           }
          ]
         }
        },
        {
         "name": "Hop 8 ASN",
         "dtype": "object",
         "stats": {
          "unique_count": 1,
          "nan_count": 2,
          "categories": [
           {
            "name": "AS1273 Vodafone Group PLC",
            "count": 2
           },
           {
            "name": "Missing",
            "count": 2
           }
          ]
         }
        },
        {
         "name": "Hop 8 City",
         "dtype": "object",
         "stats": {
          "unique_count": 1,
          "nan_count": 2,
          "categories": [
           {
            "name": "London",
            "count": 2
           },
           {
            "name": "Missing",
            "count": 2
           }
          ]
         }
        },
        {
         "name": "Hop 8 Country",
         "dtype": "object",
         "stats": {
          "unique_count": 1,
          "nan_count": 2,
          "categories": [
           {
            "name": "United Kingdom",
            "count": 2
           },
           {
            "name": "Missing",
            "count": 2
           }
          ]
         }
        },
        {
         "name": "Hop 9 IP",
         "dtype": "object",
         "stats": {
          "unique_count": 1,
          "nan_count": 3,
          "categories": [
           {
            "name": "90.255.254.82",
            "count": 1
           },
           {
            "name": "Missing",
            "count": 3
           }
          ]
         }
        },
        {
         "name": "Hop 9 Hostname",
         "dtype": "object",
         "stats": {
          "unique_count": 1,
          "nan_count": 3,
          "categories": [
           {
            "name": "Unknown",
            "count": 1
           },
           {
            "name": "Missing",
            "count": 3
           }
          ]
         }
        },
        {
         "name": "Hop 9 RTT",
         "dtype": "float64",
         "stats": {
          "unique_count": 1,
          "nan_count": 3,
          "min": "114.368",
          "max": "114.368",
          "histogram": [
           {
            "bin_start": 113.868,
            "bin_end": 113.96799999999999,
            "count": 0
           },
           {
            "bin_start": 113.96799999999999,
            "bin_end": 114.068,
            "count": 0
           },
           {
            "bin_start": 114.068,
            "bin_end": 114.16799999999999,
            "count": 0
           },
           {
            "bin_start": 114.16799999999999,
            "bin_end": 114.268,
            "count": 0
           },
           {
            "bin_start": 114.268,
            "bin_end": 114.368,
            "count": 0
           },
           {
            "bin_start": 114.368,
            "bin_end": 114.46799999999999,
            "count": 1
           },
           {
            "bin_start": 114.46799999999999,
            "bin_end": 114.568,
            "count": 0
           },
           {
            "bin_start": 114.568,
            "bin_end": 114.66799999999999,
            "count": 0
           },
           {
            "bin_start": 114.66799999999999,
            "bin_end": 114.768,
            "count": 0
           },
           {
            "bin_start": 114.768,
            "bin_end": 114.868,
            "count": 0
           }
          ]
         }
        },
        {
         "name": "Hop 9 ASN",
         "dtype": "object",
         "stats": {
          "unique_count": 1,
          "nan_count": 3,
          "categories": [
           {
            "name": "AS5378 Vodafone Limited",
            "count": 1
           },
           {
            "name": "Missing",
            "count": 3
           }
          ]
         }
        },
        {
         "name": "Hop 9 City",
         "dtype": "object",
         "stats": {
          "unique_count": 1,
          "nan_count": 3,
          "categories": [
           {
            "name": "London",
            "count": 1
           },
           {
            "name": "Missing",
            "count": 3
           }
          ]
         }
        },
        {
         "name": "Hop 9 Country",
         "dtype": "object",
         "stats": {
          "unique_count": 1,
          "nan_count": 3,
          "categories": [
           {
            "name": "United Kingdom",
            "count": 1
           },
           {
            "name": "Missing",
            "count": 3
           }
          ]
         }
        },
        {
         "name": "Hop 10 IP",
         "dtype": "object",
         "stats": {
          "unique_count": 0,
          "nan_count": 4,
          "categories": [
           {
            "name": "Missing",
            "count": 4
           }
          ]
         }
        },
        {
         "name": "Hop 10 Hostname",
         "dtype": "object",
         "stats": {
          "unique_count": 0,
          "nan_count": 4,
          "categories": [
           {
            "name": "Missing",
            "count": 4
           }
          ]
         }
        },
        {
         "name": "Hop 10 RTT",
         "dtype": "float64",
         "stats": {
          "unique_count": 0,
          "nan_count": 4,
          "min": null,
          "max": null,
          "histogram": [
           {
            "bin_start": 0,
            "bin_end": 0.1,
            "count": 0
           },
           {
            "bin_start": 0.1,
            "bin_end": 0.2,
            "count": 0
           },
           {
            "bin_start": 0.2,
            "bin_end": 0.30000000000000004,
            "count": 0
           },
           {
            "bin_start": 0.30000000000000004,
            "bin_end": 0.4,
            "count": 0
           },
           {
            "bin_start": 0.4,
            "bin_end": 0.5,
            "count": 0
           },
           {
            "bin_start": 0.5,
            "bin_end": 0.6000000000000001,
            "count": 0
           },
           {
            "bin_start": 0.6000000000000001,
            "bin_end": 0.7000000000000001,
            "count": 0
           },
           {
            "bin_start": 0.7000000000000001,
            "bin_end": 0.8,
            "count": 0
           },
           {
            "bin_start": 0.8,
            "bin_end": 0.9,
            "count": 0
           },
           {
            "bin_start": 0.9,
            "bin_end": 1,
            "count": 0
           }
          ]
         }
        },
        {
         "name": "Hop 10 ASN",
         "dtype": "object",
         "stats": {
          "unique_count": 0,
          "nan_count": 4,
          "categories": [
           {
            "name": "Missing",
            "count": 4
           }
          ]
         }
        },
        {
         "name": "Hop 10 City",
         "dtype": "object",
         "stats": {
          "unique_count": 0,
          "nan_count": 4,
          "categories": [
           {
            "name": "Missing",
            "count": 4
           }
          ]
         }
        },
        {
         "name": "Hop 10 Country",
         "dtype": "object",
         "stats": {
          "unique_count": 0,
          "nan_count": 4,
          "categories": [
           {
            "name": "Missing",
            "count": 4
           }
          ]
         }
        },
        {
         "name": "Hop 11 IP",
         "dtype": "object",
         "stats": {
          "unique_count": 0,
          "nan_count": 4,
          "categories": [
           {
            "name": "Missing",
            "count": 4
           }
          ]
         }
        },
        {
         "name": "Hop 11 Hostname",
         "dtype": "object",
         "stats": {
          "unique_count": 0,
          "nan_count": 4,
          "categories": [
           {
            "name": "Missing",
            "count": 4
           }
          ]
         }
        },
        {
         "name": "Hop 11 RTT",
         "dtype": "float64",
         "stats": {
          "unique_count": 0,
          "nan_count": 4,
          "min": null,
          "max": null,
          "histogram": [
           {
            "bin_start": 0,
            "bin_end": 0.1,
            "count": 0
           },
           {
            "bin_start": 0.1,
            "bin_end": 0.2,
            "count": 0
           },
           {
            "bin_start": 0.2,
            "bin_end": 0.30000000000000004,
            "count": 0
           },
           {
            "bin_start": 0.30000000000000004,
            "bin_end": 0.4,
            "count": 0
           },
           {
            "bin_start": 0.4,
            "bin_end": 0.5,
            "count": 0
           },
           {
            "bin_start": 0.5,
            "bin_end": 0.6000000000000001,
            "count": 0
           },
           {
            "bin_start": 0.6000000000000001,
            "bin_end": 0.7000000000000001,
            "count": 0
           },
           {
            "bin_start": 0.7000000000000001,
            "bin_end": 0.8,
            "count": 0
           },
           {
            "bin_start": 0.8,
            "bin_end": 0.9,
            "count": 0
           },
           {
            "bin_start": 0.9,
            "bin_end": 1,
            "count": 0
           }
          ]
         }
        },
        {
         "name": "Hop 11 ASN",
         "dtype": "object",
         "stats": {
          "unique_count": 0,
          "nan_count": 4,
          "categories": [
           {
            "name": "Missing",
            "count": 4
           }
          ]
         }
        },
        {
         "name": "Hop 11 City",
         "dtype": "object",
         "stats": {
          "unique_count": 0,
          "nan_count": 4,
          "categories": [
           {
            "name": "Missing",
            "count": 4
           }
          ]
         }
        },
        {
         "name": "Hop 11 Country",
         "dtype": "object",
         "stats": {
          "unique_count": 0,
          "nan_count": 4,
          "categories": [
           {
            "name": "Missing",
            "count": 4
           }
          ]
         }
        },
        {
         "name": "Hop 12 IP",
         "dtype": "object",
         "stats": {
          "unique_count": 0,
          "nan_count": 4,
          "categories": [
           {
            "name": "Missing",
            "count": 4
           }
          ]
         }
        },
        {
         "name": "Hop 12 Hostname",
         "dtype": "object",
         "stats": {
          "unique_count": 0,
          "nan_count": 4,
          "categories": [
           {
            "name": "Missing",
            "count": 4
           }
          ]
         }
        },
        {
         "name": "Hop 12 RTT",
         "dtype": "float64",
         "stats": {
          "unique_count": 0,
          "nan_count": 4,
          "min": null,
          "max": null,
          "histogram": [
           {
            "bin_start": 0,
            "bin_end": 0.1,
            "count": 0
           },
           {
            "bin_start": 0.1,
            "bin_end": 0.2,
            "count": 0
           },
           {
            "bin_start": 0.2,
            "bin_end": 0.30000000000000004,
            "count": 0
           },
           {
            "bin_start": 0.30000000000000004,
            "bin_end": 0.4,
            "count": 0
           },
           {
            "bin_start": 0.4,
            "bin_end": 0.5,
            "count": 0
           },
           {
            "bin_start": 0.5,
            "bin_end": 0.6000000000000001,
            "count": 0
           },
           {
            "bin_start": 0.6000000000000001,
            "bin_end": 0.7000000000000001,
            "count": 0
           },
           {
            "bin_start": 0.7000000000000001,
            "bin_end": 0.8,
            "count": 0
           },
           {
            "bin_start": 0.8,
            "bin_end": 0.9,
            "count": 0
           },
           {
            "bin_start": 0.9,
            "bin_end": 1,
            "count": 0
           }
          ]
         }
        },
        {
         "name": "Hop 12 ASN",
         "dtype": "object",
         "stats": {
          "unique_count": 0,
          "nan_count": 4,
          "categories": [
           {
            "name": "Missing",
            "count": 4
           }
          ]
         }
        },
        {
         "name": "Hop 12 City",
         "dtype": "object",
         "stats": {
          "unique_count": 0,
          "nan_count": 4,
          "categories": [
           {
            "name": "Missing",
            "count": 4
           }
          ]
         }
        },
        {
         "name": "Hop 12 Country",
         "dtype": "object",
         "stats": {
          "unique_count": 0,
          "nan_count": 4,
          "categories": [
           {
            "name": "Missing",
            "count": 4
           }
          ]
         }
        },
        {
         "name": "Hop 13 IP",
         "dtype": "object",
         "stats": {
          "unique_count": 0,
          "nan_count": 4,
          "categories": [
           {
            "name": "Missing",
            "count": 4
           }
          ]
         }
        },
        {
         "name": "Hop 13 Hostname",
         "dtype": "object",
         "stats": {
          "unique_count": 0,
          "nan_count": 4,
          "categories": [
           {
            "name": "Missing",
            "count": 4
           }
          ]
         }
        },
        {
         "name": "Hop 13 RTT",
         "dtype": "float64",
         "stats": {
          "unique_count": 0,
          "nan_count": 4,
          "min": null,
          "max": null,
          "histogram": [
           {
            "bin_start": 0,
            "bin_end": 0.1,
            "count": 0
           },
           {
            "bin_start": 0.1,
            "bin_end": 0.2,
            "count": 0
           },
           {
            "bin_start": 0.2,
            "bin_end": 0.30000000000000004,
            "count": 0
           },
           {
            "bin_start": 0.30000000000000004,
            "bin_end": 0.4,
            "count": 0
           },
           {
            "bin_start": 0.4,
            "bin_end": 0.5,
            "count": 0
           },
           {
            "bin_start": 0.5,
            "bin_end": 0.6000000000000001,
            "count": 0
           },
           {
            "bin_start": 0.6000000000000001,
            "bin_end": 0.7000000000000001,
            "count": 0
           },
           {
            "bin_start": 0.7000000000000001,
            "bin_end": 0.8,
            "count": 0
           },
           {
            "bin_start": 0.8,
            "bin_end": 0.9,
            "count": 0
           },
           {
            "bin_start": 0.9,
            "bin_end": 1,
            "count": 0
           }
          ]
         }
        },
        {
         "name": "Hop 13 ASN",
         "dtype": "object",
         "stats": {
          "unique_count": 0,
          "nan_count": 4,
          "categories": [
           {
            "name": "Missing",
            "count": 4
           }
          ]
         }
        },
        {
         "name": "Hop 13 City",
         "dtype": "object",
         "stats": {
          "unique_count": 0,
          "nan_count": 4,
          "categories": [
           {
            "name": "Missing",
            "count": 4
           }
          ]
         }
        },
        {
         "name": "Hop 13 Country",
         "dtype": "object",
         "stats": {
          "unique_count": 0,
          "nan_count": 4,
          "categories": [
           {
            "name": "Missing",
            "count": 4
           }
          ]
         }
        },
        {
         "name": "Hop 14 IP",
         "dtype": "object",
         "stats": {
          "unique_count": 0,
          "nan_count": 4,
          "categories": [
           {
            "name": "Missing",
            "count": 4
           }
          ]
         }
        },
        {
         "name": "Hop 14 Hostname",
         "dtype": "object",
         "stats": {
          "unique_count": 0,
          "nan_count": 4,
          "categories": [
           {
            "name": "Missing",
            "count": 4
           }
          ]
         }
        },
        {
         "name": "Hop 14 RTT",
         "dtype": "float64",
         "stats": {
          "unique_count": 0,
          "nan_count": 4,
          "min": null,
          "max": null,
          "histogram": [
           {
            "bin_start": 0,
            "bin_end": 0.1,
            "count": 0
           },
           {
            "bin_start": 0.1,
            "bin_end": 0.2,
            "count": 0
           },
           {
            "bin_start": 0.2,
            "bin_end": 0.30000000000000004,
            "count": 0
           },
           {
            "bin_start": 0.30000000000000004,
            "bin_end": 0.4,
            "count": 0
           },
           {
            "bin_start": 0.4,
            "bin_end": 0.5,
            "count": 0
           },
           {
            "bin_start": 0.5,
            "bin_end": 0.6000000000000001,
            "count": 0
           },
           {
            "bin_start": 0.6000000000000001,
            "bin_end": 0.7000000000000001,
            "count": 0
           },
           {
            "bin_start": 0.7000000000000001,
            "bin_end": 0.8,
            "count": 0
           },
           {
            "bin_start": 0.8,
            "bin_end": 0.9,
            "count": 0
           },
           {
            "bin_start": 0.9,
            "bin_end": 1,
            "count": 0
           }
          ]
         }
        },
        {
         "name": "Hop 14 ASN",
         "dtype": "object",
         "stats": {
          "unique_count": 0,
          "nan_count": 4,
          "categories": [
           {
            "name": "Missing",
            "count": 4
           }
          ]
         }
        },
        {
         "name": "Hop 14 City",
         "dtype": "object",
         "stats": {
          "unique_count": 0,
          "nan_count": 4,
          "categories": [
           {
            "name": "Missing",
            "count": 4
           }
          ]
         }
        },
        {
         "name": "Hop 14 Country",
         "dtype": "object",
         "stats": {
          "unique_count": 0,
          "nan_count": 4,
          "categories": [
           {
            "name": "Missing",
            "count": 4
           }
          ]
         }
        },
        {
         "name": "Hop 15 IP",
         "dtype": "object",
         "stats": {
          "unique_count": 0,
          "nan_count": 4,
          "categories": [
           {
            "name": "Missing",
            "count": 4
           }
          ]
         }
        },
        {
         "name": "Hop 15 Hostname",
         "dtype": "object",
         "stats": {
          "unique_count": 0,
          "nan_count": 4,
          "categories": [
           {
            "name": "Missing",
            "count": 4
           }
          ]
         }
        },
        {
         "name": "Hop 15 RTT",
         "dtype": "float64",
         "stats": {
          "unique_count": 0,
          "nan_count": 4,
          "min": null,
          "max": null,
          "histogram": [
           {
            "bin_start": 0,
            "bin_end": 0.1,
            "count": 0
           },
           {
            "bin_start": 0.1,
            "bin_end": 0.2,
            "count": 0
           },
           {
            "bin_start": 0.2,
            "bin_end": 0.30000000000000004,
            "count": 0
           },
           {
            "bin_start": 0.30000000000000004,
            "bin_end": 0.4,
            "count": 0
           },
           {
            "bin_start": 0.4,
            "bin_end": 0.5,
            "count": 0
           },
           {
            "bin_start": 0.5,
            "bin_end": 0.6000000000000001,
            "count": 0
           },
           {
            "bin_start": 0.6000000000000001,
            "bin_end": 0.7000000000000001,
            "count": 0
           },
           {
            "bin_start": 0.7000000000000001,
            "bin_end": 0.8,
            "count": 0
           },
           {
            "bin_start": 0.8,
            "bin_end": 0.9,
            "count": 0
           },
           {
            "bin_start": 0.9,
            "bin_end": 1,
            "count": 0
           }
          ]
         }
        },
        {
         "name": "Hop 15 ASN",
         "dtype": "object",
         "stats": {
          "unique_count": 0,
          "nan_count": 4,
          "categories": [
           {
            "name": "Missing",
            "count": 4
           }
          ]
         }
        },
        {
         "name": "Hop 15 City",
         "dtype": "object",
         "stats": {
          "unique_count": 0,
          "nan_count": 4,
          "categories": [
           {
            "name": "Missing",
            "count": 4
           }
          ]
         }
        },
        {
         "name": "Hop 15 Country",
         "dtype": "object",
         "stats": {
          "unique_count": 0,
          "nan_count": 4,
          "categories": [
           {
            "name": "Missing",
            "count": 4
           }
          ]
         }
        },
        {
         "name": "Hop 16 IP",
         "dtype": "object",
         "stats": {
          "unique_count": 0,
          "nan_count": 4,
          "categories": [
           {
            "name": "Missing",
            "count": 4
           }
          ]
         }
        },
        {
         "name": "Hop 16 Hostname",
         "dtype": "object",
         "stats": {
          "unique_count": 0,
          "nan_count": 4,
          "categories": [
           {
            "name": "Missing",
            "count": 4
           }
          ]
         }
        },
        {
         "name": "Hop 16 RTT",
         "dtype": "float64",
         "stats": {
          "unique_count": 0,
          "nan_count": 4,
          "min": null,
          "max": null,
          "histogram": [
           {
            "bin_start": 0,
            "bin_end": 0.1,
            "count": 0
           },
           {
            "bin_start": 0.1,
            "bin_end": 0.2,
            "count": 0
           },
           {
            "bin_start": 0.2,
            "bin_end": 0.30000000000000004,
            "count": 0
           },
           {
            "bin_start": 0.30000000000000004,
            "bin_end": 0.4,
            "count": 0
           },
           {
            "bin_start": 0.4,
            "bin_end": 0.5,
            "count": 0
           },
           {
            "bin_start": 0.5,
            "bin_end": 0.6000000000000001,
            "count": 0
           },
           {
            "bin_start": 0.6000000000000001,
            "bin_end": 0.7000000000000001,
            "count": 0
           },
           {
            "bin_start": 0.7000000000000001,
            "bin_end": 0.8,
            "count": 0
           },
           {
            "bin_start": 0.8,
            "bin_end": 0.9,
            "count": 0
           },
           {
            "bin_start": 0.9,
            "bin_end": 1,
            "count": 0
           }
          ]
         }
        },
        {
         "name": "Hop 16 ASN",
         "dtype": "object",
         "stats": {
          "unique_count": 0,
          "nan_count": 4,
          "categories": [
           {
            "name": "Missing",
            "count": 4
           }
          ]
         }
        },
        {
         "name": "Hop 16 City",
         "dtype": "object",
         "stats": {
          "unique_count": 0,
          "nan_count": 4,
          "categories": [
           {
            "name": "Missing",
            "count": 4
           }
          ]
         }
        },
        {
         "name": "Hop 16 Country",
         "dtype": "object",
         "stats": {
          "unique_count": 0,
          "nan_count": 4,
          "categories": [
           {
            "name": "Missing",
            "count": 4
           }
          ]
         }
        },
        {
         "name": "Hop 17 IP",
         "dtype": "object",
         "stats": {
          "unique_count": 0,
          "nan_count": 4,
          "categories": [
           {
            "name": "Missing",
            "count": 4
           }
          ]
         }
        },
        {
         "name": "Hop 17 Hostname",
         "dtype": "object",
         "stats": {
          "unique_count": 0,
          "nan_count": 4,
          "categories": [
           {
            "name": "Missing",
            "count": 4
           }
          ]
         }
        },
        {
         "name": "Hop 17 RTT",
         "dtype": "float64",
         "stats": {
          "unique_count": 0,
          "nan_count": 4,
          "min": null,
          "max": null,
          "histogram": [
           {
            "bin_start": 0,
            "bin_end": 0.1,
            "count": 0
           },
           {
            "bin_start": 0.1,
            "bin_end": 0.2,
            "count": 0
           },
           {
            "bin_start": 0.2,
            "bin_end": 0.30000000000000004,
            "count": 0
           },
           {
            "bin_start": 0.30000000000000004,
            "bin_end": 0.4,
            "count": 0
           },
           {
            "bin_start": 0.4,
            "bin_end": 0.5,
            "count": 0
           },
           {
            "bin_start": 0.5,
            "bin_end": 0.6000000000000001,
            "count": 0
           },
           {
            "bin_start": 0.6000000000000001,
            "bin_end": 0.7000000000000001,
            "count": 0
           },
           {
            "bin_start": 0.7000000000000001,
            "bin_end": 0.8,
            "count": 0
           },
           {
            "bin_start": 0.8,
            "bin_end": 0.9,
            "count": 0
           },
           {
            "bin_start": 0.9,
            "bin_end": 1,
            "count": 0
           }
          ]
         }
        },
        {
         "name": "Hop 17 ASN",
         "dtype": "object",
         "stats": {
          "unique_count": 0,
          "nan_count": 4,
          "categories": [
           {
            "name": "Missing",
            "count": 4
           }
          ]
         }
        },
        {
         "name": "Hop 17 City",
         "dtype": "object",
         "stats": {
          "unique_count": 0,
          "nan_count": 4,
          "categories": [
           {
            "name": "Missing",
            "count": 4
           }
          ]
         }
        },
        {
         "name": "Hop 17 Country",
         "dtype": "object",
         "stats": {
          "unique_count": 0,
          "nan_count": 4,
          "categories": [
           {
            "name": "Missing",
            "count": 4
           }
          ]
         }
        },
        {
         "name": "Hop 18 IP",
         "dtype": "object",
         "stats": {
          "unique_count": 0,
          "nan_count": 4,
          "categories": [
           {
            "name": "Missing",
            "count": 4
           }
          ]
         }
        },
        {
         "name": "Hop 18 Hostname",
         "dtype": "object",
         "stats": {
          "unique_count": 0,
          "nan_count": 4,
          "categories": [
           {
            "name": "Missing",
            "count": 4
           }
          ]
         }
        },
        {
         "name": "Hop 18 RTT",
         "dtype": "float64",
         "stats": {
          "unique_count": 0,
          "nan_count": 4,
          "min": null,
          "max": null,
          "histogram": [
           {
            "bin_start": 0,
            "bin_end": 0.1,
            "count": 0
           },
           {
            "bin_start": 0.1,
            "bin_end": 0.2,
            "count": 0
           },
           {
            "bin_start": 0.2,
            "bin_end": 0.30000000000000004,
            "count": 0
           },
           {
            "bin_start": 0.30000000000000004,
            "bin_end": 0.4,
            "count": 0
           },
           {
            "bin_start": 0.4,
            "bin_end": 0.5,
            "count": 0
           },
           {
            "bin_start": 0.5,
            "bin_end": 0.6000000000000001,
            "count": 0
           },
           {
            "bin_start": 0.6000000000000001,
            "bin_end": 0.7000000000000001,
            "count": 0
           },
           {
            "bin_start": 0.7000000000000001,
            "bin_end": 0.8,
            "count": 0
           },
           {
            "bin_start": 0.8,
            "bin_end": 0.9,
            "count": 0
           },
           {
            "bin_start": 0.9,
            "bin_end": 1,
            "count": 0
           }
          ]
         }
        },
        {
         "name": "Hop 18 ASN",
         "dtype": "object",
         "stats": {
          "unique_count": 0,
          "nan_count": 4,
          "categories": [
           {
            "name": "Missing",
            "count": 4
           }
          ]
         }
        },
        {
         "name": "Hop 18 City",
         "dtype": "object",
         "stats": {
          "unique_count": 0,
          "nan_count": 4,
          "categories": [
           {
            "name": "Missing",
            "count": 4
           }
          ]
         }
        },
        {
         "name": "Hop 18 Country",
         "dtype": "object",
         "stats": {
          "unique_count": 0,
          "nan_count": 4,
          "categories": [
           {
            "name": "Missing",
            "count": 4
           }
          ]
         }
        },
        {
         "name": "Hop 19 IP",
         "dtype": "float64",
         "stats": {
          "unique_count": 0,
          "nan_count": 4,
          "min": null,
          "max": null,
          "histogram": [
           {
            "bin_start": 0,
            "bin_end": 0.1,
            "count": 0
           },
           {
            "bin_start": 0.1,
            "bin_end": 0.2,
            "count": 0
           },
           {
            "bin_start": 0.2,
            "bin_end": 0.30000000000000004,
            "count": 0
           },
           {
            "bin_start": 0.30000000000000004,
            "bin_end": 0.4,
            "count": 0
           },
           {
            "bin_start": 0.4,
            "bin_end": 0.5,
            "count": 0
           },
           {
            "bin_start": 0.5,
            "bin_end": 0.6000000000000001,
            "count": 0
           },
           {
            "bin_start": 0.6000000000000001,
            "bin_end": 0.7000000000000001,
            "count": 0
           },
           {
            "bin_start": 0.7000000000000001,
            "bin_end": 0.8,
            "count": 0
           },
           {
            "bin_start": 0.8,
            "bin_end": 0.9,
            "count": 0
           },
           {
            "bin_start": 0.9,
            "bin_end": 1,
            "count": 0
           }
          ]
         }
        },
        {
         "name": "Hop 19 Hostname",
         "dtype": "float64",
         "stats": {
          "unique_count": 0,
          "nan_count": 4,
          "min": null,
          "max": null,
          "histogram": [
           {
            "bin_start": 0,
            "bin_end": 0.1,
            "count": 0
           },
           {
            "bin_start": 0.1,
            "bin_end": 0.2,
            "count": 0
           },
           {
            "bin_start": 0.2,
            "bin_end": 0.30000000000000004,
            "count": 0
           },
           {
            "bin_start": 0.30000000000000004,
            "bin_end": 0.4,
            "count": 0
           },
           {
            "bin_start": 0.4,
            "bin_end": 0.5,
            "count": 0
           },
           {
            "bin_start": 0.5,
            "bin_end": 0.6000000000000001,
            "count": 0
           },
           {
            "bin_start": 0.6000000000000001,
            "bin_end": 0.7000000000000001,
            "count": 0
           },
           {
            "bin_start": 0.7000000000000001,
            "bin_end": 0.8,
            "count": 0
           },
           {
            "bin_start": 0.8,
            "bin_end": 0.9,
            "count": 0
           },
           {
            "bin_start": 0.9,
            "bin_end": 1,
            "count": 0
           }
          ]
         }
        },
        {
         "name": "Hop 19 RTT",
         "dtype": "float64",
         "stats": {
          "unique_count": 0,
          "nan_count": 4,
          "min": null,
          "max": null,
          "histogram": [
           {
            "bin_start": 0,
            "bin_end": 0.1,
            "count": 0
           },
           {
            "bin_start": 0.1,
            "bin_end": 0.2,
            "count": 0
           },
           {
            "bin_start": 0.2,
            "bin_end": 0.30000000000000004,
            "count": 0
           },
           {
            "bin_start": 0.30000000000000004,
            "bin_end": 0.4,
            "count": 0
           },
           {
            "bin_start": 0.4,
            "bin_end": 0.5,
            "count": 0
           },
           {
            "bin_start": 0.5,
            "bin_end": 0.6000000000000001,
            "count": 0
           },
           {
            "bin_start": 0.6000000000000001,
            "bin_end": 0.7000000000000001,
            "count": 0
           },
           {
            "bin_start": 0.7000000000000001,
            "bin_end": 0.8,
            "count": 0
           },
           {
            "bin_start": 0.8,
            "bin_end": 0.9,
            "count": 0
           },
           {
            "bin_start": 0.9,
            "bin_end": 1,
            "count": 0
           }
          ]
         }
        },
        {
         "name": "Hop 19 ASN",
         "dtype": "float64",
         "stats": {
          "unique_count": 0,
          "nan_count": 4,
          "min": null,
          "max": null,
          "histogram": [
           {
            "bin_start": 0,
            "bin_end": 0.1,
            "count": 0
           },
           {
            "bin_start": 0.1,
            "bin_end": 0.2,
            "count": 0
           },
           {
            "bin_start": 0.2,
            "bin_end": 0.30000000000000004,
            "count": 0
           },
           {
            "bin_start": 0.30000000000000004,
            "bin_end": 0.4,
            "count": 0
           },
           {
            "bin_start": 0.4,
            "bin_end": 0.5,
            "count": 0
           },
           {
            "bin_start": 0.5,
            "bin_end": 0.6000000000000001,
            "count": 0
           },
           {
            "bin_start": 0.6000000000000001,
            "bin_end": 0.7000000000000001,
            "count": 0
           },
           {
            "bin_start": 0.7000000000000001,
            "bin_end": 0.8,
            "count": 0
           },
           {
            "bin_start": 0.8,
            "bin_end": 0.9,
            "count": 0
           },
           {
            "bin_start": 0.9,
            "bin_end": 1,
            "count": 0
           }
          ]
         }
        },
        {
         "name": "Hop 19 City",
         "dtype": "float64",
         "stats": {
          "unique_count": 0,
          "nan_count": 4,
          "min": null,
          "max": null,
          "histogram": [
           {
            "bin_start": 0,
            "bin_end": 0.1,
            "count": 0
           },
           {
            "bin_start": 0.1,
            "bin_end": 0.2,
            "count": 0
           },
           {
            "bin_start": 0.2,
            "bin_end": 0.30000000000000004,
            "count": 0
           },
           {
            "bin_start": 0.30000000000000004,
            "bin_end": 0.4,
            "count": 0
           },
           {
            "bin_start": 0.4,
            "bin_end": 0.5,
            "count": 0
           },
           {
            "bin_start": 0.5,
            "bin_end": 0.6000000000000001,
            "count": 0
           },
           {
            "bin_start": 0.6000000000000001,
            "bin_end": 0.7000000000000001,
            "count": 0
           },
           {
            "bin_start": 0.7000000000000001,
            "bin_end": 0.8,
            "count": 0
           },
           {
            "bin_start": 0.8,
            "bin_end": 0.9,
            "count": 0
           },
           {
            "bin_start": 0.9,
            "bin_end": 1,
            "count": 0
           }
          ]
         }
        },
        {
         "name": "Hop 19 Country",
         "dtype": "float64",
         "stats": {
          "unique_count": 0,
          "nan_count": 4,
          "min": null,
          "max": null,
          "histogram": [
           {
            "bin_start": 0,
            "bin_end": 0.1,
            "count": 0
           },
           {
            "bin_start": 0.1,
            "bin_end": 0.2,
            "count": 0
           },
           {
            "bin_start": 0.2,
            "bin_end": 0.30000000000000004,
            "count": 0
           },
           {
            "bin_start": 0.30000000000000004,
            "bin_end": 0.4,
            "count": 0
           },
           {
            "bin_start": 0.4,
            "bin_end": 0.5,
            "count": 0
           },
           {
            "bin_start": 0.5,
            "bin_end": 0.6000000000000001,
            "count": 0
           },
           {
            "bin_start": 0.6000000000000001,
            "bin_end": 0.7000000000000001,
            "count": 0
           },
           {
            "bin_start": 0.7000000000000001,
            "bin_end": 0.8,
            "count": 0
           },
           {
            "bin_start": 0.8,
            "bin_end": 0.9,
            "count": 0
           },
           {
            "bin_start": 0.9,
            "bin_end": 1,
            "count": 0
           }
          ]
         }
        },
        {
         "name": "_deepnote_index_column",
         "dtype": "int64"
        }
       ],
       "rows_top": [
        {
         "Participant City": "gland",
         "Participant Country": "switzerland",
         "Connection": "4g",
         "IPv": 4,
         "Destination": "www.instagram.com",
         "Destination IP": "90.255.253.97",
         "Destination Hostname": "Unknown",
         "Destination ASN": "AS5378 Vodafone Limited",
         "Destination City": "Slough",
         "Destination Country": "United Kingdom",
         "Trace Hop Count": "9.0",
         "Hop 1 IP": "172.20.10.1",
         "Hop 1 Hostname": "Unknown",
         "Hop 1 RTT": "2.861",
         "Hop 1 ASN": "nan",
         "Hop 1 City": "nan",
         "Hop 1 Country": "nan",
         "Hop 2 IP": "nan",
         "Hop 2 Hostname": "nan",
         "Hop 2 RTT": "nan",
         "Hop 2 ASN": "nan",
         "Hop 2 City": "nan",
         "Hop 2 Country": "nan",
         "Hop 3 IP": "192.168.172.44",
         "Hop 3 Hostname": "Unknown",
         "Hop 3 RTT": "103.786",
         "Hop 3 ASN": "nan",
         "Hop 3 City": "nan",
         "Hop 3 Country": "nan",
         "Hop 4 IP": "192.168.172.60",
         "Hop 4 Hostname": "Unknown",
         "Hop 4 RTT": "80.191",
         "Hop 4 ASN": "nan",
         "Hop 4 City": "nan",
         "Hop 4 Country": "nan",
         "Hop 5 IP": "192.168.172.94",
         "Hop 5 Hostname": "Unknown",
         "Hop 5 RTT": "80.202",
         "Hop 5 ASN": "nan",
         "Hop 5 City": "nan",
         "Hop 5 Country": "nan",
         "Hop 6 IP": "nan",
         "Hop 6 Hostname": "nan",
         "Hop 6 RTT": "nan",
         "Hop 6 ASN": "nan",
         "Hop 6 City": "nan",
         "Hop 6 Country": "nan",
         "Hop 7 IP": "172.20.85.105",
         "Hop 7 Hostname": "Unknown",
         "Hop 7 RTT": "113.887",
         "Hop 7 ASN": "nan",
         "Hop 7 City": "nan",
         "Hop 7 Country": "nan",
         "Hop 8 IP": "63.130.104.202",
         "Hop 8 Hostname": "Unknown",
         "Hop 8 RTT": "110.445",
         "Hop 8 ASN": "AS1273 Vodafone Group PLC",
         "Hop 8 City": "London",
         "Hop 8 Country": "United Kingdom",
         "Hop 9 IP": "90.255.254.82",
         "Hop 9 Hostname": "Unknown",
         "Hop 9 RTT": "114.368",
         "Hop 9 ASN": "AS5378 Vodafone Limited",
         "Hop 9 City": "London",
         "Hop 9 Country": "United Kingdom",
         "Hop 10 IP": "nan",
         "Hop 10 Hostname": "nan",
         "Hop 10 RTT": "nan",
         "Hop 10 ASN": "nan",
         "Hop 10 City": "nan",
         "Hop 10 Country": "nan",
         "Hop 11 IP": "nan",
         "Hop 11 Hostname": "nan",
         "Hop 11 RTT": "nan",
         "Hop 11 ASN": "nan",
         "Hop 11 City": "nan",
         "Hop 11 Country": "nan",
         "Hop 12 IP": "nan",
         "Hop 12 Hostname": "nan",
         "Hop 12 RTT": "nan",
         "Hop 12 ASN": "nan",
         "Hop 12 City": "nan",
         "Hop 12 Country": "nan",
         "Hop 13 IP": "nan",
         "Hop 13 Hostname": "nan",
         "Hop 13 RTT": "nan",
         "Hop 13 ASN": "nan",
         "Hop 13 City": "nan",
         "Hop 13 Country": "nan",
         "Hop 14 IP": "nan",
         "Hop 14 Hostname": "nan",
         "Hop 14 RTT": "nan",
         "Hop 14 ASN": "nan",
         "Hop 14 City": "nan",
         "Hop 14 Country": "nan",
         "Hop 15 IP": "nan",
         "Hop 15 Hostname": "nan",
         "Hop 15 RTT": "nan",
         "Hop 15 ASN": "nan",
         "Hop 15 City": "nan",
         "Hop 15 Country": "nan",
         "Hop 16 IP": "nan",
         "Hop 16 Hostname": "nan",
         "Hop 16 RTT": "nan",
         "Hop 16 ASN": "nan",
         "Hop 16 City": "nan",
         "Hop 16 Country": "nan",
         "Hop 17 IP": "nan",
         "Hop 17 Hostname": "nan",
         "Hop 17 RTT": "nan",
         "Hop 17 ASN": "nan",
         "Hop 17 City": "nan",
         "Hop 17 Country": "nan",
         "Hop 18 IP": "nan",
         "Hop 18 Hostname": "nan",
         "Hop 18 RTT": "nan",
         "Hop 18 ASN": "nan",
         "Hop 18 City": "nan",
         "Hop 18 Country": "nan",
         "Hop 19 IP": "nan",
         "Hop 19 Hostname": "nan",
         "Hop 19 RTT": "nan",
         "Hop 19 ASN": "nan",
         "Hop 19 City": "nan",
         "Hop 19 Country": "nan",
         "_deepnote_index_column": 11
        },
        {
         "Participant City": "gland",
         "Participant Country": "switzerland",
         "Connection": "wifi",
         "IPv": 6,
         "Destination": "www.instagram.com",
         "Destination IP": "2001:918:ff44:100:face:b00c:3333:a3f",
         "Destination Hostname": "Unknown",
         "Destination ASN": "AS3303 Swisscom (Schweiz) AG",
         "Destination City": "Bolligen",
         "Destination Country": "Switzerland",
         "Trace Hop Count": "nan",
         "Hop 1 IP": "nan",
         "Hop 1 Hostname": "nan",
         "Hop 1 RTT": "nan",
         "Hop 1 ASN": "nan",
         "Hop 1 City": "nan",
         "Hop 1 Country": "nan",
         "Hop 2 IP": "nan",
         "Hop 2 Hostname": "nan",
         "Hop 2 RTT": "nan",
         "Hop 2 ASN": "nan",
         "Hop 2 City": "nan",
         "Hop 2 Country": "nan",
         "Hop 3 IP": "nan",
         "Hop 3 Hostname": "nan",
         "Hop 3 RTT": "nan",
         "Hop 3 ASN": "nan",
         "Hop 3 City": "nan",
         "Hop 3 Country": "nan",
         "Hop 4 IP": "nan",
         "Hop 4 Hostname": "nan",
         "Hop 4 RTT": "nan",
         "Hop 4 ASN": "nan",
         "Hop 4 City": "nan",
         "Hop 4 Country": "nan",
         "Hop 5 IP": "nan",
         "Hop 5 Hostname": "nan",
         "Hop 5 RTT": "nan",
         "Hop 5 ASN": "nan",
         "Hop 5 City": "nan",
         "Hop 5 Country": "nan",
         "Hop 6 IP": "nan",
         "Hop 6 Hostname": "nan",
         "Hop 6 RTT": "nan",
         "Hop 6 ASN": "nan",
         "Hop 6 City": "nan",
         "Hop 6 Country": "nan",
         "Hop 7 IP": "nan",
         "Hop 7 Hostname": "nan",
         "Hop 7 RTT": "nan",
         "Hop 7 ASN": "nan",
         "Hop 7 City": "nan",
         "Hop 7 Country": "nan",
         "Hop 8 IP": "nan",
         "Hop 8 Hostname": "nan",
         "Hop 8 RTT": "nan",
         "Hop 8 ASN": "nan",
         "Hop 8 City": "nan",
         "Hop 8 Country": "nan",
         "Hop 9 IP": "nan",
         "Hop 9 Hostname": "nan",
         "Hop 9 RTT": "nan",
         "Hop 9 ASN": "nan",
         "Hop 9 City": "nan",
         "Hop 9 Country": "nan",
         "Hop 10 IP": "nan",
         "Hop 10 Hostname": "nan",
         "Hop 10 RTT": "nan",
         "Hop 10 ASN": "nan",
         "Hop 10 City": "nan",
         "Hop 10 Country": "nan",
         "Hop 11 IP": "nan",
         "Hop 11 Hostname": "nan",
         "Hop 11 RTT": "nan",
         "Hop 11 ASN": "nan",
         "Hop 11 City": "nan",
         "Hop 11 Country": "nan",
         "Hop 12 IP": "nan",
         "Hop 12 Hostname": "nan",
         "Hop 12 RTT": "nan",
         "Hop 12 ASN": "nan",
         "Hop 12 City": "nan",
         "Hop 12 Country": "nan",
         "Hop 13 IP": "nan",
         "Hop 13 Hostname": "nan",
         "Hop 13 RTT": "nan",
         "Hop 13 ASN": "nan",
         "Hop 13 City": "nan",
         "Hop 13 Country": "nan",
         "Hop 14 IP": "nan",
         "Hop 14 Hostname": "nan",
         "Hop 14 RTT": "nan",
         "Hop 14 ASN": "nan",
         "Hop 14 City": "nan",
         "Hop 14 Country": "nan",
         "Hop 15 IP": "nan",
         "Hop 15 Hostname": "nan",
         "Hop 15 RTT": "nan",
         "Hop 15 ASN": "nan",
         "Hop 15 City": "nan",
         "Hop 15 Country": "nan",
         "Hop 16 IP": "nan",
         "Hop 16 Hostname": "nan",
         "Hop 16 RTT": "nan",
         "Hop 16 ASN": "nan",
         "Hop 16 City": "nan",
         "Hop 16 Country": "nan",
         "Hop 17 IP": "nan",
         "Hop 17 Hostname": "nan",
         "Hop 17 RTT": "nan",
         "Hop 17 ASN": "nan",
         "Hop 17 City": "nan",
         "Hop 17 Country": "nan",
         "Hop 18 IP": "nan",
         "Hop 18 Hostname": "nan",
         "Hop 18 RTT": "nan",
         "Hop 18 ASN": "nan",
         "Hop 18 City": "nan",
         "Hop 18 Country": "nan",
         "Hop 19 IP": "nan",
         "Hop 19 Hostname": "nan",
         "Hop 19 RTT": "nan",
         "Hop 19 ASN": "nan",
         "Hop 19 City": "nan",
         "Hop 19 Country": "nan",
         "_deepnote_index_column": 12
        },
        {
         "Participant City": "gland",
         "Participant Country": "switzerland",
         "Connection": "4g",
         "IPv": 4,
         "Destination": "www.youtube.com",
         "Destination IP": "90.255.254.176",
         "Destination Hostname": "Unknown",
         "Destination ASN": "AS5378 Vodafone Limited",
         "Destination City": "London",
         "Destination Country": "United Kingdom",
         "Trace Hop Count": "8.0",
         "Hop 1 IP": "172.20.10.1",
         "Hop 1 Hostname": "Unknown",
         "Hop 1 RTT": "52.573",
         "Hop 1 ASN": "nan",
         "Hop 1 City": "nan",
         "Hop 1 Country": "nan",
         "Hop 2 IP": "nan",
         "Hop 2 Hostname": "nan",
         "Hop 2 RTT": "nan",
         "Hop 2 ASN": "nan",
         "Hop 2 City": "nan",
         "Hop 2 Country": "nan",
         "Hop 3 IP": "192.168.172.44",
         "Hop 3 Hostname": "Unknown",
         "Hop 3 RTT": "177.838",
         "Hop 3 ASN": "nan",
         "Hop 3 City": "nan",
         "Hop 3 Country": "nan",
         "Hop 4 IP": "192.168.172.60",
         "Hop 4 Hostname": "Unknown",
         "Hop 4 RTT": "94.314",
         "Hop 4 ASN": "nan",
         "Hop 4 City": "nan",
         "Hop 4 Country": "nan",
         "Hop 5 IP": "192.168.172.94",
         "Hop 5 Hostname": "Unknown",
         "Hop 5 RTT": "93.81",
         "Hop 5 ASN": "nan",
         "Hop 5 City": "nan",
         "Hop 5 Country": "nan",
         "Hop 6 IP": "nan",
         "Hop 6 Hostname": "nan",
         "Hop 6 RTT": "nan",
         "Hop 6 ASN": "nan",
         "Hop 6 City": "nan",
         "Hop 6 Country": "nan",
         "Hop 7 IP": "172.20.85.105",
         "Hop 7 Hostname": "Unknown",
         "Hop 7 RTT": "83.07",
         "Hop 7 ASN": "nan",
         "Hop 7 City": "nan",
         "Hop 7 Country": "nan",
         "Hop 8 IP": "63.130.104.202",
         "Hop 8 Hostname": "Unknown",
         "Hop 8 RTT": "104.944",
         "Hop 8 ASN": "AS1273 Vodafone Group PLC",
         "Hop 8 City": "London",
         "Hop 8 Country": "United Kingdom",
         "Hop 9 IP": "nan",
         "Hop 9 Hostname": "nan",
         "Hop 9 RTT": "nan",
         "Hop 9 ASN": "nan",
         "Hop 9 City": "nan",
         "Hop 9 Country": "nan",
         "Hop 10 IP": "nan",
         "Hop 10 Hostname": "nan",
         "Hop 10 RTT": "nan",
         "Hop 10 ASN": "nan",
         "Hop 10 City": "nan",
         "Hop 10 Country": "nan",
         "Hop 11 IP": "nan",
         "Hop 11 Hostname": "nan",
         "Hop 11 RTT": "nan",
         "Hop 11 ASN": "nan",
         "Hop 11 City": "nan",
         "Hop 11 Country": "nan",
         "Hop 12 IP": "nan",
         "Hop 12 Hostname": "nan",
         "Hop 12 RTT": "nan",
         "Hop 12 ASN": "nan",
         "Hop 12 City": "nan",
         "Hop 12 Country": "nan",
         "Hop 13 IP": "nan",
         "Hop 13 Hostname": "nan",
         "Hop 13 RTT": "nan",
         "Hop 13 ASN": "nan",
         "Hop 13 City": "nan",
         "Hop 13 Country": "nan",
         "Hop 14 IP": "nan",
         "Hop 14 Hostname": "nan",
         "Hop 14 RTT": "nan",
         "Hop 14 ASN": "nan",
         "Hop 14 City": "nan",
         "Hop 14 Country": "nan",
         "Hop 15 IP": "nan",
         "Hop 15 Hostname": "nan",
         "Hop 15 RTT": "nan",
         "Hop 15 ASN": "nan",
         "Hop 15 City": "nan",
         "Hop 15 Country": "nan",
         "Hop 16 IP": "nan",
         "Hop 16 Hostname": "nan",
         "Hop 16 RTT": "nan",
         "Hop 16 ASN": "nan",
         "Hop 16 City": "nan",
         "Hop 16 Country": "nan",
         "Hop 17 IP": "nan",
         "Hop 17 Hostname": "nan",
         "Hop 17 RTT": "nan",
         "Hop 17 ASN": "nan",
         "Hop 17 City": "nan",
         "Hop 17 Country": "nan",
         "Hop 18 IP": "nan",
         "Hop 18 Hostname": "nan",
         "Hop 18 RTT": "nan",
         "Hop 18 ASN": "nan",
         "Hop 18 City": "nan",
         "Hop 18 Country": "nan",
         "Hop 19 IP": "nan",
         "Hop 19 Hostname": "nan",
         "Hop 19 RTT": "nan",
         "Hop 19 ASN": "nan",
         "Hop 19 City": "nan",
         "Hop 19 Country": "nan",
         "_deepnote_index_column": 49
        },
        {
         "Participant City": "gland",
         "Participant Country": "switzerland",
         "Connection": "wifi",
         "IPv": 6,
         "Destination": "www.youtube.com",
         "Destination IP": "2001:918:ffaa:2::10",
         "Destination Hostname": "Unknown",
         "Destination ASN": "AS3303 Swisscom (Schweiz) AG",
         "Destination City": "Bolligen",
         "Destination Country": "Switzerland",
         "Trace Hop Count": "nan",
         "Hop 1 IP": "nan",
         "Hop 1 Hostname": "nan",
         "Hop 1 RTT": "nan",
         "Hop 1 ASN": "nan",
         "Hop 1 City": "nan",
         "Hop 1 Country": "nan",
         "Hop 2 IP": "nan",
         "Hop 2 Hostname": "nan",
         "Hop 2 RTT": "nan",
         "Hop 2 ASN": "nan",
         "Hop 2 City": "nan",
         "Hop 2 Country": "nan",
         "Hop 3 IP": "nan",
         "Hop 3 Hostname": "nan",
         "Hop 3 RTT": "nan",
         "Hop 3 ASN": "nan",
         "Hop 3 City": "nan",
         "Hop 3 Country": "nan",
         "Hop 4 IP": "nan",
         "Hop 4 Hostname": "nan",
         "Hop 4 RTT": "nan",
         "Hop 4 ASN": "nan",
         "Hop 4 City": "nan",
         "Hop 4 Country": "nan",
         "Hop 5 IP": "nan",
         "Hop 5 Hostname": "nan",
         "Hop 5 RTT": "nan",
         "Hop 5 ASN": "nan",
         "Hop 5 City": "nan",
         "Hop 5 Country": "nan",
         "Hop 6 IP": "nan",
         "Hop 6 Hostname": "nan",
         "Hop 6 RTT": "nan",
         "Hop 6 ASN": "nan",
         "Hop 6 City": "nan",
         "Hop 6 Country": "nan",
         "Hop 7 IP": "nan",
         "Hop 7 Hostname": "nan",
         "Hop 7 RTT": "nan",
         "Hop 7 ASN": "nan",
         "Hop 7 City": "nan",
         "Hop 7 Country": "nan",
         "Hop 8 IP": "nan",
         "Hop 8 Hostname": "nan",
         "Hop 8 RTT": "nan",
         "Hop 8 ASN": "nan",
         "Hop 8 City": "nan",
         "Hop 8 Country": "nan",
         "Hop 9 IP": "nan",
         "Hop 9 Hostname": "nan",
         "Hop 9 RTT": "nan",
         "Hop 9 ASN": "nan",
         "Hop 9 City": "nan",
         "Hop 9 Country": "nan",
         "Hop 10 IP": "nan",
         "Hop 10 Hostname": "nan",
         "Hop 10 RTT": "nan",
         "Hop 10 ASN": "nan",
         "Hop 10 City": "nan",
         "Hop 10 Country": "nan",
         "Hop 11 IP": "nan",
         "Hop 11 Hostname": "nan",
         "Hop 11 RTT": "nan",
         "Hop 11 ASN": "nan",
         "Hop 11 City": "nan",
         "Hop 11 Country": "nan",
         "Hop 12 IP": "nan",
         "Hop 12 Hostname": "nan",
         "Hop 12 RTT": "nan",
         "Hop 12 ASN": "nan",
         "Hop 12 City": "nan",
         "Hop 12 Country": "nan",
         "Hop 13 IP": "nan",
         "Hop 13 Hostname": "nan",
         "Hop 13 RTT": "nan",
         "Hop 13 ASN": "nan",
         "Hop 13 City": "nan",
         "Hop 13 Country": "nan",
         "Hop 14 IP": "nan",
         "Hop 14 Hostname": "nan",
         "Hop 14 RTT": "nan",
         "Hop 14 ASN": "nan",
         "Hop 14 City": "nan",
         "Hop 14 Country": "nan",
         "Hop 15 IP": "nan",
         "Hop 15 Hostname": "nan",
         "Hop 15 RTT": "nan",
         "Hop 15 ASN": "nan",
         "Hop 15 City": "nan",
         "Hop 15 Country": "nan",
         "Hop 16 IP": "nan",
         "Hop 16 Hostname": "nan",
         "Hop 16 RTT": "nan",
         "Hop 16 ASN": "nan",
         "Hop 16 City": "nan",
         "Hop 16 Country": "nan",
         "Hop 17 IP": "nan",
         "Hop 17 Hostname": "nan",
         "Hop 17 RTT": "nan",
         "Hop 17 ASN": "nan",
         "Hop 17 City": "nan",
         "Hop 17 Country": "nan",
         "Hop 18 IP": "nan",
         "Hop 18 Hostname": "nan",
         "Hop 18 RTT": "nan",
         "Hop 18 ASN": "nan",
         "Hop 18 City": "nan",
         "Hop 18 Country": "nan",
         "Hop 19 IP": "nan",
         "Hop 19 Hostname": "nan",
         "Hop 19 RTT": "nan",
         "Hop 19 ASN": "nan",
         "Hop 19 City": "nan",
         "Hop 19 Country": "nan",
         "_deepnote_index_column": 72
        }
       ],
       "rows_bottom": null
      },
      "text/plain": "   Participant City Participant Country Connection  IPv        Destination  \\\n11            gland         switzerland         4g    4  www.instagram.com   \n12            gland         switzerland       wifi    6  www.instagram.com   \n49            gland         switzerland         4g    4    www.youtube.com   \n72            gland         switzerland       wifi    6    www.youtube.com   \n\n                          Destination IP Destination Hostname  \\\n11                         90.255.253.97              Unknown   \n12  2001:918:ff44:100:face:b00c:3333:a3f              Unknown   \n49                        90.255.254.176              Unknown   \n72                   2001:918:ffaa:2::10              Unknown   \n\n                 Destination ASN Destination City Destination Country  ...  \\\n11       AS5378 Vodafone Limited           Slough      United Kingdom  ...   \n12  AS3303 Swisscom (Schweiz) AG         Bolligen         Switzerland  ...   \n49       AS5378 Vodafone Limited           London      United Kingdom  ...   \n72  AS3303 Swisscom (Schweiz) AG         Bolligen         Switzerland  ...   \n\n    Hop 18 RTT Hop 18 ASN Hop 18 City  Hop 18 Country Hop 19 IP  \\\n11         NaN        NaN         NaN             NaN       NaN   \n12         NaN        NaN         NaN             NaN       NaN   \n49         NaN        NaN         NaN             NaN       NaN   \n72         NaN        NaN         NaN             NaN       NaN   \n\n   Hop 19 Hostname Hop 19 RTT Hop 19 ASN Hop 19 City  Hop 19 Country  \n11             NaN        NaN        NaN         NaN             NaN  \n12             NaN        NaN        NaN         NaN             NaN  \n49             NaN        NaN        NaN         NaN             NaN  \n72             NaN        NaN        NaN         NaN             NaN  \n\n[4 rows x 125 columns]",
      "text/html": "<div>\n<style scoped>\n    .dataframe tbody tr th:only-of-type {\n        vertical-align: middle;\n    }\n\n    .dataframe tbody tr th {\n        vertical-align: top;\n    }\n\n    .dataframe thead th {\n        text-align: right;\n    }\n</style>\n<table border=\"1\" class=\"dataframe\">\n  <thead>\n    <tr style=\"text-align: right;\">\n      <th></th>\n      <th>Participant City</th>\n      <th>Participant Country</th>\n      <th>Connection</th>\n      <th>IPv</th>\n      <th>Destination</th>\n      <th>Destination IP</th>\n      <th>Destination Hostname</th>\n      <th>Destination ASN</th>\n      <th>Destination City</th>\n      <th>Destination Country</th>\n      <th>...</th>\n      <th>Hop 18 RTT</th>\n      <th>Hop 18 ASN</th>\n      <th>Hop 18 City</th>\n      <th>Hop 18 Country</th>\n      <th>Hop 19 IP</th>\n      <th>Hop 19 Hostname</th>\n      <th>Hop 19 RTT</th>\n      <th>Hop 19 ASN</th>\n      <th>Hop 19 City</th>\n      <th>Hop 19 Country</th>\n    </tr>\n  </thead>\n  <tbody>\n    <tr>\n      <th>11</th>\n      <td>gland</td>\n      <td>switzerland</td>\n      <td>4g</td>\n      <td>4</td>\n      <td>www.instagram.com</td>\n      <td>90.255.253.97</td>\n      <td>Unknown</td>\n      <td>AS5378 Vodafone Limited</td>\n      <td>Slough</td>\n      <td>United Kingdom</td>\n      <td>...</td>\n      <td>NaN</td>\n      <td>NaN</td>\n      <td>NaN</td>\n      <td>NaN</td>\n      <td>NaN</td>\n      <td>NaN</td>\n      <td>NaN</td>\n      <td>NaN</td>\n      <td>NaN</td>\n      <td>NaN</td>\n    </tr>\n    <tr>\n      <th>12</th>\n      <td>gland</td>\n      <td>switzerland</td>\n      <td>wifi</td>\n      <td>6</td>\n      <td>www.instagram.com</td>\n      <td>2001:918:ff44:100:face:b00c:3333:a3f</td>\n      <td>Unknown</td>\n      <td>AS3303 Swisscom (Schweiz) AG</td>\n      <td>Bolligen</td>\n      <td>Switzerland</td>\n      <td>...</td>\n      <td>NaN</td>\n      <td>NaN</td>\n      <td>NaN</td>\n      <td>NaN</td>\n      <td>NaN</td>\n      <td>NaN</td>\n      <td>NaN</td>\n      <td>NaN</td>\n      <td>NaN</td>\n      <td>NaN</td>\n    </tr>\n    <tr>\n      <th>49</th>\n      <td>gland</td>\n      <td>switzerland</td>\n      <td>4g</td>\n      <td>4</td>\n      <td>www.youtube.com</td>\n      <td>90.255.254.176</td>\n      <td>Unknown</td>\n      <td>AS5378 Vodafone Limited</td>\n      <td>London</td>\n      <td>United Kingdom</td>\n      <td>...</td>\n      <td>NaN</td>\n      <td>NaN</td>\n      <td>NaN</td>\n      <td>NaN</td>\n      <td>NaN</td>\n      <td>NaN</td>\n      <td>NaN</td>\n      <td>NaN</td>\n      <td>NaN</td>\n      <td>NaN</td>\n    </tr>\n    <tr>\n      <th>72</th>\n      <td>gland</td>\n      <td>switzerland</td>\n      <td>wifi</td>\n      <td>6</td>\n      <td>www.youtube.com</td>\n      <td>2001:918:ffaa:2::10</td>\n      <td>Unknown</td>\n      <td>AS3303 Swisscom (Schweiz) AG</td>\n      <td>Bolligen</td>\n      <td>Switzerland</td>\n      <td>...</td>\n      <td>NaN</td>\n      <td>NaN</td>\n      <td>NaN</td>\n      <td>NaN</td>\n      <td>NaN</td>\n      <td>NaN</td>\n      <td>NaN</td>\n      <td>NaN</td>\n      <td>NaN</td>\n      <td>NaN</td>\n    </tr>\n  </tbody>\n</table>\n<p>4 rows × 125 columns</p>\n</div>"
     },
     "metadata": {}
    }
   ],
   "execution_count": 42
  },
  {
   "cell_type": "code",
   "source": "",
   "metadata": {
    "tags": [],
    "cell_id": "00023-83b4ec1e-d22d-4b6e-bb8a-c7acba32b768",
    "deepnote_cell_type": "code"
   },
   "outputs": [],
   "execution_count": null
  },
  {
   "cell_type": "code",
   "source": "",
   "metadata": {
    "tags": [],
    "cell_id": "00023-d6c23035-c870-4653-8825-b513c4cb9ac9",
    "deepnote_cell_type": "code"
   },
   "outputs": [],
   "execution_count": null
  },
  {
   "cell_type": "markdown",
   "source": "### Hop counts",
   "metadata": {
    "tags": [],
    "cell_id": "00023-daf21500-ff0f-4031-9918-6d6477555c4a",
    "deepnote_cell_type": "markdown"
   }
  },
  {
   "cell_type": "code",
   "source": "traceroutes['Trace Hop Count'].mean(skipna=True)",
   "metadata": {
    "tags": [],
    "cell_id": "00024-5becc4f0-b6b0-4d30-b4ba-b091630ddfc9",
    "deepnote_to_be_reexecuted": false,
    "source_hash": "7d7dc972",
    "execution_start": 1621068775082,
    "execution_millis": 6,
    "deepnote_cell_type": "code"
   },
   "outputs": [
    {
     "output_type": "execute_result",
     "execution_count": 43,
     "data": {
      "text/plain": "7.412280701754386"
     },
     "metadata": {}
    }
   ],
   "execution_count": 43
  },
  {
   "cell_type": "markdown",
   "source": "## References\n\n1. UKOM (2019) Q4 2019 UK Digital Market Overview report. Available from: https://ukom.uk.net/uploads/files/news/ukom/174/UKOM_Digital_Marketing_Overview_December_2019_final.pdf\n\n2. Ofcom (2020) Online Nation – 2020 report. Available from: https://www.ofcom.org.uk/__data/assets/pdf_file/0027/196407/online-nation-2020-report.pdf\n\n3. Solsman, J.E. (2018) Normally secretive Netflix inches back the curtain on how subscribers stream. 7 March 2018. CNET. Available from: https://www.cnet.com/news/netflix-shares-streaming-data-by-device-country-mobile-wi-fi-movies-tv/\n\n4. Hindy, J. (2019) How much data does YouTube actually use? 30 June 2019. Android Authority. Available from: https://www.androidauthority.com/how-much-data-does-youtube-use-964560/\n\n5. Sandvine (2020) The Mobile Internet Phenomena Report. Available from: https://www.sandvine.com/download-report-mobile-internet-phenomena-report-2020-sandvine\n\n6. Sandvine (2019) The Global Internet Phenomena Report. Available from: https://www.sandvine.com/global-internet-phenomena-report-2019\n\n7. Ofcom (2019) Connected Nations 2019. 20 December 2019. Ofcom. Available from: https://www.ofcom.org.uk/research-and-data/multi-sector-research/infrastructure-research/connected-nations-2019/main-report\n\n8. Chee, F.Y. (2020) YouTube, Amazon Prime forgo streaming quality to relieve European networks. Reuters. 20 March. Available from: https://uk.reuters.com/article/us-health-coronavirus-youtube-exclusive-idUKKBN2170OP\n\n9. Ofcom (2019) Media Nations: UK 2019. Available from: https://www.ofcom.org.uk/__data/assets/pdf_file/0019/160714/media-nations-2019-uk-report.pdf\n\n10. Office for National Statistics (2019) Overview of the UK population. 23 August 2019. Available from: https://www.ons.gov.uk/peoplepopulationandcommunity/populationandmigration/populationestimates/articles/overviewoftheukpopulation/august2019",
   "metadata": {
    "tags": [],
    "cell_id": "00003-c9fd8eb8-6b53-4beb-b6ad-d00b7de18602",
    "deepnote_cell_type": "markdown"
   }
  },
  {
   "cell_type": "markdown",
   "source": "<a style='text-decoration:none;line-height:16px;display:flex;color:#5B5B62;padding:10px;justify-content:end;' href='https://deepnote.com?utm_source=created-in-deepnote-cell&projectId=82ad941d-519a-4a94-b1a2-0a0958075b21' target=\"_blank\">\n<img alt='Created in deepnote.com' style='display:inline;max-height:16px;margin:0px;margin-right:7.5px;' src='data:image/svg+xml;base64,PD94bWwgdmVyc2lvbj0iMS4wIiBlbmNvZGluZz0iVVRGLTgiPz4KPHN2ZyB3aWR0aD0iODBweCIgaGVpZ2h0PSI4MHB4IiB2aWV3Qm94PSIwIDAgODAgODAiIHZlcnNpb249IjEuMSIgeG1sbnM9Imh0dHA6Ly93d3cudzMub3JnLzIwMDAvc3ZnIiB4bWxuczp4bGluaz0iaHR0cDovL3d3dy53My5vcmcvMTk5OS94bGluayI+CiAgICA8IS0tIEdlbmVyYXRvcjogU2tldGNoIDU0LjEgKDc2NDkwKSAtIGh0dHBzOi8vc2tldGNoYXBwLmNvbSAtLT4KICAgIDx0aXRsZT5Hcm91cCAzPC90aXRsZT4KICAgIDxkZXNjPkNyZWF0ZWQgd2l0aCBTa2V0Y2guPC9kZXNjPgogICAgPGcgaWQ9IkxhbmRpbmciIHN0cm9rZT0ibm9uZSIgc3Ryb2tlLXdpZHRoPSIxIiBmaWxsPSJub25lIiBmaWxsLXJ1bGU9ImV2ZW5vZGQiPgogICAgICAgIDxnIGlkPSJBcnRib2FyZCIgdHJhbnNmb3JtPSJ0cmFuc2xhdGUoLTEyMzUuMDAwMDAwLCAtNzkuMDAwMDAwKSI+CiAgICAgICAgICAgIDxnIGlkPSJHcm91cC0zIiB0cmFuc2Zvcm09InRyYW5zbGF0ZSgxMjM1LjAwMDAwMCwgNzkuMDAwMDAwKSI+CiAgICAgICAgICAgICAgICA8cG9seWdvbiBpZD0iUGF0aC0yMCIgZmlsbD0iIzAyNjVCNCIgcG9pbnRzPSIyLjM3NjIzNzYyIDgwIDM4LjA0NzY2NjcgODAgNTcuODIxNzgyMiA3My44MDU3NTkyIDU3LjgyMTc4MjIgMzIuNzU5MjczOSAzOS4xNDAyMjc4IDMxLjY4MzE2ODMiPjwvcG9seWdvbj4KICAgICAgICAgICAgICAgIDxwYXRoIGQ9Ik0zNS4wMDc3MTgsODAgQzQyLjkwNjIwMDcsNzYuNDU0OTM1OCA0Ny41NjQ5MTY3LDcxLjU0MjI2NzEgNDguOTgzODY2LDY1LjI2MTk5MzkgQzUxLjExMjI4OTksNTUuODQxNTg0MiA0MS42NzcxNzk1LDQ5LjIxMjIyODQgMjUuNjIzOTg0Niw0OS4yMTIyMjg0IEMyNS40ODQ5Mjg5LDQ5LjEyNjg0NDggMjkuODI2MTI5Niw0My4yODM4MjQ4IDM4LjY0NzU4NjksMzEuNjgzMTY4MyBMNzIuODcxMjg3MSwzMi41NTQ0MjUgTDY1LjI4MDk3Myw2Ny42NzYzNDIxIEw1MS4xMTIyODk5LDc3LjM3NjE0NCBMMzUuMDA3NzE4LDgwIFoiIGlkPSJQYXRoLTIyIiBmaWxsPSIjMDAyODY4Ij48L3BhdGg+CiAgICAgICAgICAgICAgICA8cGF0aCBkPSJNMCwzNy43MzA0NDA1IEwyNy4xMTQ1MzcsMC4yNTcxMTE0MzYgQzYyLjM3MTUxMjMsLTEuOTkwNzE3MDEgODAsMTAuNTAwMzkyNyA4MCwzNy43MzA0NDA1IEM4MCw2NC45NjA0ODgyIDY0Ljc3NjUwMzgsNzkuMDUwMzQxNCAzNC4zMjk1MTEzLDgwIEM0Ny4wNTUzNDg5LDc3LjU2NzA4MDggNTMuNDE4MjY3Nyw3MC4zMTM2MTAzIDUzLjQxODI2NzcsNTguMjM5NTg4NSBDNTMuNDE4MjY3Nyw0MC4xMjg1NTU3IDM2LjMwMzk1NDQsMzcuNzMwNDQwNSAyNS4yMjc0MTcsMzcuNzMwNDQwNSBDMTcuODQzMDU4NiwzNy43MzA0NDA1IDkuNDMzOTE5NjYsMzcuNzMwNDQwNSAwLDM3LjczMDQ0MDUgWiIgaWQ9IlBhdGgtMTkiIGZpbGw9IiMzNzkzRUYiPjwvcGF0aD4KICAgICAgICAgICAgPC9nPgogICAgICAgIDwvZz4KICAgIDwvZz4KPC9zdmc+' > </img>\nCreated in <span style='font-weight:600;margin-left:4px;'>Deepnote</span></a>",
   "metadata": {
    "tags": [],
    "created_in_deepnote_cell": true,
    "deepnote_cell_type": "markdown"
   }
  }
 ],
 "nbformat": 4,
 "nbformat_minor": 2,
 "metadata": {
  "orig_nbformat": 2,
  "deepnote": {
   "is_reactive": false
  },
  "deepnote_notebook_id": "66413cde-20b8-4b8c-9c9b-6e00d27747fd",
  "deepnote_execution_queue": []
 }
}