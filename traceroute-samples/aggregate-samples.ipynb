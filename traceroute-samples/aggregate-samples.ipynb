{
 "cells": [
  {
   "cell_type": "markdown",
   "source": "# The network energy intensity of video streaming over Wi-Fi and 4G\n\n**Authors:** David Mytton, Iain Staffell, Malte Jansen.\n\n**Institution:** Centre for Environmental Policy, Imperial College London, London, SW7 1NE, UK.\n\n**Correspondence:** <david@davidmytton.co.uk>.\n\n## This notebook\n\nThis notebook generates an aggregated CSV of all the traceroute samples ready to be read by the [main model](/model/model.ipynb). A pre-generated CSV is provided in `traceroute-samples.csv`.",
   "metadata": {
    "tags": [],
    "cell_id": "00000-10e444a2-1164-4f69-9389-a00fe208a0b0",
    "deepnote_cell_type": "markdown"
   }
  },
  {
   "cell_type": "markdown",
   "source": "#### Imports",
   "metadata": {
    "tags": [],
    "cell_id": "00001-8fbfe83f-ba57-45a2-88ba-46a6c693be52",
    "deepnote_cell_type": "markdown"
   }
  },
  {
   "cell_type": "code",
   "source": "%pip install -r requirements.txt\n\nimport csv\nimport json\nimport ipaddress\nimport os\n\nimport ipinfo",
   "metadata": {
    "tags": [],
    "cell_id": "00002-663df976-0322-4b50-af84-cc95dc3706e7",
    "deepnote_to_be_reexecuted": false,
    "source_hash": "9e335d5d",
    "execution_start": 1620929852352,
    "execution_millis": 2948,
    "output_cleared": true,
    "deepnote_cell_type": "code"
   },
   "outputs": [],
   "execution_count": 1
  },
  {
   "cell_type": "markdown",
   "source": "#### API Key\n\nAn API key for [IPInfo](https://ipinfo.io) must be provided, but they offer a free quota for their API.\n\nSet the `IPINFO_KEY` environment variable or drop your key in below.",
   "metadata": {
    "tags": [],
    "cell_id": "00003-7629ff10-effe-4fe8-93c8-cc7a28438e79",
    "deepnote_cell_type": "markdown"
   }
  },
  {
   "cell_type": "code",
   "source": "IPINFO_KEY = os.environ['IPINFO_KEY']",
   "metadata": {
    "tags": [],
    "cell_id": "00004-53781eff-7f5a-4b9a-8cbf-46ac6f03496b",
    "deepnote_to_be_reexecuted": false,
    "source_hash": "53b85d97",
    "execution_start": 1620929855304,
    "execution_millis": 2,
    "deepnote_cell_type": "code"
   },
   "outputs": [],
   "execution_count": 2
  },
  {
   "cell_type": "markdown",
   "source": "## Aggregate samples\n\nEach file is in Scamper JSON format. Loop through every file, perform a lookup against the IPInfo API and then write the output to `traceroute-samples.csv`.\n\nSample metadata is embedded in the filename using the format `results-COUNTRY-CITY-SAMPLENO-DESTINATION-CONNECTION.json` e.g. `results-uk-london-1-www.instagram.com-4g.json`.",
   "metadata": {
    "tags": [],
    "cell_id": "00005-9e8b1759-d2b1-4a45-ab8c-4a34436ff77c",
    "deepnote_cell_type": "markdown"
   }
  },
  {
   "cell_type": "code",
   "source": "fieldnames = [\n    'Participant City',\n    'Participant Country',\n    'Connection',\n    'IPv',\n    'Destination',\n    'Destination IP',\n    'Destination Hostname',\n    'Destination ASN',\n    'Destination City',\n    'Destination Country',\n    'Trace Hop Count',\n    'Hop 1 IP', 'Hop 1 Hostname', 'Hop 1 RTT', 'Hop 1 ASN', 'Hop 1 City', 'Hop 1 Country',\n    'Hop 2 IP', 'Hop 2 Hostname', 'Hop 2 RTT', 'Hop 2 ASN', 'Hop 2 City', 'Hop 2 Country',\n    'Hop 3 IP', 'Hop 3 Hostname', 'Hop 3 RTT', 'Hop 3 ASN', 'Hop 3 City', 'Hop 3 Country',\n    'Hop 4 IP', 'Hop 4 Hostname', 'Hop 4 RTT', 'Hop 4 ASN', 'Hop 4 City', 'Hop 4 Country',\n    'Hop 5 IP', 'Hop 5 Hostname', 'Hop 5 RTT', 'Hop 5 ASN', 'Hop 5 City', 'Hop 5 Country', \n    'Hop 6 IP', 'Hop 6 Hostname', 'Hop 6 RTT', 'Hop 6 ASN', 'Hop 6 City', 'Hop 6 Country',\n    'Hop 7 IP', 'Hop 7 Hostname', 'Hop 7 RTT', 'Hop 7 ASN', 'Hop 7 City', 'Hop 7 Country',\n    'Hop 8 IP', 'Hop 8 Hostname', 'Hop 8 RTT', 'Hop 8 ASN', 'Hop 8 City', 'Hop 8 Country',\n    'Hop 9 IP', 'Hop 9 Hostname', 'Hop 9 RTT', 'Hop 9 ASN', 'Hop 9 City', 'Hop 9 Country',\n    'Hop 10 IP', 'Hop 10 Hostname', 'Hop 10 RTT', 'Hop 10 ASN', 'Hop 10 City', 'Hop 10 Country',\n    'Hop 11 IP', 'Hop 11 Hostname', 'Hop 11 RTT', 'Hop 11 ASN', 'Hop 11 City', 'Hop 11 Country',\n    'Hop 12 IP', 'Hop 12 Hostname', 'Hop 12 RTT', 'Hop 12 ASN', 'Hop 12 City', 'Hop 12 Country',\n    'Hop 13 IP', 'Hop 13 Hostname', 'Hop 13 RTT', 'Hop 13 ASN', 'Hop 13 City', 'Hop 13 Country',\n    'Hop 14 IP', 'Hop 14 Hostname', 'Hop 14 RTT', 'Hop 14 ASN', 'Hop 14 City', 'Hop 14 Country',\n    'Hop 15 IP', 'Hop 15 Hostname', 'Hop 15 RTT', 'Hop 15 ASN', 'Hop 15 City', 'Hop 15 Country',\n    'Hop 16 IP', 'Hop 16 Hostname', 'Hop 16 RTT', 'Hop 16 ASN', 'Hop 16 City', 'Hop 16 Country',\n    'Hop 17 IP', 'Hop 17 Hostname', 'Hop 17 RTT', 'Hop 17 ASN', 'Hop 17 City', 'Hop 17 Country',\n    'Hop 18 IP', 'Hop 18 Hostname', 'Hop 18 RTT', 'Hop 18 ASN', 'Hop 18 City', 'Hop 18 Country',\n    'Hop 19 IP', 'Hop 19 Hostname', 'Hop 19 RTT', 'Hop 19 ASN', 'Hop 19 City', 'Hop 19 Country'\n]\n\nwith open('traceroute-samples.csv', 'w') as csvfile:\n    writer = csv.DictWriter(csvfile, fieldnames=fieldnames)\n    writer.writeheader()\n\n    # Loop through each of the JSON files, which we assume are Scamper output\n    for entry in os.scandir('samples/'):\n        scamper_filename = entry.path\n        print('Checking %s...' % (scamper_filename), end='')\n\n        if scamper_filename.endswith('.json'):\n            with open(scamper_filename, 'r') as f:\n                csv_line = {}\n                trace = json.load(f)\n\n                print('processing...', end='')\n\n                # Parse details from filename\n                scamper_filename = scamper_filename.replace(\n                    'samples/', '')  # Remove directory name\n                # Separate components\n                scamper_filename_split = scamper_filename.split('-')\n\n                csv_line['Participant City'] = scamper_filename_split[2]\n                csv_line['Participant Country'] = scamper_filename_split[1]\n                csv_line['Connection'] = scamper_filename_split[5].replace(\n                    '.json', '')\n                csv_line['Destination'] = scamper_filename_split[4]\n                csv_line['Destination IP'] = trace['dst']\n\n                ip = ipaddress.ip_address(trace['dst'])\n                csv_line['IPv'] = ip.version\n\n                #print('- destination...')\n\n                # Set up ipinfo lookup\n                ipinfo_handler = ipinfo.getHandler(IPINFO_KEY)\n\n                # ipinfo lookup: destination IP\n                ip_details = ipinfo_handler.getDetails(trace['dst'])\n\n                if hasattr(ip_details, 'hostname'):\n                    csv_line['Destination Hostname'] = ip_details.hostname\n                else:\n                    csv_line['Destination Hostname'] = 'Unknown'\n\n                csv_line['Destination ASN'] = ip_details.org\n                csv_line['Destination City'] = ip_details.city\n                csv_line['Destination Country'] = ip_details.country_name\n\n                # How many hops?\n                hops = trace['hop_count']\n\n                # If we hit the gap limit (5), subtract from the total\n                if trace['stop_reason'] == 'GAPLIMIT':\n                    hops = hops - 5\n\n                csv_line['Trace Hop Count'] = hops\n\n                #print('- hops...')\n\n                # Loop through the hops. For each hop:\n                # - query the IP from https://ipinfo.io\n                if 'hops' in trace:\n                    for hop in trace['hops']:\n                        #print('-- %s - ipinfo...' % (hop['addr']))\n                        ip_details = ipinfo_handler.getDetails(hop['addr'])\n                        hop_number = hop['probe_ttl']\n\n                        csv_line['Hop '\n                                 + str(hop_number)\n                                 + ' IP'] = hop['addr']\n                        csv_line['Hop '\n                                 + str(hop_number)\n                                 + ' RTT'] = hop['rtt']\n\n                        if hasattr(ip_details, 'hostname'):\n                            csv_line['Hop '\n                                     + str(hop_number)\n                                     + ' Hostname'] = ip_details.hostname\n                        else:\n                            csv_line['Hop '\n                                     + str(hop_number)\n                                     + ' Hostname'] = 'Unknown'\n\n                        if not hasattr(ip_details, 'bogon'):\n                            if hasattr(ip_details, 'org'):\n                                csv_line['Hop '\n                                         + str(hop_number)\n                                         + ' ASN'] = ip_details.org\n                            if hasattr(ip_details, 'city'):\n                                csv_line['Hop '\n                                         + str(hop_number)\n                                         + ' City'] = ip_details.city\n                            if hasattr(ip_details, 'country'):\n                                csv_line['Hop '\n                                         + str(hop_number)\n                                         + ' Country'] \\\n                                         = ip_details.country_name\n                else:\n                    print('no hops!', end='')\n\n                print('writing CSV...')                \n                writer.writerow(csv_line)\n                print(csv_line)\nprint('Finished')",
   "metadata": {
    "tags": [],
    "cell_id": "00007-32637db1-d442-4e46-9dbf-4d01b38d557f",
    "deepnote_to_be_reexecuted": false,
    "source_hash": "a927ac92",
    "execution_start": 1620929855321,
    "execution_millis": 99608,
    "output_cleared": true,
    "deepnote_cell_type": "code"
   },
   "outputs": [],
   "execution_count": 3
  },
  {
   "cell_type": "markdown",
   "source": "<a style='text-decoration:none;line-height:16px;display:flex;color:#5B5B62;padding:10px;justify-content:end;' href='https://deepnote.com?utm_source=created-in-deepnote-cell&projectId=82ad941d-519a-4a94-b1a2-0a0958075b21' target=\"_blank\">\n<img alt='Created in deepnote.com' style='display:inline;max-height:16px;margin:0px;margin-right:7.5px;' src='data:image/svg+xml;base64,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' > </img>\nCreated in <span style='font-weight:600;margin-left:4px;'>Deepnote</span></a>",
   "metadata": {
    "tags": [],
    "created_in_deepnote_cell": true,
    "deepnote_cell_type": "markdown"
   }
  }
 ],
 "nbformat": 4,
 "nbformat_minor": 2,
 "metadata": {
  "orig_nbformat": 2,
  "deepnote": {
   "is_reactive": false
  },
  "deepnote_notebook_id": "f85577bf-6261-41a6-bea3-f795caef7c11",
  "deepnote_execution_queue": []
 }
}